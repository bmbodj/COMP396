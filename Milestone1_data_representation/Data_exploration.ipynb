{
  "nbformat": 4,
  "nbformat_minor": 0,
  "metadata": {
    "colab": {
      "name": "Data_exploration.ipynb",
      "provenance": []
    },
    "kernelspec": {
      "name": "python3",
      "display_name": "Python 3"
    },
    "accelerator": "GPU"
  },
  "cells": [
    {
      "cell_type": "markdown",
      "metadata": {
        "id": "zumJX_qX0-VV",
        "colab_type": "text"
      },
      "source": [
        "COMP396 Milestone 1: Data exploration "
      ]
    },
    {
      "cell_type": "code",
      "metadata": {
        "id": "wSwVRA7G-PqV",
        "colab_type": "code",
        "outputId": "3604a899-cf16-403b-93fd-02b70927c7a6",
        "colab": {
          "base_uri": "https://localhost:8080/",
          "height": 124
        }
      },
      "source": [
        "# Load the Drive helper and mount\n",
        "from google.colab import drive\n",
        "\n",
        "# This will prompt for authorization.\n",
        "drive.mount('/content/drive')"
      ],
      "execution_count": 0,
      "outputs": [
        {
          "output_type": "stream",
          "text": [
            "Go to this URL in a browser: https://accounts.google.com/o/oauth2/auth?client_id=947318989803-6bn6qk8qdgf4n4g3pfee6491hc0brc4i.apps.googleusercontent.com&redirect_uri=urn%3Aietf%3Awg%3Aoauth%3A2.0%3Aoob&scope=email%20https%3A%2F%2Fwww.googleapis.com%2Fauth%2Fdocs.test%20https%3A%2F%2Fwww.googleapis.com%2Fauth%2Fdrive%20https%3A%2F%2Fwww.googleapis.com%2Fauth%2Fdrive.photos.readonly%20https%3A%2F%2Fwww.googleapis.com%2Fauth%2Fpeopleapi.readonly&response_type=code\n",
            "\n",
            "Enter your authorization code:\n",
            "··········\n",
            "Mounted at /content/drive\n"
          ],
          "name": "stdout"
        }
      ]
    },
    {
      "cell_type": "code",
      "metadata": {
        "id": "5_EPCHhm-e5x",
        "colab_type": "code",
        "outputId": "58089349-9f80-4d2a-ead2-b905087cc4ce",
        "colab": {
          "base_uri": "https://localhost:8080/",
          "height": 1000
        }
      },
      "source": [
        "!ls \"/content/drive/My Drive/dsb\"\n"
      ],
      "execution_count": 0,
      "outputs": [
        {
          "output_type": "stream",
          "text": [
            "dsgdb9nsd_000001.xyz  dsgdb9nsd_000168.xyz  dsgdb9nsd_000333.xyz\n",
            "dsgdb9nsd_000002.xyz  dsgdb9nsd_000169.xyz  dsgdb9nsd_000334.xyz\n",
            "dsgdb9nsd_000003.xyz  dsgdb9nsd_000170.xyz  dsgdb9nsd_000336.xyz\n",
            "dsgdb9nsd_000004.xyz  dsgdb9nsd_000171.xyz  dsgdb9nsd_000337.xyz\n",
            "dsgdb9nsd_000005.xyz  dsgdb9nsd_000172.xyz  dsgdb9nsd_000338.xyz\n",
            "dsgdb9nsd_000006.xyz  dsgdb9nsd_000173.xyz  dsgdb9nsd_000339.xyz\n",
            "dsgdb9nsd_000007.xyz  dsgdb9nsd_000174.xyz  dsgdb9nsd_000340.xyz\n",
            "dsgdb9nsd_000008.xyz  dsgdb9nsd_000175.xyz  dsgdb9nsd_000341.xyz\n",
            "dsgdb9nsd_000009.xyz  dsgdb9nsd_000176.xyz  dsgdb9nsd_000342.xyz\n",
            "dsgdb9nsd_000010.xyz  dsgdb9nsd_000177.xyz  dsgdb9nsd_000343.xyz\n",
            "dsgdb9nsd_000011.xyz  dsgdb9nsd_000178.xyz  dsgdb9nsd_000344.xyz\n",
            "dsgdb9nsd_000012.xyz  dsgdb9nsd_000179.xyz  dsgdb9nsd_000345.xyz\n",
            "dsgdb9nsd_000013.xyz  dsgdb9nsd_000180.xyz  dsgdb9nsd_000346.xyz\n",
            "dsgdb9nsd_000014.xyz  dsgdb9nsd_000181.xyz  dsgdb9nsd_000347.xyz\n",
            "dsgdb9nsd_000015.xyz  dsgdb9nsd_000182.xyz  dsgdb9nsd_000348.xyz\n",
            "dsgdb9nsd_000016.xyz  dsgdb9nsd_000183.xyz  dsgdb9nsd_000349.xyz\n",
            "dsgdb9nsd_000017.xyz  dsgdb9nsd_000184.xyz  dsgdb9nsd_000350.xyz\n",
            "dsgdb9nsd_000018.xyz  dsgdb9nsd_000185.xyz  dsgdb9nsd_000351.xyz\n",
            "dsgdb9nsd_000019.xyz  dsgdb9nsd_000186.xyz  dsgdb9nsd_000352.xyz\n",
            "dsgdb9nsd_000020.xyz  dsgdb9nsd_000187.xyz  dsgdb9nsd_000353.xyz\n",
            "dsgdb9nsd_000021.xyz  dsgdb9nsd_000188.xyz  dsgdb9nsd_000354.xyz\n",
            "dsgdb9nsd_000022.xyz  dsgdb9nsd_000189.xyz  dsgdb9nsd_000355.xyz\n",
            "dsgdb9nsd_000023.xyz  dsgdb9nsd_000190.xyz  dsgdb9nsd_000356.xyz\n",
            "dsgdb9nsd_000024.xyz  dsgdb9nsd_000191.xyz  dsgdb9nsd_000357.xyz\n",
            "dsgdb9nsd_000025.xyz  dsgdb9nsd_000192.xyz  dsgdb9nsd_000358.xyz\n",
            "dsgdb9nsd_000026.xyz  dsgdb9nsd_000193.xyz  dsgdb9nsd_000359.xyz\n",
            "dsgdb9nsd_000027.xyz  dsgdb9nsd_000194.xyz  dsgdb9nsd_000360.xyz\n",
            "dsgdb9nsd_000028.xyz  dsgdb9nsd_000195.xyz  dsgdb9nsd_000361.xyz\n",
            "dsgdb9nsd_000029.xyz  dsgdb9nsd_000196.xyz  dsgdb9nsd_000362.xyz\n",
            "dsgdb9nsd_000030.xyz  dsgdb9nsd_000197.xyz  dsgdb9nsd_000363.xyz\n",
            "dsgdb9nsd_000031.xyz  dsgdb9nsd_000198.xyz  dsgdb9nsd_000364.xyz\n",
            "dsgdb9nsd_000032.xyz  dsgdb9nsd_000199.xyz  dsgdb9nsd_000365.xyz\n",
            "dsgdb9nsd_000033.xyz  dsgdb9nsd_000200.xyz  dsgdb9nsd_000366.xyz\n",
            "dsgdb9nsd_000034.xyz  dsgdb9nsd_000201.xyz  dsgdb9nsd_000367.xyz\n",
            "dsgdb9nsd_000035.xyz  dsgdb9nsd_000202.xyz  dsgdb9nsd_000368.xyz\n",
            "dsgdb9nsd_000036.xyz  dsgdb9nsd_000203.xyz  dsgdb9nsd_000369.xyz\n",
            "dsgdb9nsd_000037.xyz  dsgdb9nsd_000204.xyz  dsgdb9nsd_000370.xyz\n",
            "dsgdb9nsd_000038.xyz  dsgdb9nsd_000205.xyz  dsgdb9nsd_000371.xyz\n",
            "dsgdb9nsd_000039.xyz  dsgdb9nsd_000206.xyz  dsgdb9nsd_000372.xyz\n",
            "dsgdb9nsd_000040.xyz  dsgdb9nsd_000207.xyz  dsgdb9nsd_000373.xyz\n",
            "dsgdb9nsd_000041.xyz  dsgdb9nsd_000208.xyz  dsgdb9nsd_000374.xyz\n",
            "dsgdb9nsd_000042.xyz  dsgdb9nsd_000209.xyz  dsgdb9nsd_000375.xyz\n",
            "dsgdb9nsd_000043.xyz  dsgdb9nsd_000210.xyz  dsgdb9nsd_000376.xyz\n",
            "dsgdb9nsd_000044.xyz  dsgdb9nsd_000211.xyz  dsgdb9nsd_000377.xyz\n",
            "dsgdb9nsd_000045.xyz  dsgdb9nsd_000212.xyz  dsgdb9nsd_000378.xyz\n",
            "dsgdb9nsd_000046.xyz  dsgdb9nsd_000213.xyz  dsgdb9nsd_000379.xyz\n",
            "dsgdb9nsd_000047.xyz  dsgdb9nsd_000214.xyz  dsgdb9nsd_000380.xyz\n",
            "dsgdb9nsd_000048.xyz  dsgdb9nsd_000215.xyz  dsgdb9nsd_000381.xyz\n",
            "dsgdb9nsd_000049.xyz  dsgdb9nsd_000216.xyz  dsgdb9nsd_000382.xyz\n",
            "dsgdb9nsd_000050.xyz  dsgdb9nsd_000217.xyz  dsgdb9nsd_000383.xyz\n",
            "dsgdb9nsd_000051.xyz  dsgdb9nsd_000218.xyz  dsgdb9nsd_000384.xyz\n",
            "dsgdb9nsd_000052.xyz  dsgdb9nsd_000219.xyz  dsgdb9nsd_000385.xyz\n",
            "dsgdb9nsd_000053.xyz  dsgdb9nsd_000220.xyz  dsgdb9nsd_000386.xyz\n",
            "dsgdb9nsd_000054.xyz  dsgdb9nsd_000221.xyz  dsgdb9nsd_000387.xyz\n",
            "dsgdb9nsd_000055.xyz  dsgdb9nsd_000222.xyz  dsgdb9nsd_000388.xyz\n",
            "dsgdb9nsd_000056.xyz  dsgdb9nsd_000223.xyz  dsgdb9nsd_000389.xyz\n",
            "dsgdb9nsd_000057.xyz  dsgdb9nsd_000224.xyz  dsgdb9nsd_000390.xyz\n",
            "dsgdb9nsd_000058.xyz  dsgdb9nsd_000225.xyz  dsgdb9nsd_000391.xyz\n",
            "dsgdb9nsd_000059.xyz  dsgdb9nsd_000226.xyz  dsgdb9nsd_000392.xyz\n",
            "dsgdb9nsd_000060.xyz  dsgdb9nsd_000227.xyz  dsgdb9nsd_000393.xyz\n",
            "dsgdb9nsd_000061.xyz  dsgdb9nsd_000228.xyz  dsgdb9nsd_000394.xyz\n",
            "dsgdb9nsd_000062.xyz  dsgdb9nsd_000229.xyz  dsgdb9nsd_000395.xyz\n",
            "dsgdb9nsd_000063.xyz  dsgdb9nsd_000230.xyz  dsgdb9nsd_000396.xyz\n",
            "dsgdb9nsd_000064.xyz  dsgdb9nsd_000231.xyz  dsgdb9nsd_000397.xyz\n",
            "dsgdb9nsd_000065.xyz  dsgdb9nsd_000232.xyz  dsgdb9nsd_000398.xyz\n",
            "dsgdb9nsd_000066.xyz  dsgdb9nsd_000233.xyz  dsgdb9nsd_000399.xyz\n",
            "dsgdb9nsd_000067.xyz  dsgdb9nsd_000234.xyz  dsgdb9nsd_000400.xyz\n",
            "dsgdb9nsd_000068.xyz  dsgdb9nsd_000235.xyz  dsgdb9nsd_000401.xyz\n",
            "dsgdb9nsd_000069.xyz  dsgdb9nsd_000236.xyz  dsgdb9nsd_000402.xyz\n",
            "dsgdb9nsd_000070.xyz  dsgdb9nsd_000237.xyz  dsgdb9nsd_000403.xyz\n",
            "dsgdb9nsd_000071.xyz  dsgdb9nsd_000238.xyz  dsgdb9nsd_000404.xyz\n",
            "dsgdb9nsd_000072.xyz  dsgdb9nsd_000239.xyz  dsgdb9nsd_000405.xyz\n",
            "dsgdb9nsd_000073.xyz  dsgdb9nsd_000240.xyz  dsgdb9nsd_000406.xyz\n",
            "dsgdb9nsd_000074.xyz  dsgdb9nsd_000241.xyz  dsgdb9nsd_000407.xyz\n",
            "dsgdb9nsd_000075.xyz  dsgdb9nsd_000242.xyz  dsgdb9nsd_000408.xyz\n",
            "dsgdb9nsd_000076.xyz  dsgdb9nsd_000243.xyz  dsgdb9nsd_000409.xyz\n",
            "dsgdb9nsd_000077.xyz  dsgdb9nsd_000244.xyz  dsgdb9nsd_000410.xyz\n",
            "dsgdb9nsd_000078.xyz  dsgdb9nsd_000245.xyz  dsgdb9nsd_000411.xyz\n",
            "dsgdb9nsd_000079.xyz  dsgdb9nsd_000246.xyz  dsgdb9nsd_000412.xyz\n",
            "dsgdb9nsd_000080.xyz  dsgdb9nsd_000247.xyz  dsgdb9nsd_000413.xyz\n",
            "dsgdb9nsd_000081.xyz  dsgdb9nsd_000248.xyz  dsgdb9nsd_000414.xyz\n",
            "dsgdb9nsd_000082.xyz  dsgdb9nsd_000249.xyz  dsgdb9nsd_000415.xyz\n",
            "dsgdb9nsd_000083.xyz  dsgdb9nsd_000250.xyz  dsgdb9nsd_000416.xyz\n",
            "dsgdb9nsd_000084.xyz  dsgdb9nsd_000251.xyz  dsgdb9nsd_000417.xyz\n",
            "dsgdb9nsd_000085.xyz  dsgdb9nsd_000252.xyz  dsgdb9nsd_000418.xyz\n",
            "dsgdb9nsd_000086.xyz  dsgdb9nsd_000253.xyz  dsgdb9nsd_000419.xyz\n",
            "dsgdb9nsd_000087.xyz  dsgdb9nsd_000254.xyz  dsgdb9nsd_000420.xyz\n",
            "dsgdb9nsd_000088.xyz  dsgdb9nsd_000255.xyz  dsgdb9nsd_000421.xyz\n",
            "dsgdb9nsd_000089.xyz  dsgdb9nsd_000256.xyz  dsgdb9nsd_000422.xyz\n",
            "dsgdb9nsd_000090.xyz  dsgdb9nsd_000257.xyz  dsgdb9nsd_000423.xyz\n",
            "dsgdb9nsd_000091.xyz  dsgdb9nsd_000258.xyz  dsgdb9nsd_000424.xyz\n",
            "dsgdb9nsd_000092.xyz  dsgdb9nsd_000259.xyz  dsgdb9nsd_000425.xyz\n",
            "dsgdb9nsd_000093.xyz  dsgdb9nsd_000260.xyz  dsgdb9nsd_000426.xyz\n",
            "dsgdb9nsd_000094.xyz  dsgdb9nsd_000261.xyz  dsgdb9nsd_000427.xyz\n",
            "dsgdb9nsd_000095.xyz  dsgdb9nsd_000262.xyz  dsgdb9nsd_000428.xyz\n",
            "dsgdb9nsd_000096.xyz  dsgdb9nsd_000263.xyz  dsgdb9nsd_000429.xyz\n",
            "dsgdb9nsd_000097.xyz  dsgdb9nsd_000264.xyz  dsgdb9nsd_000430.xyz\n",
            "dsgdb9nsd_000098.xyz  dsgdb9nsd_000265.xyz  dsgdb9nsd_000431.xyz\n",
            "dsgdb9nsd_000099.xyz  dsgdb9nsd_000266.xyz  dsgdb9nsd_000432.xyz\n",
            "dsgdb9nsd_000100.xyz  dsgdb9nsd_000267.xyz  dsgdb9nsd_000433.xyz\n",
            "dsgdb9nsd_000101.xyz  dsgdb9nsd_000268.xyz  dsgdb9nsd_000434.xyz\n",
            "dsgdb9nsd_000102.xyz  dsgdb9nsd_000269.xyz  dsgdb9nsd_000435.xyz\n",
            "dsgdb9nsd_000103.xyz  dsgdb9nsd_000270.xyz  dsgdb9nsd_000436.xyz\n",
            "dsgdb9nsd_000104.xyz  dsgdb9nsd_000271.xyz  dsgdb9nsd_000437.xyz\n",
            "dsgdb9nsd_000105.xyz  dsgdb9nsd_000272.xyz  dsgdb9nsd_000438.xyz\n",
            "dsgdb9nsd_000106.xyz  dsgdb9nsd_000273.xyz  dsgdb9nsd_000440.xyz\n",
            "dsgdb9nsd_000107.xyz  dsgdb9nsd_000274.xyz  dsgdb9nsd_000441.xyz\n",
            "dsgdb9nsd_000108.xyz  dsgdb9nsd_000275.xyz  dsgdb9nsd_000442.xyz\n",
            "dsgdb9nsd_000109.xyz  dsgdb9nsd_000276.xyz  dsgdb9nsd_000443.xyz\n",
            "dsgdb9nsd_000110.xyz  dsgdb9nsd_000277.xyz  dsgdb9nsd_000444.xyz\n",
            "dsgdb9nsd_000111.xyz  dsgdb9nsd_000278.xyz  dsgdb9nsd_000445.xyz\n",
            "dsgdb9nsd_000112.xyz  dsgdb9nsd_000279.xyz  dsgdb9nsd_000446.xyz\n",
            "dsgdb9nsd_000113.xyz  dsgdb9nsd_000280.xyz  dsgdb9nsd_000447.xyz\n",
            "dsgdb9nsd_000114.xyz  dsgdb9nsd_000281.xyz  dsgdb9nsd_000448.xyz\n",
            "dsgdb9nsd_000115.xyz  dsgdb9nsd_000282.xyz  dsgdb9nsd_000449.xyz\n",
            "dsgdb9nsd_000116.xyz  dsgdb9nsd_000283.xyz  dsgdb9nsd_000450.xyz\n",
            "dsgdb9nsd_000117.xyz  dsgdb9nsd_000284.xyz  dsgdb9nsd_000451.xyz\n",
            "dsgdb9nsd_000119.xyz  dsgdb9nsd_000285.xyz  dsgdb9nsd_000452.xyz\n",
            "dsgdb9nsd_000120.xyz  dsgdb9nsd_000286.xyz  dsgdb9nsd_000453.xyz\n",
            "dsgdb9nsd_000121.xyz  dsgdb9nsd_000287.xyz  dsgdb9nsd_000454.xyz\n",
            "dsgdb9nsd_000122.xyz  dsgdb9nsd_000288.xyz  dsgdb9nsd_000455.xyz\n",
            "dsgdb9nsd_000123.xyz  dsgdb9nsd_000289.xyz  dsgdb9nsd_000456.xyz\n",
            "dsgdb9nsd_000124.xyz  dsgdb9nsd_000290.xyz  dsgdb9nsd_000457.xyz\n",
            "dsgdb9nsd_000125.xyz  dsgdb9nsd_000291.xyz  dsgdb9nsd_000458.xyz\n",
            "dsgdb9nsd_000126.xyz  dsgdb9nsd_000292.xyz  dsgdb9nsd_000459.xyz\n",
            "dsgdb9nsd_000128.xyz  dsgdb9nsd_000293.xyz  dsgdb9nsd_000460.xyz\n",
            "dsgdb9nsd_000129.xyz  dsgdb9nsd_000294.xyz  dsgdb9nsd_000461.xyz\n",
            "dsgdb9nsd_000130.xyz  dsgdb9nsd_000295.xyz  dsgdb9nsd_000462.xyz\n",
            "dsgdb9nsd_000131.xyz  dsgdb9nsd_000296.xyz  dsgdb9nsd_000463.xyz\n",
            "dsgdb9nsd_000132.xyz  dsgdb9nsd_000297.xyz  dsgdb9nsd_000464.xyz\n",
            "dsgdb9nsd_000133.xyz  dsgdb9nsd_000298.xyz  dsgdb9nsd_000466.xyz\n",
            "dsgdb9nsd_000134.xyz  dsgdb9nsd_000299.xyz  dsgdb9nsd_000467.xyz\n",
            "dsgdb9nsd_000135.xyz  dsgdb9nsd_000300.xyz  dsgdb9nsd_000468.xyz\n",
            "dsgdb9nsd_000136.xyz  dsgdb9nsd_000301.xyz  dsgdb9nsd_000469.xyz\n",
            "dsgdb9nsd_000137.xyz  dsgdb9nsd_000302.xyz  dsgdb9nsd_000470.xyz\n",
            "dsgdb9nsd_000138.xyz  dsgdb9nsd_000303.xyz  dsgdb9nsd_000471.xyz\n",
            "dsgdb9nsd_000139.xyz  dsgdb9nsd_000304.xyz  dsgdb9nsd_000472.xyz\n",
            "dsgdb9nsd_000140.xyz  dsgdb9nsd_000305.xyz  dsgdb9nsd_000473.xyz\n",
            "dsgdb9nsd_000141.xyz  dsgdb9nsd_000306.xyz  dsgdb9nsd_000474.xyz\n",
            "dsgdb9nsd_000142.xyz  dsgdb9nsd_000307.xyz  dsgdb9nsd_000475.xyz\n",
            "dsgdb9nsd_000143.xyz  dsgdb9nsd_000308.xyz  dsgdb9nsd_000476.xyz\n",
            "dsgdb9nsd_000144.xyz  dsgdb9nsd_000309.xyz  dsgdb9nsd_000477.xyz\n",
            "dsgdb9nsd_000145.xyz  dsgdb9nsd_000310.xyz  dsgdb9nsd_000478.xyz\n",
            "dsgdb9nsd_000146.xyz  dsgdb9nsd_000311.xyz  dsgdb9nsd_000479.xyz\n",
            "dsgdb9nsd_000147.xyz  dsgdb9nsd_000312.xyz  dsgdb9nsd_000480.xyz\n",
            "dsgdb9nsd_000148.xyz  dsgdb9nsd_000313.xyz  dsgdb9nsd_000481.xyz\n",
            "dsgdb9nsd_000149.xyz  dsgdb9nsd_000314.xyz  dsgdb9nsd_000482.xyz\n",
            "dsgdb9nsd_000150.xyz  dsgdb9nsd_000315.xyz  dsgdb9nsd_000483.xyz\n",
            "dsgdb9nsd_000151.xyz  dsgdb9nsd_000316.xyz  dsgdb9nsd_000484.xyz\n",
            "dsgdb9nsd_000152.xyz  dsgdb9nsd_000317.xyz  dsgdb9nsd_000485.xyz\n",
            "dsgdb9nsd_000153.xyz  dsgdb9nsd_000318.xyz  dsgdb9nsd_000486.xyz\n",
            "dsgdb9nsd_000154.xyz  dsgdb9nsd_000319.xyz  dsgdb9nsd_000487.xyz\n",
            "dsgdb9nsd_000155.xyz  dsgdb9nsd_000320.xyz  dsgdb9nsd_000488.xyz\n",
            "dsgdb9nsd_000156.xyz  dsgdb9nsd_000321.xyz  dsgdb9nsd_000489.xyz\n",
            "dsgdb9nsd_000157.xyz  dsgdb9nsd_000322.xyz  dsgdb9nsd_000490.xyz\n",
            "dsgdb9nsd_000158.xyz  dsgdb9nsd_000323.xyz  dsgdb9nsd_000491.xyz\n",
            "dsgdb9nsd_000159.xyz  dsgdb9nsd_000324.xyz  dsgdb9nsd_000492.xyz\n",
            "dsgdb9nsd_000160.xyz  dsgdb9nsd_000325.xyz  dsgdb9nsd_000493.xyz\n",
            "dsgdb9nsd_000161.xyz  dsgdb9nsd_000326.xyz  dsgdb9nsd_000494.xyz\n",
            "dsgdb9nsd_000162.xyz  dsgdb9nsd_000327.xyz  dsgdb9nsd_000495.xyz\n",
            "dsgdb9nsd_000163.xyz  dsgdb9nsd_000328.xyz  dsgdb9nsd_000496.xyz\n",
            "dsgdb9nsd_000164.xyz  dsgdb9nsd_000329.xyz  dsgdb9nsd_000497.xyz\n",
            "dsgdb9nsd_000165.xyz  dsgdb9nsd_000330.xyz  dsgdb9nsd_000498.xyz\n",
            "dsgdb9nsd_000166.xyz  dsgdb9nsd_000331.xyz  dsgdb9nsd_000499.xyz\n",
            "dsgdb9nsd_000167.xyz  dsgdb9nsd_000332.xyz  dsgdb9nsd_000500.xyz\n"
          ],
          "name": "stdout"
        }
      ]
    },
    {
      "cell_type": "code",
      "metadata": {
        "id": "qKHx9G8d0VlI",
        "colab_type": "code",
        "colab": {}
      },
      "source": [
        "# Torch\n",
        "import torch\n",
        "import torch.optim as optim\n",
        "import torch.nn as nn\n",
        "from torch.autograd import Variable\n",
        "\n",
        "import time\n",
        "import argparse\n",
        "import os\n",
        "import numpy as np"
      ],
      "execution_count": 0,
      "outputs": []
    },
    {
      "cell_type": "code",
      "metadata": {
        "id": "TjkllVE94y-y",
        "colab_type": "code",
        "outputId": "b105dc68-ee02-41ac-f530-ab0bc4ded3c5",
        "colab": {
          "base_uri": "https://localhost:8080/",
          "height": 1000
        }
      },
      "source": [
        "!wget -c https://repo.continuum.io/miniconda/Miniconda3-latest-Linux-x86_64.sh\n",
        "!chmod +x Miniconda3-latest-Linux-x86_64.sh\n",
        "!time bash ./Miniconda3-latest-Linux-x86_64.sh -b -f -p /usr/local\n",
        "!time conda install -q -y -c conda-forge rdkit"
      ],
      "execution_count": 0,
      "outputs": [
        {
          "output_type": "stream",
          "text": [
            "--2019-09-24 20:28:09--  https://repo.continuum.io/miniconda/Miniconda3-latest-Linux-x86_64.sh\n",
            "Resolving repo.continuum.io (repo.continuum.io)... 104.18.201.79, 104.18.200.79, 2606:4700::6812:c84f, ...\n",
            "Connecting to repo.continuum.io (repo.continuum.io)|104.18.201.79|:443... connected.\n",
            "HTTP request sent, awaiting response... 200 OK\n",
            "Length: 75257002 (72M) [application/x-sh]\n",
            "Saving to: ‘Miniconda3-latest-Linux-x86_64.sh’\n",
            "\n",
            "Miniconda3-latest-L 100%[===================>]  71.77M  84.9MB/s    in 0.8s    \n",
            "\n",
            "2019-09-24 20:28:10 (84.9 MB/s) - ‘Miniconda3-latest-Linux-x86_64.sh’ saved [75257002/75257002]\n",
            "\n",
            "PREFIX=/usr/local\n",
            "Unpacking payload ...\n",
            "Collecting package metadata (current_repodata.json): - \b\b\\ \b\bdone\n",
            "Solving environment: / \b\b- \b\b\\ \b\bdone\n",
            "\n",
            "## Package Plan ##\n",
            "\n",
            "  environment location: /usr/local\n",
            "\n",
            "  added / updated specs:\n",
            "    - _libgcc_mutex==0.1=main\n",
            "    - asn1crypto==0.24.0=py37_0\n",
            "    - bzip2==1.0.8=h7b6447c_0\n",
            "    - ca-certificates==2019.5.15=0\n",
            "    - certifi==2019.6.16=py37_0\n",
            "    - cffi==1.12.3=py37h2e261b9_0\n",
            "    - chardet==3.0.4=py37_1\n",
            "    - conda-package-handling==1.3.11=py37_0\n",
            "    - conda==4.7.10=py37_0\n",
            "    - cryptography==2.7=py37h1ba5d50_0\n",
            "    - idna==2.8=py37_0\n",
            "    - libarchive==3.3.3=h5d8350f_5\n",
            "    - libedit==3.1.20181209=hc058e9b_0\n",
            "    - libffi==3.2.1=hd88cf55_4\n",
            "    - libgcc-ng==9.1.0=hdf63c60_0\n",
            "    - libstdcxx-ng==9.1.0=hdf63c60_0\n",
            "    - libxml2==2.9.9=hea5a465_1\n",
            "    - lz4-c==1.8.1.2=h14c3975_0\n",
            "    - lzo==2.10=h49e0be7_2\n",
            "    - ncurses==6.1=he6710b0_1\n",
            "    - openssl==1.1.1c=h7b6447c_1\n",
            "    - pip==19.1.1=py37_0\n",
            "    - pycosat==0.6.3=py37h14c3975_0\n",
            "    - pycparser==2.19=py37_0\n",
            "    - pyopenssl==19.0.0=py37_0\n",
            "    - pysocks==1.7.0=py37_0\n",
            "    - python-libarchive-c==2.8=py37_11\n",
            "    - python==3.7.3=h0371630_0\n",
            "    - readline==7.0=h7b6447c_5\n",
            "    - requests==2.22.0=py37_0\n",
            "    - ruamel_yaml==0.15.46=py37h14c3975_0\n",
            "    - setuptools==41.0.1=py37_0\n",
            "    - six==1.12.0=py37_0\n",
            "    - sqlite==3.29.0=h7b6447c_0\n",
            "    - tk==8.6.8=hbc83047_0\n",
            "    - tqdm==4.32.1=py_0\n",
            "    - urllib3==1.24.2=py37_0\n",
            "    - wheel==0.33.4=py37_0\n",
            "    - xz==5.2.4=h14c3975_4\n",
            "    - yaml==0.1.7=had09818_2\n",
            "    - zlib==1.2.11=h7b6447c_3\n",
            "    - zstd==1.3.7=h0b5b093_0\n",
            "\n",
            "\n",
            "The following NEW packages will be INSTALLED:\n",
            "\n",
            "  _libgcc_mutex      pkgs/main/linux-64::_libgcc_mutex-0.1-main\n",
            "  asn1crypto         pkgs/main/linux-64::asn1crypto-0.24.0-py37_0\n",
            "  bzip2              pkgs/main/linux-64::bzip2-1.0.8-h7b6447c_0\n",
            "  ca-certificates    pkgs/main/linux-64::ca-certificates-2019.5.15-0\n",
            "  certifi            pkgs/main/linux-64::certifi-2019.6.16-py37_0\n",
            "  cffi               pkgs/main/linux-64::cffi-1.12.3-py37h2e261b9_0\n",
            "  chardet            pkgs/main/linux-64::chardet-3.0.4-py37_1\n",
            "  conda              pkgs/main/linux-64::conda-4.7.10-py37_0\n",
            "  conda-package-han~ pkgs/main/linux-64::conda-package-handling-1.3.11-py37_0\n",
            "  cryptography       pkgs/main/linux-64::cryptography-2.7-py37h1ba5d50_0\n",
            "  idna               pkgs/main/linux-64::idna-2.8-py37_0\n",
            "  libarchive         pkgs/main/linux-64::libarchive-3.3.3-h5d8350f_5\n",
            "  libedit            pkgs/main/linux-64::libedit-3.1.20181209-hc058e9b_0\n",
            "  libffi             pkgs/main/linux-64::libffi-3.2.1-hd88cf55_4\n",
            "  libgcc-ng          pkgs/main/linux-64::libgcc-ng-9.1.0-hdf63c60_0\n",
            "  libstdcxx-ng       pkgs/main/linux-64::libstdcxx-ng-9.1.0-hdf63c60_0\n",
            "  libxml2            pkgs/main/linux-64::libxml2-2.9.9-hea5a465_1\n",
            "  lz4-c              pkgs/main/linux-64::lz4-c-1.8.1.2-h14c3975_0\n",
            "  lzo                pkgs/main/linux-64::lzo-2.10-h49e0be7_2\n",
            "  ncurses            pkgs/main/linux-64::ncurses-6.1-he6710b0_1\n",
            "  openssl            pkgs/main/linux-64::openssl-1.1.1c-h7b6447c_1\n",
            "  pip                pkgs/main/linux-64::pip-19.1.1-py37_0\n",
            "  pycosat            pkgs/main/linux-64::pycosat-0.6.3-py37h14c3975_0\n",
            "  pycparser          pkgs/main/linux-64::pycparser-2.19-py37_0\n",
            "  pyopenssl          pkgs/main/linux-64::pyopenssl-19.0.0-py37_0\n",
            "  pysocks            pkgs/main/linux-64::pysocks-1.7.0-py37_0\n",
            "  python             pkgs/main/linux-64::python-3.7.3-h0371630_0\n",
            "  python-libarchive~ pkgs/main/linux-64::python-libarchive-c-2.8-py37_11\n",
            "  readline           pkgs/main/linux-64::readline-7.0-h7b6447c_5\n",
            "  requests           pkgs/main/linux-64::requests-2.22.0-py37_0\n",
            "  ruamel_yaml        pkgs/main/linux-64::ruamel_yaml-0.15.46-py37h14c3975_0\n",
            "  setuptools         pkgs/main/linux-64::setuptools-41.0.1-py37_0\n",
            "  six                pkgs/main/linux-64::six-1.12.0-py37_0\n",
            "  sqlite             pkgs/main/linux-64::sqlite-3.29.0-h7b6447c_0\n",
            "  tk                 pkgs/main/linux-64::tk-8.6.8-hbc83047_0\n",
            "  tqdm               pkgs/main/noarch::tqdm-4.32.1-py_0\n",
            "  urllib3            pkgs/main/linux-64::urllib3-1.24.2-py37_0\n",
            "  wheel              pkgs/main/linux-64::wheel-0.33.4-py37_0\n",
            "  xz                 pkgs/main/linux-64::xz-5.2.4-h14c3975_4\n",
            "  yaml               pkgs/main/linux-64::yaml-0.1.7-had09818_2\n",
            "  zlib               pkgs/main/linux-64::zlib-1.2.11-h7b6447c_3\n",
            "  zstd               pkgs/main/linux-64::zstd-1.3.7-h0b5b093_0\n",
            "\n",
            "\n",
            "Preparing transaction: / \b\b- \b\b\\ \b\b| \b\b/ \b\b- \b\b\\ \b\bdone\n",
            "Executing transaction: / \b\b- \b\b\\ \b\b| \b\b/ \b\b- \b\b\\ \b\b| \b\b/ \b\b- \b\b\\ \b\b| \b\b/ WARNING conda.core.envs_manager:register_env(46): Unable to register environment. Path not writable or missing.\n",
            "  environment location: /usr/local\n",
            "  registry file: /root/.conda/environments.txt\n",
            "\b\bdone\n",
            "installation finished.\n",
            "WARNING:\n",
            "    You currently have a PYTHONPATH environment variable set. This may cause\n",
            "    unexpected behavior when running the Python interpreter in Miniconda3.\n",
            "    For best results, please verify that your PYTHONPATH only points to\n",
            "    directories of packages that are compatible with the Python interpreter\n",
            "    in Miniconda3: /usr/local\n",
            "\n",
            "real\t0m15.539s\n",
            "user\t0m8.601s\n",
            "sys\t0m3.290s\n",
            "Collecting package metadata (current_repodata.json): ...working... done\n",
            "Solving environment: ...working... done\n",
            "\n",
            "## Package Plan ##\n",
            "\n",
            "  environment location: /usr/local\n",
            "\n",
            "  added / updated specs:\n",
            "    - rdkit\n",
            "\n",
            "\n",
            "The following packages will be downloaded:\n",
            "\n",
            "    package                    |            build\n",
            "    ---------------------------|-----------------\n",
            "    boost-1.70.0               |   py37h9de70de_1         337 KB  conda-forge\n",
            "    boost-cpp-1.70.0           |       h8e57a91_2        21.1 MB  conda-forge\n",
            "    ca-certificates-2019.9.11  |       hecc5488_0         144 KB  conda-forge\n",
            "    cairo-1.16.0               |    hfb77d84_1002         1.5 MB  conda-forge\n",
            "    certifi-2019.9.11          |           py37_0         147 KB  conda-forge\n",
            "    conda-4.7.12               |           py37_0         3.0 MB  conda-forge\n",
            "    fontconfig-2.13.1          |    h86ecdb6_1001         340 KB  conda-forge\n",
            "    freetype-2.10.0            |       he983fc9_1         884 KB  conda-forge\n",
            "    gettext-0.19.8.1           |    hc5be6a0_1002         3.6 MB  conda-forge\n",
            "    glib-2.58.3                |    h6f030ca_1002         3.3 MB  conda-forge\n",
            "    icu-64.2                   |       he1b5a44_1        12.6 MB  conda-forge\n",
            "    jpeg-9c                    |    h14c3975_1001         251 KB  conda-forge\n",
            "    libblas-3.8.0              |      12_openblas          10 KB  conda-forge\n",
            "    libcblas-3.8.0             |      12_openblas          10 KB  conda-forge\n",
            "    libgfortran-ng-7.3.0       |       hdf63c60_0        1006 KB\n",
            "    libiconv-1.15              |    h516909a_1005         2.0 MB  conda-forge\n",
            "    liblapack-3.8.0            |      12_openblas          10 KB  conda-forge\n",
            "    libopenblas-0.3.7          |       h6e990d7_1         7.6 MB  conda-forge\n",
            "    libpng-1.6.37              |       hed695b0_0         343 KB  conda-forge\n",
            "    libtiff-4.0.10             |       h2733197_2         435 KB\n",
            "    libuuid-2.32.1             |    h14c3975_1000          26 KB  conda-forge\n",
            "    libxcb-1.13                |    h14c3975_1002         396 KB  conda-forge\n",
            "    lz4-c-1.8.3                |    he1b5a44_1001         187 KB  conda-forge\n",
            "    numpy-1.17.2               |   py37h95a1406_0         5.2 MB  conda-forge\n",
            "    olefile-0.46               |             py_0          31 KB  conda-forge\n",
            "    openssl-1.1.1c             |       h516909a_0         2.1 MB  conda-forge\n",
            "    pandas-0.25.1              |   py37hb3f55d8_0        11.4 MB  conda-forge\n",
            "    pcre-8.41                  |    hf484d3e_1003         249 KB  conda-forge\n",
            "    pillow-6.1.0               |   py37h34e0f95_0         586 KB\n",
            "    pixman-0.38.0              |    h516909a_1003         594 KB  conda-forge\n",
            "    pthread-stubs-0.4          |    h14c3975_1001           5 KB  conda-forge\n",
            "    pycairo-1.18.1             |   py37h438ddbb_0          77 KB  conda-forge\n",
            "    python-dateutil-2.8.0      |             py_0         219 KB  conda-forge\n",
            "    pytz-2019.2                |             py_0         228 KB  conda-forge\n",
            "    rdkit-2019.03.4            |   py37hb31dc5d_0        23.1 MB  conda-forge\n",
            "    xorg-kbproto-1.0.7         |    h14c3975_1002          26 KB  conda-forge\n",
            "    xorg-libice-1.0.10         |       h516909a_0          57 KB  conda-forge\n",
            "    xorg-libsm-1.2.3           |    h84519dc_1000          25 KB  conda-forge\n",
            "    xorg-libx11-1.6.8          |       h516909a_0         907 KB  conda-forge\n",
            "    xorg-libxau-1.0.9          |       h14c3975_0          13 KB  conda-forge\n",
            "    xorg-libxdmcp-1.1.3        |       h516909a_0          18 KB  conda-forge\n",
            "    xorg-libxext-1.3.4         |       h516909a_0          51 KB  conda-forge\n",
            "    xorg-libxrender-0.9.10     |    h516909a_1002          31 KB  conda-forge\n",
            "    xorg-renderproto-0.11.1    |    h14c3975_1002           8 KB  conda-forge\n",
            "    xorg-xextproto-7.3.0       |    h14c3975_1002          27 KB  conda-forge\n",
            "    xorg-xproto-7.0.31         |    h14c3975_1007          72 KB  conda-forge\n",
            "    ------------------------------------------------------------\n",
            "                                           Total:       104.2 MB\n",
            "\n",
            "The following NEW packages will be INSTALLED:\n",
            "\n",
            "  boost              conda-forge/linux-64::boost-1.70.0-py37h9de70de_1\n",
            "  boost-cpp          conda-forge/linux-64::boost-cpp-1.70.0-h8e57a91_2\n",
            "  cairo              conda-forge/linux-64::cairo-1.16.0-hfb77d84_1002\n",
            "  fontconfig         conda-forge/linux-64::fontconfig-2.13.1-h86ecdb6_1001\n",
            "  freetype           conda-forge/linux-64::freetype-2.10.0-he983fc9_1\n",
            "  gettext            conda-forge/linux-64::gettext-0.19.8.1-hc5be6a0_1002\n",
            "  glib               conda-forge/linux-64::glib-2.58.3-h6f030ca_1002\n",
            "  icu                conda-forge/linux-64::icu-64.2-he1b5a44_1\n",
            "  jpeg               conda-forge/linux-64::jpeg-9c-h14c3975_1001\n",
            "  libblas            conda-forge/linux-64::libblas-3.8.0-12_openblas\n",
            "  libcblas           conda-forge/linux-64::libcblas-3.8.0-12_openblas\n",
            "  libgfortran-ng     pkgs/main/linux-64::libgfortran-ng-7.3.0-hdf63c60_0\n",
            "  libiconv           conda-forge/linux-64::libiconv-1.15-h516909a_1005\n",
            "  liblapack          conda-forge/linux-64::liblapack-3.8.0-12_openblas\n",
            "  libopenblas        conda-forge/linux-64::libopenblas-0.3.7-h6e990d7_1\n",
            "  libpng             conda-forge/linux-64::libpng-1.6.37-hed695b0_0\n",
            "  libtiff            pkgs/main/linux-64::libtiff-4.0.10-h2733197_2\n",
            "  libuuid            conda-forge/linux-64::libuuid-2.32.1-h14c3975_1000\n",
            "  libxcb             conda-forge/linux-64::libxcb-1.13-h14c3975_1002\n",
            "  numpy              conda-forge/linux-64::numpy-1.17.2-py37h95a1406_0\n",
            "  olefile            conda-forge/noarch::olefile-0.46-py_0\n",
            "  pandas             conda-forge/linux-64::pandas-0.25.1-py37hb3f55d8_0\n",
            "  pcre               conda-forge/linux-64::pcre-8.41-hf484d3e_1003\n",
            "  pillow             pkgs/main/linux-64::pillow-6.1.0-py37h34e0f95_0\n",
            "  pixman             conda-forge/linux-64::pixman-0.38.0-h516909a_1003\n",
            "  pthread-stubs      conda-forge/linux-64::pthread-stubs-0.4-h14c3975_1001\n",
            "  pycairo            conda-forge/linux-64::pycairo-1.18.1-py37h438ddbb_0\n",
            "  python-dateutil    conda-forge/noarch::python-dateutil-2.8.0-py_0\n",
            "  pytz               conda-forge/noarch::pytz-2019.2-py_0\n",
            "  rdkit              conda-forge/linux-64::rdkit-2019.03.4-py37hb31dc5d_0\n",
            "  xorg-kbproto       conda-forge/linux-64::xorg-kbproto-1.0.7-h14c3975_1002\n",
            "  xorg-libice        conda-forge/linux-64::xorg-libice-1.0.10-h516909a_0\n",
            "  xorg-libsm         conda-forge/linux-64::xorg-libsm-1.2.3-h84519dc_1000\n",
            "  xorg-libx11        conda-forge/linux-64::xorg-libx11-1.6.8-h516909a_0\n",
            "  xorg-libxau        conda-forge/linux-64::xorg-libxau-1.0.9-h14c3975_0\n",
            "  xorg-libxdmcp      conda-forge/linux-64::xorg-libxdmcp-1.1.3-h516909a_0\n",
            "  xorg-libxext       conda-forge/linux-64::xorg-libxext-1.3.4-h516909a_0\n",
            "  xorg-libxrender    conda-forge/linux-64::xorg-libxrender-0.9.10-h516909a_1002\n",
            "  xorg-renderproto   conda-forge/linux-64::xorg-renderproto-0.11.1-h14c3975_1002\n",
            "  xorg-xextproto     conda-forge/linux-64::xorg-xextproto-7.3.0-h14c3975_1002\n",
            "  xorg-xproto        conda-forge/linux-64::xorg-xproto-7.0.31-h14c3975_1007\n",
            "\n",
            "The following packages will be UPDATED:\n",
            "\n",
            "  ca-certificates    pkgs/main::ca-certificates-2019.5.15-0 --> conda-forge::ca-certificates-2019.9.11-hecc5488_0\n",
            "  certifi               pkgs/main::certifi-2019.6.16-py37_0 --> conda-forge::certifi-2019.9.11-py37_0\n",
            "  conda                      pkgs/main::conda-4.7.10-py37_0 --> conda-forge::conda-4.7.12-py37_0\n",
            "  lz4-c                 pkgs/main::lz4-c-1.8.1.2-h14c3975_0 --> conda-forge::lz4-c-1.8.3-he1b5a44_1001\n",
            "\n",
            "The following packages will be SUPERSEDED by a higher-priority channel:\n",
            "\n",
            "  openssl              pkgs/main::openssl-1.1.1c-h7b6447c_1 --> conda-forge::openssl-1.1.1c-h516909a_0\n",
            "\n",
            "\n",
            "Preparing transaction: ...working... done\n",
            "Verifying transaction: ...working... done\n",
            "Executing transaction: ...working... done\n",
            "\n",
            "real\t0m36.129s\n",
            "user\t0m31.145s\n",
            "sys\t0m4.138s\n"
          ],
          "name": "stdout"
        }
      ]
    },
    {
      "cell_type": "code",
      "metadata": {
        "id": "wwYkPaHS9bOl",
        "colab_type": "code",
        "colab": {}
      },
      "source": [
        "%matplotlib inline\n",
        "import matplotlib.pyplot as plt\n",
        "import sys\n",
        "import os\n",
        "sys.path.append('/usr/local/lib/python3.7/site-packages/')"
      ],
      "execution_count": 0,
      "outputs": []
    },
    {
      "cell_type": "code",
      "metadata": {
        "id": "PPn-NBTX7UgL",
        "colab_type": "code",
        "colab": {}
      },
      "source": [
        "root = \"/content/drive/My Drive/dsb/\"\n"
      ],
      "execution_count": 0,
      "outputs": []
    },
    {
      "cell_type": "code",
      "metadata": {
        "id": "jrLSYKzB7bcz",
        "colab_type": "code",
        "outputId": "8b121ebb-60dd-4344-d49a-78d08ea01bc5",
        "colab": {
          "base_uri": "https://localhost:8080/",
          "height": 35
        }
      },
      "source": [
        "file_list = os.listdir(root)\n",
        "num_mols = len(file_list)\n",
        "print(num_mols)"
      ],
      "execution_count": 0,
      "outputs": [
        {
          "output_type": "stream",
          "text": [
            "495\n"
          ],
          "name": "stdout"
        }
      ]
    },
    {
      "cell_type": "code",
      "metadata": {
        "id": "UcIVM5dL7iUP",
        "colab_type": "code",
        "colab": {}
      },
      "source": [
        "def read_xyz(file_name):\n",
        "    with open(file_name, 'rb') as file:\n",
        "        num_atoms = int(file.readline())\n",
        "        properties = file.readline().split()[1:17]\n",
        "        properties = [num.replace(b'*^', b'e') for num in properties] \n",
        "        properties = [float(prop) for prop in properties]\n",
        "        atom_types = [0]*num_atoms\n",
        "        coords = np.array(np.zeros([num_atoms,3]))\n",
        "        for na in range(num_atoms):\n",
        "            coord_line = file.readline().split()\n",
        "            atom_types[na] = coord_line[0]\n",
        "            xyz_coords = coord_line[1:4]\n",
        "            xyz_coords = [num.replace(b'*^', b'e') for num in xyz_coords] \n",
        "            coords[na,:] = [float(num) for num in xyz_coords]  \n",
        "        vib_freqs = file.readline()\n",
        "        smiles = file.readline().split()[0]\n",
        "        inchis = file.readline()\n",
        "        \n",
        "    return smiles, properties, atom_types, coords"
      ],
      "execution_count": 0,
      "outputs": []
    },
    {
      "cell_type": "code",
      "metadata": {
        "id": "krBcjkU87wxW",
        "colab_type": "code",
        "outputId": "4ff488d2-e3bb-4d53-f52f-4c65a659f264",
        "colab": {
          "base_uri": "https://localhost:8080/",
          "height": 35
        }
      },
      "source": [
        "smiles = [0]*num_mols\n",
        "properties = [0]*num_mols \n",
        "atom_types = [0]*num_mols\n",
        "coords = [0]*num_mols\n",
        "\n",
        "for im in range(num_mols):\n",
        "    smiles[im], properties[im], atom_types[im], coords[im] = read_xyz(root+file_list[im])\n",
        "\n",
        "biggest_mol_size = max([len(atom_list) for atom_list in atom_types])\n",
        "\n",
        "print(\"size of largest molecule = \", biggest_mol_size)"
      ],
      "execution_count": 0,
      "outputs": [
        {
          "output_type": "stream",
          "text": [
            "size of largest molecule =  20\n"
          ],
          "name": "stdout"
        }
      ]
    },
    {
      "cell_type": "code",
      "metadata": {
        "id": "FH-d54WlGywV",
        "colab_type": "code",
        "outputId": "4333c6b2-de0f-46f3-9f52-d0ffe41d5ec8",
        "colab": {
          "base_uri": "https://localhost:8080/",
          "height": 279
        }
      },
      "source": [
        "#Information retrieved from a single xyz molecule \n",
        "print(smiles[400])\n",
        "print(properties[400])\n",
        "print(atom_types[400])\n",
        "print(coords[400])"
      ],
      "execution_count": 0,
      "outputs": [
        {
          "output_type": "stream",
          "text": [
            "b'OC1(CC1)C#N'\n",
            "[406.0, 6.09849, 3.15469, 2.5059, 3.5524, 47.42, -0.2828, 0.0136, 0.2964, 521.6025, 0.084237, -285.282853, -285.276998, -285.276054, -285.311886, 21.226]\n",
            "[b'O', b'C', b'C', b'C', b'C', b'N', b'H', b'H', b'H', b'H', b'H']\n",
            "[[-4.85023841e-02  1.37466413e+00 -6.98426214e-02]\n",
            " [-1.91569230e-03 -1.82411101e-02 -3.38496380e-03]\n",
            " [-4.69418597e-01 -7.09346128e-01  1.26706900e+00]\n",
            " [-1.34299477e+00 -7.03403115e-01  4.07563587e-02]\n",
            " [ 1.07227815e+00 -6.29557386e-01 -7.58263268e-01]\n",
            " [ 1.95202783e+00 -1.09727648e+00 -1.34586879e+00]\n",
            " [ 7.34695898e-01  1.72623077e+00  3.70058278e-01]\n",
            " [ 1.72597512e-02 -1.63262397e+00  1.55815355e+00]\n",
            " [-7.36600249e-01 -4.29273844e-02  2.07899873e+00]\n",
            " [-2.19212682e+00 -3.04978072e-02  2.68220819e-02]\n",
            " [-1.46439637e+00 -1.62202879e+00 -5.19709023e-01]]\n"
          ],
          "name": "stdout"
        }
      ]
    },
    {
      "cell_type": "code",
      "metadata": {
        "id": "T4a9PsulEaBD",
        "colab_type": "code",
        "outputId": "e097f759-993b-4e63-f0b1-83e9bd256674",
        "colab": {
          "base_uri": "https://localhost:8080/",
          "height": 218
        }
      },
      "source": [
        "import pandas as pd\n",
        "dtype = [('mu','int32'), ('alpha','float32'), ('HOMO','float32'),('LUMO','int32'), ('Gap','float32'), ('R2','float32'),('ZPVE','int32'), ('U0','float32'), ('U','float32'),('H','int32'), ('G','float32'), ('CV','float32'),('Col14','float32'), ('Col14','float32'),('Col16','float32'), ('Col16','float32'),('Col17','float32')]\n",
        "values = properties\n",
        "#index = ['Row'+str(i) for i in range(1, len(values)+1)]\n",
        "\n",
        "df = pd.DataFrame(values, )\n",
        "\n",
        "df.head()"
      ],
      "execution_count": 0,
      "outputs": [
        {
          "output_type": "execute_result",
          "data": {
            "text/html": [
              "<div>\n",
              "<style scoped>\n",
              "    .dataframe tbody tr th:only-of-type {\n",
              "        vertical-align: middle;\n",
              "    }\n",
              "\n",
              "    .dataframe tbody tr th {\n",
              "        vertical-align: top;\n",
              "    }\n",
              "\n",
              "    .dataframe thead th {\n",
              "        text-align: right;\n",
              "    }\n",
              "</style>\n",
              "<table border=\"1\" class=\"dataframe\">\n",
              "  <thead>\n",
              "    <tr style=\"text-align: right;\">\n",
              "      <th></th>\n",
              "      <th>0</th>\n",
              "      <th>1</th>\n",
              "      <th>2</th>\n",
              "      <th>3</th>\n",
              "      <th>4</th>\n",
              "      <th>5</th>\n",
              "      <th>6</th>\n",
              "      <th>7</th>\n",
              "      <th>8</th>\n",
              "      <th>9</th>\n",
              "      <th>10</th>\n",
              "      <th>11</th>\n",
              "      <th>12</th>\n",
              "      <th>13</th>\n",
              "      <th>14</th>\n",
              "      <th>15</th>\n",
              "    </tr>\n",
              "  </thead>\n",
              "  <tbody>\n",
              "    <tr>\n",
              "      <th>0</th>\n",
              "      <td>1.0</td>\n",
              "      <td>157.71180</td>\n",
              "      <td>157.709970</td>\n",
              "      <td>157.706990</td>\n",
              "      <td>0.0000</td>\n",
              "      <td>13.21</td>\n",
              "      <td>-0.3877</td>\n",
              "      <td>0.1171</td>\n",
              "      <td>0.5048</td>\n",
              "      <td>35.3641</td>\n",
              "      <td>0.044749</td>\n",
              "      <td>-40.478930</td>\n",
              "      <td>-40.476062</td>\n",
              "      <td>-40.475117</td>\n",
              "      <td>-40.498597</td>\n",
              "      <td>6.469</td>\n",
              "    </tr>\n",
              "    <tr>\n",
              "      <th>1</th>\n",
              "      <td>4.0</td>\n",
              "      <td>0.00000</td>\n",
              "      <td>35.610036</td>\n",
              "      <td>35.610036</td>\n",
              "      <td>0.0000</td>\n",
              "      <td>16.28</td>\n",
              "      <td>-0.2845</td>\n",
              "      <td>0.0506</td>\n",
              "      <td>0.3351</td>\n",
              "      <td>59.5248</td>\n",
              "      <td>0.026841</td>\n",
              "      <td>-77.308427</td>\n",
              "      <td>-77.305527</td>\n",
              "      <td>-77.304583</td>\n",
              "      <td>-77.327429</td>\n",
              "      <td>8.574</td>\n",
              "    </tr>\n",
              "    <tr>\n",
              "      <th>2</th>\n",
              "      <td>9.0</td>\n",
              "      <td>160.28041</td>\n",
              "      <td>8.593230</td>\n",
              "      <td>8.593210</td>\n",
              "      <td>0.7156</td>\n",
              "      <td>28.78</td>\n",
              "      <td>-0.2609</td>\n",
              "      <td>0.0613</td>\n",
              "      <td>0.3222</td>\n",
              "      <td>177.1963</td>\n",
              "      <td>0.055410</td>\n",
              "      <td>-116.609549</td>\n",
              "      <td>-116.605550</td>\n",
              "      <td>-116.604606</td>\n",
              "      <td>-116.633775</td>\n",
              "      <td>12.482</td>\n",
              "    </tr>\n",
              "    <tr>\n",
              "      <th>3</th>\n",
              "      <td>10.0</td>\n",
              "      <td>159.03567</td>\n",
              "      <td>9.223270</td>\n",
              "      <td>9.223240</td>\n",
              "      <td>3.8266</td>\n",
              "      <td>24.45</td>\n",
              "      <td>-0.3264</td>\n",
              "      <td>0.0376</td>\n",
              "      <td>0.3640</td>\n",
              "      <td>160.7223</td>\n",
              "      <td>0.045286</td>\n",
              "      <td>-132.718150</td>\n",
              "      <td>-132.714563</td>\n",
              "      <td>-132.713619</td>\n",
              "      <td>-132.742149</td>\n",
              "      <td>10.287</td>\n",
              "    </tr>\n",
              "    <tr>\n",
              "      <th>4</th>\n",
              "      <td>3.0</td>\n",
              "      <td>799.58812</td>\n",
              "      <td>437.903860</td>\n",
              "      <td>282.945450</td>\n",
              "      <td>1.8511</td>\n",
              "      <td>6.31</td>\n",
              "      <td>-0.2928</td>\n",
              "      <td>0.0687</td>\n",
              "      <td>0.3615</td>\n",
              "      <td>19.0002</td>\n",
              "      <td>0.021375</td>\n",
              "      <td>-76.404702</td>\n",
              "      <td>-76.401867</td>\n",
              "      <td>-76.400922</td>\n",
              "      <td>-76.422349</td>\n",
              "      <td>6.002</td>\n",
              "    </tr>\n",
              "  </tbody>\n",
              "</table>\n",
              "</div>"
            ],
            "text/plain": [
              "     0          1           2   ...          13          14      15\n",
              "0   1.0  157.71180  157.709970  ...  -40.475117  -40.498597   6.469\n",
              "1   4.0    0.00000   35.610036  ...  -77.304583  -77.327429   8.574\n",
              "2   9.0  160.28041    8.593230  ... -116.604606 -116.633775  12.482\n",
              "3  10.0  159.03567    9.223270  ... -132.713619 -132.742149  10.287\n",
              "4   3.0  799.58812  437.903860  ...  -76.400922  -76.422349   6.002\n",
              "\n",
              "[5 rows x 16 columns]"
            ]
          },
          "metadata": {
            "tags": []
          },
          "execution_count": 39
        }
      ]
    },
    {
      "cell_type": "code",
      "metadata": {
        "id": "I1ZgJAYT0Zir",
        "colab_type": "code",
        "colab": {}
      },
      "source": [
        "#!pip install rdkit\n",
        "#!apt-get install python-rdkit librdkit1 rdkit-data\n",
        "import rdkit\n",
        "from rdkit import Chem"
      ],
      "execution_count": 0,
      "outputs": []
    },
    {
      "cell_type": "code",
      "metadata": {
        "id": "GQXWavZtupz3",
        "colab_type": "code",
        "colab": {}
      },
      "source": [
        "from rdkit.Chem.Draw import IPythonConsole #Needed to show molecules\n",
        "from rdkit.Chem.Draw.MolDrawing import MolDrawing, DrawingOptions #Only needed if modifying defaults"
      ],
      "execution_count": 0,
      "outputs": []
    },
    {
      "cell_type": "code",
      "metadata": {
        "id": "DgVZEqtEwcER",
        "colab_type": "code",
        "colab": {}
      },
      "source": [
        "DrawingOptions.bondLineWidth=2.0"
      ],
      "execution_count": 0,
      "outputs": []
    },
    {
      "cell_type": "code",
      "metadata": {
        "id": "V4pWW3pywgFP",
        "colab_type": "code",
        "outputId": "a43b751b-a475-4576-c725-3071950516bb",
        "colab": {
          "base_uri": "https://localhost:8080/",
          "height": 185
        }
      },
      "source": [
        "#Smile string representation where hydrogens are implicitly included\n",
        "sample1=Chem.MolFromSmiles(smiles[100])\n",
        "print(smiles[100])\n",
        "sample1"
      ],
      "execution_count": 0,
      "outputs": [
        {
          "output_type": "stream",
          "text": [
            "b'CC1CC1O'\n"
          ],
          "name": "stdout"
        },
        {
          "output_type": "execute_result",
          "data": {
            "image/png": "[encoded data removed]",
            "text/plain": [
              "<rdkit.Chem.rdchem.Mol at 0x7f36ddd8c710>"
            ]
          },
          "metadata": {
            "tags": []
          },
          "execution_count": 17
        }
      ]
    },
    {
      "cell_type": "code",
      "metadata": {
        "id": "6TbM3TJo_Ixd",
        "colab_type": "code",
        "outputId": "e8d14f80-c648-414b-a899-5e808cad3865",
        "colab": {
          "base_uri": "https://localhost:8080/",
          "height": 185
        }
      },
      "source": [
        "#Smile string representation where hydrogens are implicitly included\n",
        "sample2=Chem.MolFromSmiles(smiles[200])\n",
        "print(smiles[200])\n",
        "sample2"
      ],
      "execution_count": 0,
      "outputs": [
        {
          "output_type": "stream",
          "text": [
            "b'CC1=COC=N1'\n"
          ],
          "name": "stdout"
        },
        {
          "output_type": "execute_result",
          "data": {
            "image/png": "[encoded data removed]",
            "text/plain": [
              "<rdkit.Chem.rdchem.Mol at 0x7f36da410300>"
            ]
          },
          "metadata": {
            "tags": []
          },
          "execution_count": 18
        }
      ]
    },
    {
      "cell_type": "code",
      "metadata": {
        "id": "mS47sfHe_YZg",
        "colab_type": "code",
        "outputId": "37542fda-b40f-4721-a6f0-7217a7173eee",
        "colab": {
          "base_uri": "https://localhost:8080/",
          "height": 185
        }
      },
      "source": [
        "#Smile string representation where hydrogens are implicitly included\n",
        "sample3=Chem.MolFromSmiles(smiles[300])\n",
        "print(smiles[300])\n",
        "sample3"
      ],
      "execution_count": 0,
      "outputs": [
        {
          "output_type": "stream",
          "text": [
            "b'CC1(O)CCC1'\n"
          ],
          "name": "stdout"
        },
        {
          "output_type": "execute_result",
          "data": {
            "image/png": "[encoded data removed]",
            "text/plain": [
              "<rdkit.Chem.rdchem.Mol at 0x7f36da410940>"
            ]
          },
          "metadata": {
            "tags": []
          },
          "execution_count": 22
        }
      ]
    },
    {
      "cell_type": "code",
      "metadata": {
        "id": "xosNIqZN_vRG",
        "colab_type": "code",
        "outputId": "32c24ee9-f9d9-4114-e70d-0f63413e15af",
        "colab": {
          "base_uri": "https://localhost:8080/",
          "height": 35
        }
      },
      "source": [
        "#Getting the number of atoms in the smile\n",
        "sample3.GetNumAtoms()"
      ],
      "execution_count": 0,
      "outputs": [
        {
          "output_type": "execute_result",
          "data": {
            "text/plain": [
              "6"
            ]
          },
          "metadata": {
            "tags": []
          },
          "execution_count": 23
        }
      ]
    },
    {
      "cell_type": "code",
      "metadata": {
        "id": "lTeEPcMF1x8D",
        "colab_type": "code",
        "outputId": "3b000804-cc79-4622-f2db-e35c38fe4376",
        "colab": {
          "base_uri": "https://localhost:8080/",
          "height": 294
        }
      },
      "source": [
        "#Generating depictions (2D)\n",
        "print (Chem.MolToMolBlock(sample1))"
      ],
      "execution_count": 0,
      "outputs": [
        {
          "output_type": "stream",
          "text": [
            "\n",
            "     RDKit          2D\n",
            "\n",
            "  5  5  0  0  0  0  0  0  0  0999 V2000\n",
            "    2.3660    0.0000    0.0000 C   0  0  0  0  0  0  0  0  0  0  0  0\n",
            "    0.8660    0.0000    0.0000 C   0  0  0  0  0  0  0  0  0  0  0  0\n",
            "   -0.4330    0.7500    0.0000 C   0  0  0  0  0  0  0  0  0  0  0  0\n",
            "   -0.4330   -0.7500    0.0000 C   0  0  0  0  0  0  0  0  0  0  0  0\n",
            "   -1.1830   -2.0490    0.0000 O   0  0  0  0  0  0  0  0  0  0  0  0\n",
            "  1  2  1  0\n",
            "  2  3  1  0\n",
            "  3  4  1  0\n",
            "  4  5  1  0\n",
            "  4  2  1  0\n",
            "M  END\n",
            "\n"
          ],
          "name": "stdout"
        }
      ]
    },
    {
      "cell_type": "code",
      "metadata": {
        "id": "ywp26m50BozK",
        "colab_type": "code",
        "outputId": "90586bfa-af72-4117-fa54-dfdb76a2223b",
        "colab": {
          "base_uri": "https://localhost:8080/",
          "height": 328
        }
      },
      "source": [
        "#Generating depictions (2D)\n",
        "print (Chem.MolToMolBlock(sample2))"
      ],
      "execution_count": 0,
      "outputs": [
        {
          "output_type": "stream",
          "text": [
            "\n",
            "     RDKit          2D\n",
            "\n",
            "  6  6  0  0  0  0  0  0  0  0999 V2000\n",
            "    2.1213    1.0607    0.0000 C   0  0  0  0  0  0  0  0  0  0  0  0\n",
            "    1.0607    0.0000    0.0000 C   0  0  0  0  0  0  0  0  0  0  0  0\n",
            "    2.1213   -1.0607    0.0000 O   0  0  0  0  0  0  0  0  0  0  0  0\n",
            "   -0.0000   -1.0607    0.0000 C   0  0  0  0  0  0  0  0  0  0  0  0\n",
            "   -1.0607    0.0000    0.0000 C   0  0  0  0  0  0  0  0  0  0  0  0\n",
            "    0.0000    1.0607    0.0000 C   0  0  0  0  0  0  0  0  0  0  0  0\n",
            "  1  2  1  0\n",
            "  2  3  1  0\n",
            "  2  4  1  0\n",
            "  4  5  1  0\n",
            "  5  6  1  0\n",
            "  6  2  1  0\n",
            "M  END\n",
            "\n"
          ],
          "name": "stdout"
        }
      ]
    },
    {
      "cell_type": "code",
      "metadata": {
        "id": "4vAeSMDXBwsq",
        "colab_type": "code",
        "outputId": "0395b122-c8dc-4f1f-f5b4-ee05a5e34c95",
        "colab": {
          "base_uri": "https://localhost:8080/",
          "height": 328
        }
      },
      "source": [
        "#Generating depictions (2D)\n",
        "print (Chem.MolToMolBlock(sample3))"
      ],
      "execution_count": 0,
      "outputs": [
        {
          "output_type": "stream",
          "text": [
            "\n",
            "     RDKit          2D\n",
            "\n",
            "  6  6  0  0  0  0  0  0  0  0999 V2000\n",
            "    2.1213    1.0607    0.0000 C   0  0  0  0  0  0  0  0  0  0  0  0\n",
            "    1.0607    0.0000    0.0000 C   0  0  0  0  0  0  0  0  0  0  0  0\n",
            "    2.1213   -1.0607    0.0000 O   0  0  0  0  0  0  0  0  0  0  0  0\n",
            "   -0.0000   -1.0607    0.0000 C   0  0  0  0  0  0  0  0  0  0  0  0\n",
            "   -1.0607    0.0000    0.0000 C   0  0  0  0  0  0  0  0  0  0  0  0\n",
            "    0.0000    1.0607    0.0000 C   0  0  0  0  0  0  0  0  0  0  0  0\n",
            "  1  2  1  0\n",
            "  2  3  1  0\n",
            "  2  4  1  0\n",
            "  4  5  1  0\n",
            "  5  6  1  0\n",
            "  6  2  1  0\n",
            "M  END\n",
            "\n"
          ],
          "name": "stdout"
        }
      ]
    },
    {
      "cell_type": "code",
      "metadata": {
        "id": "mlA3DcL1HZvp",
        "colab_type": "code",
        "outputId": "06bfe8d2-6564-4ee2-de0c-0d3c8e3c0f11",
        "colab": {
          "base_uri": "https://localhost:8080/",
          "height": 294
        }
      },
      "source": [
        "#Generating depictions (3D)\n",
        "AllChem.EmbedMolecule(sample1)\n",
        "print (Chem.MolToMolBlock(sample1))\n"
      ],
      "execution_count": 0,
      "outputs": [
        {
          "output_type": "stream",
          "text": [
            "\n",
            "     RDKit          3D\n",
            "\n",
            "  5  5  0  0  0  0  0  0  0  0999 V2000\n",
            "    1.4958   -0.7759    0.1867 C   0  0  0  0  0  0  0  0  0  0  0  0\n",
            "    0.6877    0.3165   -0.4444 C   0  0  0  0  0  0  0  0  0  0  0  0\n",
            "   -0.0865    1.1907    0.4650 C   0  0  0  0  0  0  0  0  0  0  0  0\n",
            "   -0.8012    0.2006   -0.4085 C   0  0  0  0  0  0  0  0  0  0  0  0\n",
            "   -1.2958   -0.9320    0.2012 O   0  0  0  0  0  0  0  0  0  0  0  0\n",
            "  1  2  1  0\n",
            "  2  3  1  0\n",
            "  3  4  1  0\n",
            "  4  5  1  0\n",
            "  4  2  1  0\n",
            "M  END\n",
            "\n"
          ],
          "name": "stdout"
        }
      ]
    },
    {
      "cell_type": "code",
      "metadata": {
        "id": "o0IyloxgB6Rd",
        "colab_type": "code",
        "outputId": "60c5eac2-ee9b-4102-ba51-e3172ad28a1c",
        "colab": {
          "base_uri": "https://localhost:8080/",
          "height": 167
        }
      },
      "source": [
        "# Eplicitly adding hydrogens\n",
        "from rdkit.Chem import AllChem\n",
        "sample1H = AllChem.AddHs(sample1)\n",
        "DrawingOptions.includeAtomNumbers=False\n",
        "sample1H"
      ],
      "execution_count": 0,
      "outputs": [
        {
          "output_type": "execute_result",
          "data": {
            "image/png": "[encoded data removed]",
            "text/plain": [
              "<rdkit.Chem.rdchem.Mol at 0x7f36da5403a0>"
            ]
          },
          "metadata": {
            "tags": []
          },
          "execution_count": 30
        }
      ]
    },
    {
      "cell_type": "code",
      "metadata": {
        "id": "c5ZGkZZIB6eR",
        "colab_type": "code",
        "outputId": "002994c4-eda9-4de7-9deb-8a51bc660af3",
        "colab": {
          "base_uri": "https://localhost:8080/",
          "height": 167
        }
      },
      "source": [
        "sample2H = AllChem.AddHs(sample2)\n",
        "sample2H"
      ],
      "execution_count": 0,
      "outputs": [
        {
          "output_type": "execute_result",
          "data": {
            "image/png": "[encoded data removed]",
            "text/plain": [
              "<rdkit.Chem.rdchem.Mol at 0x7f36da473d00>"
            ]
          },
          "metadata": {
            "tags": []
          },
          "execution_count": 32
        }
      ]
    },
    {
      "cell_type": "code",
      "metadata": {
        "id": "4776YxD-B6tW",
        "colab_type": "code",
        "outputId": "d55d9598-5b3f-4c7b-ba16-afba4b7c0595",
        "colab": {
          "base_uri": "https://localhost:8080/",
          "height": 167
        }
      },
      "source": [
        "sample3H = AllChem.AddHs(sample3)\n",
        "DrawingOptions.includeAtomNumbers=True\n",
        "sample3H"
      ],
      "execution_count": 0,
      "outputs": [
        {
          "output_type": "execute_result",
          "data": {
            "image/png": "[encoded data removed]",
            "text/plain": [
              "<rdkit.Chem.rdchem.Mol at 0x7f36da473b20>"
            ]
          },
          "metadata": {
            "tags": []
          },
          "execution_count": 33
        }
      ]
    },
    {
      "cell_type": "code",
      "metadata": {
        "id": "x5_kSkpirvPH",
        "colab_type": "code",
        "outputId": "d2b9890c-a9d7-4b33-e51f-70f9f155f2e5",
        "colab": {
          "base_uri": "https://localhost:8080/",
          "height": 674
        }
      },
      "source": [
        "#Generating depictions with hydrogens explicitly represented\n",
        "print (Chem.MolToMolBlock(sample3H))"
      ],
      "execution_count": 0,
      "outputs": [
        {
          "output_type": "stream",
          "text": [
            "\n",
            "     RDKit          2D\n",
            "\n",
            " 16 16  0  0  0  0  0  0  0  0999 V2000\n",
            "    2.1213    1.0607    0.0000 C   0  0  0  0  0  0  0  0  0  0  0  0\n",
            "    1.0607    0.0000    0.0000 C   0  0  0  0  0  0  0  0  0  0  0  0\n",
            "    2.1213   -1.0607    0.0000 O   0  0  0  0  0  0  0  0  0  0  0  0\n",
            "   -0.0000   -1.0607    0.0000 C   0  0  0  0  0  0  0  0  0  0  0  0\n",
            "   -1.0607    0.0000    0.0000 C   0  0  0  0  0  0  0  0  0  0  0  0\n",
            "    0.0000    1.0607    0.0000 C   0  0  0  0  0  0  0  0  0  0  0  0\n",
            "    3.1820    2.1213    0.0000 H   0  0  0  0  0  0  0  0  0  0  0  0\n",
            "    3.3034    0.1372    0.0000 H   0  0  0  0  0  0  0  0  0  0  0  0\n",
            "    1.5760    1.7586    0.0000 H   0  0  0  0  0  0  0  0  0  0  0  0\n",
            "    3.6067   -0.8519    0.0000 H   0  0  0  0  0  0  0  0  0  0  0  0\n",
            "    1.0607   -2.1213    0.0000 H   0  0  0  0  0  0  0  0  0  0  0  0\n",
            "   -1.0607   -2.1213    0.0000 H   0  0  0  0  0  0  0  0  0  0  0  0\n",
            "   -2.1213   -1.0607    0.0000 H   0  0  0  0  0  0  0  0  0  0  0  0\n",
            "   -2.1213    1.0607    0.0000 H   0  0  0  0  0  0  0  0  0  0  0  0\n",
            "   -1.0607    2.1213    0.0000 H   0  0  0  0  0  0  0  0  0  0  0  0\n",
            "    0.5453    1.7586    0.0000 H   0  0  0  0  0  0  0  0  0  0  0  0\n",
            "  1  2  1  0\n",
            "  2  3  1  0\n",
            "  2  4  1  0\n",
            "  4  5  1  0\n",
            "  5  6  1  0\n",
            "  6  2  1  0\n",
            "  1  7  1  0\n",
            "  1  8  1  0\n",
            "  1  9  1  0\n",
            "  3 10  1  0\n",
            "  4 11  1  0\n",
            "  4 12  1  0\n",
            "  5 13  1  0\n",
            "  5 14  1  0\n",
            "  6 15  1  0\n",
            "  6 16  1  0\n",
            "M  END\n",
            "\n"
          ],
          "name": "stdout"
        }
      ]
    },
    {
      "cell_type": "code",
      "metadata": {
        "id": "KhzwNwijH6k9",
        "colab_type": "code",
        "outputId": "8cb1ba35-0e30-4a51-c678-040d14176fda",
        "colab": {
          "base_uri": "https://localhost:8080/",
          "height": 570
        }
      },
      "source": [
        "#Generating depictions (3D)\n",
        "AllChem.EmbedMolecule(sample1H)\n",
        "print (Chem.MolToMolBlock(sample1H))"
      ],
      "execution_count": 0,
      "outputs": [
        {
          "output_type": "stream",
          "text": [
            "\n",
            "     RDKit          3D\n",
            "\n",
            " 13 13  0  0  0  0  0  0  0  0999 V2000\n",
            "    1.4298    0.3046    0.3538 C   0  0  0  0  0  0  0  0  0  0  0  0\n",
            "    0.3487   -0.4080   -0.4168 C   0  0  0  0  0  0  0  0  0  0  0  0\n",
            "   -0.8283   -0.9944    0.2270 C   0  0  0  0  0  0  0  0  0  0  0  0\n",
            "   -0.9360    0.2294   -0.6636 C   0  0  0  0  0  0  0  0  0  0  0  0\n",
            "   -1.3757    1.3599    0.0160 O   0  0  0  0  0  0  0  0  0  0  0  0\n",
            "    1.5367    1.3184   -0.1341 H   0  0  0  0  0  0  0  0  0  0  0  0\n",
            "    1.2043    0.4683    1.4051 H   0  0  0  0  0  0  0  0  0  0  0  0\n",
            "    2.4342   -0.1688    0.2141 H   0  0  0  0  0  0  0  0  0  0  0  0\n",
            "    0.7703   -1.0080   -1.2767 H   0  0  0  0  0  0  0  0  0  0  0  0\n",
            "   -1.3181   -1.8847   -0.2063 H   0  0  0  0  0  0  0  0  0  0  0  0\n",
            "   -1.0128   -0.8919    1.3146 H   0  0  0  0  0  0  0  0  0  0  0  0\n",
            "   -1.4076    0.1251   -1.6676 H   0  0  0  0  0  0  0  0  0  0  0  0\n",
            "   -0.8453    1.5502    0.8346 H   0  0  0  0  0  0  0  0  0  0  0  0\n",
            "  1  2  1  0\n",
            "  2  3  1  0\n",
            "  3  4  1  0\n",
            "  4  5  1  0\n",
            "  4  2  1  0\n",
            "  1  6  1  0\n",
            "  1  7  1  0\n",
            "  1  8  1  0\n",
            "  2  9  1  0\n",
            "  3 10  1  0\n",
            "  3 11  1  0\n",
            "  4 12  1  0\n",
            "  5 13  1  0\n",
            "M  END\n",
            "\n"
          ],
          "name": "stdout"
        }
      ]
    }
  ]
}