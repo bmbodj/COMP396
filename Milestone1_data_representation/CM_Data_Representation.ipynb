{
  "nbformat": 4,
  "nbformat_minor": 0,
  "metadata": {
    "colab": {
      "name": "CM_Data_Representation.ipynb",
      "provenance": []
    },
    "kernelspec": {
      "name": "python3",
      "display_name": "Python 3"
    },
    "accelerator": "GPU"
  },
  "cells": [
    {
      "cell_type": "markdown",
      "metadata": {
        "id": "Qf4GVGs2mICT",
        "colab_type": "text"
      },
      "source": [
        "COMP396: Molecular property prediction with coulomb matrix representation"
      ]
    },
    {
      "cell_type": "markdown",
      "metadata": {
        "id": "EGlrlvqPALzo",
        "colab_type": "text"
      },
      "source": [
        "\n",
        "D. C. Elton, Z. Boukouvalas, M. S. Butrico, M. D. Fuge, and P. W. Chung, “Applying machine learning techniques to predict the properties of energetic materials”, Scientific Reports 8, 9059 (2018).\n",
        "\n"
      ]
    },
    {
      "cell_type": "code",
      "metadata": {
        "id": "Vjlu47aFMECN",
        "colab_type": "code",
        "colab": {}
      },
      "source": [
        "import torch\n",
        "import torch.optim as optim\n",
        "import torch.nn as nn\n",
        "from torch.autograd import Variable\n",
        "\n",
        "import time\n",
        "import argparse\n",
        "import os\n",
        "import numpy as np"
      ],
      "execution_count": 0,
      "outputs": []
    },
    {
      "cell_type": "code",
      "metadata": {
        "id": "IPoze6MBuvWx",
        "colab_type": "code",
        "outputId": "f0845ff1-f50a-4063-826f-1a7cb6e791ff",
        "colab": {
          "base_uri": "https://localhost:8080/",
          "height": 1000
        }
      },
      "source": [
        "!wget -c https://repo.continuum.io/miniconda/Miniconda3-latest-Linux-x86_64.sh\n",
        "!chmod +x Miniconda3-latest-Linux-x86_64.sh\n",
        "!time bash ./Miniconda3-latest-Linux-x86_64.sh -b -f -p /usr/local\n",
        "!time conda install -q -y -c conda-forge rdkit"
      ],
      "execution_count": 2,
      "outputs": [
        {
          "output_type": "stream",
          "text": [
            "--2019-09-25 01:32:30--  https://repo.continuum.io/miniconda/Miniconda3-latest-Linux-x86_64.sh\n",
            "Resolving repo.continuum.io (repo.continuum.io)... 104.18.201.79, 104.18.200.79, 2606:4700::6812:c84f, ...\n",
            "Connecting to repo.continuum.io (repo.continuum.io)|104.18.201.79|:443... connected.\n",
            "HTTP request sent, awaiting response... 416 Requested Range Not Satisfiable\n",
            "\n",
            "    The file is already fully retrieved; nothing to do.\n",
            "\n",
            "PREFIX=/usr/local\n",
            "Unpacking payload ...\n",
            "Collecting package metadata (current_repodata.json): - \b\b\\ \b\b| \b\b/ \b\b- \b\b\\ \b\b| \b\b/ \b\b- \b\b\\ \b\b| \b\b/ \b\b- \b\b\\ \b\bdone\n",
            "Solving environment: / \b\b- \b\b\\ \b\b| \b\b/ \b\b- \b\b\\ \b\b| \b\b/ \b\b- \b\b\\ \b\b| \b\b/ \b\b- \b\b\\ \b\b| \b\b/ \b\b- \b\b\\ \b\b| \b\b/ \b\b- \b\b\\ \b\b| \b\b/ \b\b- \b\b\\ \b\b| \b\b/ \b\b- \b\b\\ \b\b| \b\b/ \b\b- \b\b\\ \b\b| \b\b/ \b\b- \b\b\\ \b\b| \b\b/ \b\b- \b\b\\ \b\b| \b\b/ \b\b- \b\b\\ \b\b| \b\b/ \b\b- \b\b\\ \b\b| \b\b/ \b\b- \b\b\\ \b\b| \b\b/ \b\b- \b\b\\ \b\b| \b\b/ \b\b- \b\b\\ \b\b| \b\b/ \b\b- \b\b\\ \b\b| \b\b/ \b\b- \b\b\\ \b\b| \b\b/ \b\b- \b\b\\ \b\b| \b\b/ \b\b- \b\b\\ \b\b| \b\b/ \b\b- \b\b\\ \b\b| \b\b/ \b\b- \b\b\\ \b\b| \b\b/ \b\b- \b\b\\ \b\b| \b\b/ \b\b- \b\b\\ \b\b| \b\b/ \b\b- \b\b\\ \b\b| \b\b/ \b\b- \b\b\\ \b\b| \b\b/ \b\b- \b\b\\ \b\b| \b\b/ \b\b- \b\b\\ \b\b| \b\b/ \b\b- \b\b\\ \b\b| \b\b/ \b\b- \b\b\\ \b\b| \b\b/ \b\b- \b\b\\ \b\bdone\n",
            "\n",
            "## Package Plan ##\n",
            "\n",
            "  environment location: /usr/local\n",
            "\n",
            "  added / updated specs:\n",
            "    - _libgcc_mutex==0.1=main\n",
            "    - asn1crypto==0.24.0=py37_0\n",
            "    - bzip2==1.0.8=h7b6447c_0\n",
            "    - ca-certificates==2019.5.15=0\n",
            "    - certifi==2019.6.16=py37_0\n",
            "    - cffi==1.12.3=py37h2e261b9_0\n",
            "    - chardet==3.0.4=py37_1\n",
            "    - conda-package-handling==1.3.11=py37_0\n",
            "    - conda==4.7.10=py37_0\n",
            "    - cryptography==2.7=py37h1ba5d50_0\n",
            "    - idna==2.8=py37_0\n",
            "    - libarchive==3.3.3=h5d8350f_5\n",
            "    - libedit==3.1.20181209=hc058e9b_0\n",
            "    - libffi==3.2.1=hd88cf55_4\n",
            "    - libgcc-ng==9.1.0=hdf63c60_0\n",
            "    - libstdcxx-ng==9.1.0=hdf63c60_0\n",
            "    - libxml2==2.9.9=hea5a465_1\n",
            "    - lz4-c==1.8.1.2=h14c3975_0\n",
            "    - lzo==2.10=h49e0be7_2\n",
            "    - ncurses==6.1=he6710b0_1\n",
            "    - openssl==1.1.1c=h7b6447c_1\n",
            "    - pip==19.1.1=py37_0\n",
            "    - pycosat==0.6.3=py37h14c3975_0\n",
            "    - pycparser==2.19=py37_0\n",
            "    - pyopenssl==19.0.0=py37_0\n",
            "    - pysocks==1.7.0=py37_0\n",
            "    - python-libarchive-c==2.8=py37_11\n",
            "    - python==3.7.3=h0371630_0\n",
            "    - readline==7.0=h7b6447c_5\n",
            "    - requests==2.22.0=py37_0\n",
            "    - ruamel_yaml==0.15.46=py37h14c3975_0\n",
            "    - setuptools==41.0.1=py37_0\n",
            "    - six==1.12.0=py37_0\n",
            "    - sqlite==3.29.0=h7b6447c_0\n",
            "    - tk==8.6.8=hbc83047_0\n",
            "    - tqdm==4.32.1=py_0\n",
            "    - urllib3==1.24.2=py37_0\n",
            "    - wheel==0.33.4=py37_0\n",
            "    - xz==5.2.4=h14c3975_4\n",
            "    - yaml==0.1.7=had09818_2\n",
            "    - zlib==1.2.11=h7b6447c_3\n",
            "    - zstd==1.3.7=h0b5b093_0\n",
            "\n",
            "\n",
            "The following packages will be UPDATED:\n",
            "\n",
            "  openssl            conda-forge::openssl-1.1.1c-h516909a_0 --> pkgs/main::openssl-1.1.1c-h7b6447c_1\n",
            "\n",
            "The following packages will be SUPERSEDED by a higher-priority channel:\n",
            "\n",
            "  ca-certificates    conda-forge::ca-certificates-2019.9.1~ --> pkgs/main::ca-certificates-2019.5.15-0\n",
            "  certifi             conda-forge::certifi-2019.9.11-py37_0 --> pkgs/main::certifi-2019.6.16-py37_0\n",
            "  conda                    conda-forge::conda-4.7.12-py37_0 --> pkgs/main::conda-4.7.10-py37_0\n",
            "  lz4-c              conda-forge::lz4-c-1.8.3-he1b5a44_1001 --> pkgs/main::lz4-c-1.8.1.2-h14c3975_0\n",
            "\n",
            "\n",
            "Preparing transaction: / \b\bdone\n",
            "Executing transaction: \\ \b\b| \b\bdone\n",
            "installation finished.\n",
            "WARNING:\n",
            "    You currently have a PYTHONPATH environment variable set. This may cause\n",
            "    unexpected behavior when running the Python interpreter in Miniconda3.\n",
            "    For best results, please verify that your PYTHONPATH only points to\n",
            "    directories of packages that are compatible with the Python interpreter\n",
            "    in Miniconda3: /usr/local\n",
            "\n",
            "real\t0m37.200s\n",
            "user\t0m43.503s\n",
            "sys\t0m4.962s\n",
            "Collecting package metadata (current_repodata.json): ...working... done\n",
            "Solving environment: ...working... done\n",
            "\n",
            "## Package Plan ##\n",
            "\n",
            "  environment location: /usr/local\n",
            "\n",
            "  added / updated specs:\n",
            "    - rdkit\n",
            "\n",
            "\n",
            "The following packages will be UPDATED:\n",
            "\n",
            "  ca-certificates    pkgs/main::ca-certificates-2019.5.15-0 --> conda-forge::ca-certificates-2019.9.11-hecc5488_0\n",
            "  certifi               pkgs/main::certifi-2019.6.16-py37_0 --> conda-forge::certifi-2019.9.11-py37_0\n",
            "  conda                      pkgs/main::conda-4.7.10-py37_0 --> conda-forge::conda-4.7.12-py37_0\n",
            "  lz4-c                 pkgs/main::lz4-c-1.8.1.2-h14c3975_0 --> conda-forge::lz4-c-1.8.3-he1b5a44_1001\n",
            "\n",
            "The following packages will be SUPERSEDED by a higher-priority channel:\n",
            "\n",
            "  openssl              pkgs/main::openssl-1.1.1c-h7b6447c_1 --> conda-forge::openssl-1.1.1c-h516909a_0\n",
            "\n",
            "\n",
            "Preparing transaction: ...working... done\n",
            "Verifying transaction: ...working... done\n",
            "Executing transaction: ...working... done\n",
            "\n",
            "real\t0m10.832s\n",
            "user\t0m9.288s\n",
            "sys\t0m0.977s\n"
          ],
          "name": "stdout"
        }
      ]
    },
    {
      "cell_type": "code",
      "metadata": {
        "id": "GG4_7ha0vec8",
        "colab_type": "code",
        "colab": {}
      },
      "source": [
        "%matplotlib inline\n",
        "import matplotlib.pyplot as plt\n",
        "import sys\n",
        "import os\n",
        "sys.path.append('/usr/local/lib/python3.7/site-packages/')"
      ],
      "execution_count": 0,
      "outputs": []
    },
    {
      "cell_type": "code",
      "metadata": {
        "id": "ht0epr59Sv5U",
        "colab_type": "code",
        "colab": {
          "base_uri": "https://localhost:8080/",
          "height": 55
        },
        "outputId": "17df9af5-f3d3-4f3c-d18f-71814a28657f"
      },
      "source": [
        "# Load the Drive helper and mount\n",
        "from google.colab import drive\n",
        "\n",
        "# This will prompt for authorization.\n",
        "drive.mount('/content/drive')"
      ],
      "execution_count": 4,
      "outputs": [
        {
          "output_type": "stream",
          "text": [
            "Drive already mounted at /content/drive; to attempt to forcibly remount, call drive.mount(\"/content/drive\", force_remount=True).\n"
          ],
          "name": "stdout"
        }
      ]
    },
    {
      "cell_type": "code",
      "metadata": {
        "id": "dSNj3TUXS2oX",
        "colab_type": "code",
        "colab": {
          "base_uri": "https://localhost:8080/",
          "height": 1000
        },
        "outputId": "c33824e2-1fb8-4737-8102-0f010e67eb64"
      },
      "source": [
        "!ls \"/content/drive/My Drive/dsb4\""
      ],
      "execution_count": 5,
      "outputs": [
        {
          "output_type": "stream",
          "text": [
            "dsgdb9nsd_000001.xyz  dsgdb9nsd_001001.xyz  dsgdb9nsd_002001.xyz\n",
            "dsgdb9nsd_000002.xyz  dsgdb9nsd_001002.xyz  dsgdb9nsd_002002.xyz\n",
            "dsgdb9nsd_000003.xyz  dsgdb9nsd_001003.xyz  dsgdb9nsd_002003.xyz\n",
            "dsgdb9nsd_000004.xyz  dsgdb9nsd_001004.xyz  dsgdb9nsd_002004.xyz\n",
            "dsgdb9nsd_000005.xyz  dsgdb9nsd_001005.xyz  dsgdb9nsd_002005.xyz\n",
            "dsgdb9nsd_000006.xyz  dsgdb9nsd_001006.xyz  dsgdb9nsd_002006.xyz\n",
            "dsgdb9nsd_000007.xyz  dsgdb9nsd_001007.xyz  dsgdb9nsd_002007.xyz\n",
            "dsgdb9nsd_000008.xyz  dsgdb9nsd_001008.xyz  dsgdb9nsd_002008.xyz\n",
            "dsgdb9nsd_000009.xyz  dsgdb9nsd_001009.xyz  dsgdb9nsd_002009.xyz\n",
            "dsgdb9nsd_000010.xyz  dsgdb9nsd_001010.xyz  dsgdb9nsd_002010.xyz\n",
            "dsgdb9nsd_000011.xyz  dsgdb9nsd_001011.xyz  dsgdb9nsd_002011.xyz\n",
            "dsgdb9nsd_000012.xyz  dsgdb9nsd_001012.xyz  dsgdb9nsd_002012.xyz\n",
            "dsgdb9nsd_000013.xyz  dsgdb9nsd_001013.xyz  dsgdb9nsd_002013.xyz\n",
            "dsgdb9nsd_000014.xyz  dsgdb9nsd_001014.xyz  dsgdb9nsd_002014.xyz\n",
            "dsgdb9nsd_000015.xyz  dsgdb9nsd_001015.xyz  dsgdb9nsd_002015.xyz\n",
            "dsgdb9nsd_000016.xyz  dsgdb9nsd_001016.xyz  dsgdb9nsd_002016.xyz\n",
            "dsgdb9nsd_000017.xyz  dsgdb9nsd_001017.xyz  dsgdb9nsd_002017.xyz\n",
            "dsgdb9nsd_000018.xyz  dsgdb9nsd_001018.xyz  dsgdb9nsd_002018.xyz\n",
            "dsgdb9nsd_000019.xyz  dsgdb9nsd_001019.xyz  dsgdb9nsd_002019.xyz\n",
            "dsgdb9nsd_000020.xyz  dsgdb9nsd_001020.xyz  dsgdb9nsd_002020.xyz\n",
            "dsgdb9nsd_000021.xyz  dsgdb9nsd_001021.xyz  dsgdb9nsd_002021.xyz\n",
            "dsgdb9nsd_000022.xyz  dsgdb9nsd_001022.xyz  dsgdb9nsd_002022.xyz\n",
            "dsgdb9nsd_000023.xyz  dsgdb9nsd_001023.xyz  dsgdb9nsd_002023.xyz\n",
            "dsgdb9nsd_000024.xyz  dsgdb9nsd_001024.xyz  dsgdb9nsd_002024.xyz\n",
            "dsgdb9nsd_000025.xyz  dsgdb9nsd_001025.xyz  dsgdb9nsd_002025.xyz\n",
            "dsgdb9nsd_000026.xyz  dsgdb9nsd_001026.xyz  dsgdb9nsd_002026.xyz\n",
            "dsgdb9nsd_000027.xyz  dsgdb9nsd_001027.xyz  dsgdb9nsd_002027.xyz\n",
            "dsgdb9nsd_000028.xyz  dsgdb9nsd_001028.xyz  dsgdb9nsd_002028.xyz\n",
            "dsgdb9nsd_000029.xyz  dsgdb9nsd_001029.xyz  dsgdb9nsd_002029.xyz\n",
            "dsgdb9nsd_000030.xyz  dsgdb9nsd_001030.xyz  dsgdb9nsd_002030.xyz\n",
            "dsgdb9nsd_000031.xyz  dsgdb9nsd_001031.xyz  dsgdb9nsd_002031.xyz\n",
            "dsgdb9nsd_000032.xyz  dsgdb9nsd_001032.xyz  dsgdb9nsd_002032.xyz\n",
            "dsgdb9nsd_000033.xyz  dsgdb9nsd_001033.xyz  dsgdb9nsd_002033.xyz\n",
            "dsgdb9nsd_000034.xyz  dsgdb9nsd_001034.xyz  dsgdb9nsd_002034.xyz\n",
            "dsgdb9nsd_000035.xyz  dsgdb9nsd_001035.xyz  dsgdb9nsd_002035.xyz\n",
            "dsgdb9nsd_000036.xyz  dsgdb9nsd_001036.xyz  dsgdb9nsd_002036.xyz\n",
            "dsgdb9nsd_000037.xyz  dsgdb9nsd_001037.xyz  dsgdb9nsd_002037.xyz\n",
            "dsgdb9nsd_000038.xyz  dsgdb9nsd_001038.xyz  dsgdb9nsd_002038.xyz\n",
            "dsgdb9nsd_000039.xyz  dsgdb9nsd_001039.xyz  dsgdb9nsd_002039.xyz\n",
            "dsgdb9nsd_000040.xyz  dsgdb9nsd_001040.xyz  dsgdb9nsd_002040.xyz\n",
            "dsgdb9nsd_000041.xyz  dsgdb9nsd_001041.xyz  dsgdb9nsd_002041.xyz\n",
            "dsgdb9nsd_000042.xyz  dsgdb9nsd_001042.xyz  dsgdb9nsd_002042.xyz\n",
            "dsgdb9nsd_000043.xyz  dsgdb9nsd_001043.xyz  dsgdb9nsd_002043.xyz\n",
            "dsgdb9nsd_000044.xyz  dsgdb9nsd_001044.xyz  dsgdb9nsd_002044.xyz\n",
            "dsgdb9nsd_000045.xyz  dsgdb9nsd_001045.xyz  dsgdb9nsd_002045.xyz\n",
            "dsgdb9nsd_000046.xyz  dsgdb9nsd_001046.xyz  dsgdb9nsd_002046.xyz\n",
            "dsgdb9nsd_000047.xyz  dsgdb9nsd_001047.xyz  dsgdb9nsd_002047.xyz\n",
            "dsgdb9nsd_000048.xyz  dsgdb9nsd_001048.xyz  dsgdb9nsd_002048.xyz\n",
            "dsgdb9nsd_000049.xyz  dsgdb9nsd_001049.xyz  dsgdb9nsd_002049.xyz\n",
            "dsgdb9nsd_000050.xyz  dsgdb9nsd_001050.xyz  dsgdb9nsd_002050.xyz\n",
            "dsgdb9nsd_000051.xyz  dsgdb9nsd_001051.xyz  dsgdb9nsd_002051.xyz\n",
            "dsgdb9nsd_000052.xyz  dsgdb9nsd_001052.xyz  dsgdb9nsd_002052.xyz\n",
            "dsgdb9nsd_000053.xyz  dsgdb9nsd_001053.xyz  dsgdb9nsd_002053.xyz\n",
            "dsgdb9nsd_000054.xyz  dsgdb9nsd_001054.xyz  dsgdb9nsd_002054.xyz\n",
            "dsgdb9nsd_000055.xyz  dsgdb9nsd_001055.xyz  dsgdb9nsd_002055.xyz\n",
            "dsgdb9nsd_000056.xyz  dsgdb9nsd_001056.xyz  dsgdb9nsd_002056.xyz\n",
            "dsgdb9nsd_000057.xyz  dsgdb9nsd_001057.xyz  dsgdb9nsd_002057.xyz\n",
            "dsgdb9nsd_000058.xyz  dsgdb9nsd_001058.xyz  dsgdb9nsd_002058.xyz\n",
            "dsgdb9nsd_000059.xyz  dsgdb9nsd_001059.xyz  dsgdb9nsd_002059.xyz\n",
            "dsgdb9nsd_000060.xyz  dsgdb9nsd_001060.xyz  dsgdb9nsd_002060.xyz\n",
            "dsgdb9nsd_000061.xyz  dsgdb9nsd_001061.xyz  dsgdb9nsd_002061.xyz\n",
            "dsgdb9nsd_000062.xyz  dsgdb9nsd_001062.xyz  dsgdb9nsd_002062.xyz\n",
            "dsgdb9nsd_000063.xyz  dsgdb9nsd_001063.xyz  dsgdb9nsd_002063.xyz\n",
            "dsgdb9nsd_000064.xyz  dsgdb9nsd_001064.xyz  dsgdb9nsd_002064.xyz\n",
            "dsgdb9nsd_000065.xyz  dsgdb9nsd_001065.xyz  dsgdb9nsd_002065.xyz\n",
            "dsgdb9nsd_000066.xyz  dsgdb9nsd_001066.xyz  dsgdb9nsd_002066.xyz\n",
            "dsgdb9nsd_000067.xyz  dsgdb9nsd_001067.xyz  dsgdb9nsd_002067.xyz\n",
            "dsgdb9nsd_000068.xyz  dsgdb9nsd_001068.xyz  dsgdb9nsd_002068.xyz\n",
            "dsgdb9nsd_000069.xyz  dsgdb9nsd_001069.xyz  dsgdb9nsd_002069.xyz\n",
            "dsgdb9nsd_000070.xyz  dsgdb9nsd_001070.xyz  dsgdb9nsd_002070.xyz\n",
            "dsgdb9nsd_000071.xyz  dsgdb9nsd_001071.xyz  dsgdb9nsd_002071.xyz\n",
            "dsgdb9nsd_000072.xyz  dsgdb9nsd_001072.xyz  dsgdb9nsd_002072.xyz\n",
            "dsgdb9nsd_000073.xyz  dsgdb9nsd_001073.xyz  dsgdb9nsd_002073.xyz\n",
            "dsgdb9nsd_000074.xyz  dsgdb9nsd_001074.xyz  dsgdb9nsd_002074.xyz\n",
            "dsgdb9nsd_000075.xyz  dsgdb9nsd_001075.xyz  dsgdb9nsd_002075.xyz\n",
            "dsgdb9nsd_000076.xyz  dsgdb9nsd_001076.xyz  dsgdb9nsd_002076.xyz\n",
            "dsgdb9nsd_000077.xyz  dsgdb9nsd_001077.xyz  dsgdb9nsd_002077.xyz\n",
            "dsgdb9nsd_000078.xyz  dsgdb9nsd_001078.xyz  dsgdb9nsd_002078.xyz\n",
            "dsgdb9nsd_000079.xyz  dsgdb9nsd_001079.xyz  dsgdb9nsd_002079.xyz\n",
            "dsgdb9nsd_000080.xyz  dsgdb9nsd_001080.xyz  dsgdb9nsd_002080.xyz\n",
            "dsgdb9nsd_000081.xyz  dsgdb9nsd_001081.xyz  dsgdb9nsd_002081.xyz\n",
            "dsgdb9nsd_000082.xyz  dsgdb9nsd_001082.xyz  dsgdb9nsd_002082.xyz\n",
            "dsgdb9nsd_000083.xyz  dsgdb9nsd_001083.xyz  dsgdb9nsd_002083.xyz\n",
            "dsgdb9nsd_000084.xyz  dsgdb9nsd_001084.xyz  dsgdb9nsd_002084.xyz\n",
            "dsgdb9nsd_000085.xyz  dsgdb9nsd_001085.xyz  dsgdb9nsd_002085.xyz\n",
            "dsgdb9nsd_000086.xyz  dsgdb9nsd_001086.xyz  dsgdb9nsd_002086.xyz\n",
            "dsgdb9nsd_000087.xyz  dsgdb9nsd_001087.xyz  dsgdb9nsd_002087.xyz\n",
            "dsgdb9nsd_000088.xyz  dsgdb9nsd_001088.xyz  dsgdb9nsd_002088.xyz\n",
            "dsgdb9nsd_000089.xyz  dsgdb9nsd_001089.xyz  dsgdb9nsd_002089.xyz\n",
            "dsgdb9nsd_000090.xyz  dsgdb9nsd_001090.xyz  dsgdb9nsd_002090.xyz\n",
            "dsgdb9nsd_000091.xyz  dsgdb9nsd_001091.xyz  dsgdb9nsd_002091.xyz\n",
            "dsgdb9nsd_000092.xyz  dsgdb9nsd_001092.xyz  dsgdb9nsd_002092.xyz\n",
            "dsgdb9nsd_000093.xyz  dsgdb9nsd_001093.xyz  dsgdb9nsd_002093.xyz\n",
            "dsgdb9nsd_000094.xyz  dsgdb9nsd_001094.xyz  dsgdb9nsd_002094.xyz\n",
            "dsgdb9nsd_000095.xyz  dsgdb9nsd_001095.xyz  dsgdb9nsd_002095.xyz\n",
            "dsgdb9nsd_000096.xyz  dsgdb9nsd_001096.xyz  dsgdb9nsd_002096.xyz\n",
            "dsgdb9nsd_000097.xyz  dsgdb9nsd_001097.xyz  dsgdb9nsd_002097.xyz\n",
            "dsgdb9nsd_000098.xyz  dsgdb9nsd_001098.xyz  dsgdb9nsd_002098.xyz\n",
            "dsgdb9nsd_000099.xyz  dsgdb9nsd_001099.xyz  dsgdb9nsd_002099.xyz\n",
            "dsgdb9nsd_000100.xyz  dsgdb9nsd_001100.xyz  dsgdb9nsd_002100.xyz\n",
            "dsgdb9nsd_000101.xyz  dsgdb9nsd_001101.xyz  dsgdb9nsd_002101.xyz\n",
            "dsgdb9nsd_000102.xyz  dsgdb9nsd_001102.xyz  dsgdb9nsd_002102.xyz\n",
            "dsgdb9nsd_000103.xyz  dsgdb9nsd_001103.xyz  dsgdb9nsd_002103.xyz\n",
            "dsgdb9nsd_000104.xyz  dsgdb9nsd_001104.xyz  dsgdb9nsd_002104.xyz\n",
            "dsgdb9nsd_000105.xyz  dsgdb9nsd_001105.xyz  dsgdb9nsd_002105.xyz\n",
            "dsgdb9nsd_000106.xyz  dsgdb9nsd_001106.xyz  dsgdb9nsd_002106.xyz\n",
            "dsgdb9nsd_000107.xyz  dsgdb9nsd_001107.xyz  dsgdb9nsd_002107.xyz\n",
            "dsgdb9nsd_000108.xyz  dsgdb9nsd_001108.xyz  dsgdb9nsd_002108.xyz\n",
            "dsgdb9nsd_000109.xyz  dsgdb9nsd_001109.xyz  dsgdb9nsd_002109.xyz\n",
            "dsgdb9nsd_000110.xyz  dsgdb9nsd_001110.xyz  dsgdb9nsd_002110.xyz\n",
            "dsgdb9nsd_000111.xyz  dsgdb9nsd_001111.xyz  dsgdb9nsd_002111.xyz\n",
            "dsgdb9nsd_000112.xyz  dsgdb9nsd_001112.xyz  dsgdb9nsd_002112.xyz\n",
            "dsgdb9nsd_000113.xyz  dsgdb9nsd_001113.xyz  dsgdb9nsd_002113.xyz\n",
            "dsgdb9nsd_000114.xyz  dsgdb9nsd_001114.xyz  dsgdb9nsd_002114.xyz\n",
            "dsgdb9nsd_000115.xyz  dsgdb9nsd_001115.xyz  dsgdb9nsd_002115.xyz\n",
            "dsgdb9nsd_000116.xyz  dsgdb9nsd_001116.xyz  dsgdb9nsd_002116.xyz\n",
            "dsgdb9nsd_000117.xyz  dsgdb9nsd_001117.xyz  dsgdb9nsd_002117.xyz\n",
            "dsgdb9nsd_000118.xyz  dsgdb9nsd_001118.xyz  dsgdb9nsd_002118.xyz\n",
            "dsgdb9nsd_000119.xyz  dsgdb9nsd_001119.xyz  dsgdb9nsd_002119.xyz\n",
            "dsgdb9nsd_000120.xyz  dsgdb9nsd_001120.xyz  dsgdb9nsd_002120.xyz\n",
            "dsgdb9nsd_000121.xyz  dsgdb9nsd_001121.xyz  dsgdb9nsd_002121.xyz\n",
            "dsgdb9nsd_000122.xyz  dsgdb9nsd_001122.xyz  dsgdb9nsd_002122.xyz\n",
            "dsgdb9nsd_000123.xyz  dsgdb9nsd_001123.xyz  dsgdb9nsd_002123.xyz\n",
            "dsgdb9nsd_000124.xyz  dsgdb9nsd_001124.xyz  dsgdb9nsd_002124.xyz\n",
            "dsgdb9nsd_000125.xyz  dsgdb9nsd_001125.xyz  dsgdb9nsd_002125.xyz\n",
            "dsgdb9nsd_000126.xyz  dsgdb9nsd_001126.xyz  dsgdb9nsd_002126.xyz\n",
            "dsgdb9nsd_000127.xyz  dsgdb9nsd_001127.xyz  dsgdb9nsd_002127.xyz\n",
            "dsgdb9nsd_000128.xyz  dsgdb9nsd_001128.xyz  dsgdb9nsd_002128.xyz\n",
            "dsgdb9nsd_000129.xyz  dsgdb9nsd_001129.xyz  dsgdb9nsd_002129.xyz\n",
            "dsgdb9nsd_000130.xyz  dsgdb9nsd_001130.xyz  dsgdb9nsd_002130.xyz\n",
            "dsgdb9nsd_000131.xyz  dsgdb9nsd_001131.xyz  dsgdb9nsd_002131.xyz\n",
            "dsgdb9nsd_000132.xyz  dsgdb9nsd_001132.xyz  dsgdb9nsd_002132.xyz\n",
            "dsgdb9nsd_000133.xyz  dsgdb9nsd_001133.xyz  dsgdb9nsd_002133.xyz\n",
            "dsgdb9nsd_000134.xyz  dsgdb9nsd_001134.xyz  dsgdb9nsd_002134.xyz\n",
            "dsgdb9nsd_000135.xyz  dsgdb9nsd_001135.xyz  dsgdb9nsd_002135.xyz\n",
            "dsgdb9nsd_000136.xyz  dsgdb9nsd_001136.xyz  dsgdb9nsd_002136.xyz\n",
            "dsgdb9nsd_000137.xyz  dsgdb9nsd_001137.xyz  dsgdb9nsd_002137.xyz\n",
            "dsgdb9nsd_000138.xyz  dsgdb9nsd_001138.xyz  dsgdb9nsd_002138.xyz\n",
            "dsgdb9nsd_000139.xyz  dsgdb9nsd_001139.xyz  dsgdb9nsd_002139.xyz\n",
            "dsgdb9nsd_000140.xyz  dsgdb9nsd_001140.xyz  dsgdb9nsd_002140.xyz\n",
            "dsgdb9nsd_000141.xyz  dsgdb9nsd_001141.xyz  dsgdb9nsd_002141.xyz\n",
            "dsgdb9nsd_000142.xyz  dsgdb9nsd_001142.xyz  dsgdb9nsd_002142.xyz\n",
            "dsgdb9nsd_000143.xyz  dsgdb9nsd_001143.xyz  dsgdb9nsd_002143.xyz\n",
            "dsgdb9nsd_000144.xyz  dsgdb9nsd_001144.xyz  dsgdb9nsd_002144.xyz\n",
            "dsgdb9nsd_000145.xyz  dsgdb9nsd_001145.xyz  dsgdb9nsd_002145.xyz\n",
            "dsgdb9nsd_000146.xyz  dsgdb9nsd_001146.xyz  dsgdb9nsd_002146.xyz\n",
            "dsgdb9nsd_000147.xyz  dsgdb9nsd_001147.xyz  dsgdb9nsd_002147.xyz\n",
            "dsgdb9nsd_000148.xyz  dsgdb9nsd_001148.xyz  dsgdb9nsd_002148.xyz\n",
            "dsgdb9nsd_000149.xyz  dsgdb9nsd_001149.xyz  dsgdb9nsd_002149.xyz\n",
            "dsgdb9nsd_000150.xyz  dsgdb9nsd_001150.xyz  dsgdb9nsd_002150.xyz\n",
            "dsgdb9nsd_000151.xyz  dsgdb9nsd_001151.xyz  dsgdb9nsd_002151.xyz\n",
            "dsgdb9nsd_000152.xyz  dsgdb9nsd_001152.xyz  dsgdb9nsd_002152.xyz\n",
            "dsgdb9nsd_000153.xyz  dsgdb9nsd_001153.xyz  dsgdb9nsd_002153.xyz\n",
            "dsgdb9nsd_000154.xyz  dsgdb9nsd_001154.xyz  dsgdb9nsd_002154.xyz\n",
            "dsgdb9nsd_000155.xyz  dsgdb9nsd_001155.xyz  dsgdb9nsd_002155.xyz\n",
            "dsgdb9nsd_000156.xyz  dsgdb9nsd_001156.xyz  dsgdb9nsd_002156.xyz\n",
            "dsgdb9nsd_000157.xyz  dsgdb9nsd_001157.xyz  dsgdb9nsd_002157.xyz\n",
            "dsgdb9nsd_000158.xyz  dsgdb9nsd_001158.xyz  dsgdb9nsd_002158.xyz\n",
            "dsgdb9nsd_000159.xyz  dsgdb9nsd_001159.xyz  dsgdb9nsd_002159.xyz\n",
            "dsgdb9nsd_000160.xyz  dsgdb9nsd_001160.xyz  dsgdb9nsd_002160.xyz\n",
            "dsgdb9nsd_000161.xyz  dsgdb9nsd_001161.xyz  dsgdb9nsd_002161.xyz\n",
            "dsgdb9nsd_000162.xyz  dsgdb9nsd_001162.xyz  dsgdb9nsd_002162.xyz\n",
            "dsgdb9nsd_000163.xyz  dsgdb9nsd_001163.xyz  dsgdb9nsd_002163.xyz\n",
            "dsgdb9nsd_000164.xyz  dsgdb9nsd_001164.xyz  dsgdb9nsd_002164.xyz\n",
            "dsgdb9nsd_000165.xyz  dsgdb9nsd_001165.xyz  dsgdb9nsd_002165.xyz\n",
            "dsgdb9nsd_000166.xyz  dsgdb9nsd_001166.xyz  dsgdb9nsd_002166.xyz\n",
            "dsgdb9nsd_000167.xyz  dsgdb9nsd_001167.xyz  dsgdb9nsd_002167.xyz\n",
            "dsgdb9nsd_000168.xyz  dsgdb9nsd_001168.xyz  dsgdb9nsd_002168.xyz\n",
            "dsgdb9nsd_000169.xyz  dsgdb9nsd_001169.xyz  dsgdb9nsd_002169.xyz\n",
            "dsgdb9nsd_000170.xyz  dsgdb9nsd_001170.xyz  dsgdb9nsd_002170.xyz\n",
            "dsgdb9nsd_000171.xyz  dsgdb9nsd_001171.xyz  dsgdb9nsd_002171.xyz\n",
            "dsgdb9nsd_000172.xyz  dsgdb9nsd_001172.xyz  dsgdb9nsd_002172.xyz\n",
            "dsgdb9nsd_000173.xyz  dsgdb9nsd_001173.xyz  dsgdb9nsd_002173.xyz\n",
            "dsgdb9nsd_000174.xyz  dsgdb9nsd_001174.xyz  dsgdb9nsd_002174.xyz\n",
            "dsgdb9nsd_000175.xyz  dsgdb9nsd_001175.xyz  dsgdb9nsd_002175.xyz\n",
            "dsgdb9nsd_000176.xyz  dsgdb9nsd_001176.xyz  dsgdb9nsd_002176.xyz\n",
            "dsgdb9nsd_000177.xyz  dsgdb9nsd_001177.xyz  dsgdb9nsd_002177.xyz\n",
            "dsgdb9nsd_000178.xyz  dsgdb9nsd_001178.xyz  dsgdb9nsd_002178.xyz\n",
            "dsgdb9nsd_000179.xyz  dsgdb9nsd_001179.xyz  dsgdb9nsd_002179.xyz\n",
            "dsgdb9nsd_000180.xyz  dsgdb9nsd_001180.xyz  dsgdb9nsd_002180.xyz\n",
            "dsgdb9nsd_000181.xyz  dsgdb9nsd_001181.xyz  dsgdb9nsd_002181.xyz\n",
            "dsgdb9nsd_000182.xyz  dsgdb9nsd_001182.xyz  dsgdb9nsd_002182.xyz\n",
            "dsgdb9nsd_000183.xyz  dsgdb9nsd_001183.xyz  dsgdb9nsd_002183.xyz\n",
            "dsgdb9nsd_000184.xyz  dsgdb9nsd_001184.xyz  dsgdb9nsd_002184.xyz\n",
            "dsgdb9nsd_000185.xyz  dsgdb9nsd_001185.xyz  dsgdb9nsd_002185.xyz\n",
            "dsgdb9nsd_000186.xyz  dsgdb9nsd_001186.xyz  dsgdb9nsd_002186.xyz\n",
            "dsgdb9nsd_000187.xyz  dsgdb9nsd_001187.xyz  dsgdb9nsd_002187.xyz\n",
            "dsgdb9nsd_000188.xyz  dsgdb9nsd_001188.xyz  dsgdb9nsd_002188.xyz\n",
            "dsgdb9nsd_000189.xyz  dsgdb9nsd_001189.xyz  dsgdb9nsd_002189.xyz\n",
            "dsgdb9nsd_000190.xyz  dsgdb9nsd_001190.xyz  dsgdb9nsd_002190.xyz\n",
            "dsgdb9nsd_000191.xyz  dsgdb9nsd_001191.xyz  dsgdb9nsd_002191.xyz\n",
            "dsgdb9nsd_000192.xyz  dsgdb9nsd_001192.xyz  dsgdb9nsd_002192.xyz\n",
            "dsgdb9nsd_000193.xyz  dsgdb9nsd_001193.xyz  dsgdb9nsd_002193.xyz\n",
            "dsgdb9nsd_000194.xyz  dsgdb9nsd_001194.xyz  dsgdb9nsd_002194.xyz\n",
            "dsgdb9nsd_000195.xyz  dsgdb9nsd_001195.xyz  dsgdb9nsd_002195.xyz\n",
            "dsgdb9nsd_000196.xyz  dsgdb9nsd_001196.xyz  dsgdb9nsd_002196.xyz\n",
            "dsgdb9nsd_000197.xyz  dsgdb9nsd_001197.xyz  dsgdb9nsd_002197.xyz\n",
            "dsgdb9nsd_000198.xyz  dsgdb9nsd_001198.xyz  dsgdb9nsd_002198.xyz\n",
            "dsgdb9nsd_000199.xyz  dsgdb9nsd_001199.xyz  dsgdb9nsd_002199.xyz\n",
            "dsgdb9nsd_000200.xyz  dsgdb9nsd_001200.xyz  dsgdb9nsd_002200.xyz\n",
            "dsgdb9nsd_000201.xyz  dsgdb9nsd_001201.xyz  dsgdb9nsd_002201.xyz\n",
            "dsgdb9nsd_000202.xyz  dsgdb9nsd_001202.xyz  dsgdb9nsd_002202.xyz\n",
            "dsgdb9nsd_000203.xyz  dsgdb9nsd_001203.xyz  dsgdb9nsd_002203.xyz\n",
            "dsgdb9nsd_000204.xyz  dsgdb9nsd_001204.xyz  dsgdb9nsd_002204.xyz\n",
            "dsgdb9nsd_000205.xyz  dsgdb9nsd_001205.xyz  dsgdb9nsd_002205.xyz\n",
            "dsgdb9nsd_000206.xyz  dsgdb9nsd_001206.xyz  dsgdb9nsd_002206.xyz\n",
            "dsgdb9nsd_000207.xyz  dsgdb9nsd_001207.xyz  dsgdb9nsd_002207.xyz\n",
            "dsgdb9nsd_000208.xyz  dsgdb9nsd_001208.xyz  dsgdb9nsd_002208.xyz\n",
            "dsgdb9nsd_000209.xyz  dsgdb9nsd_001209.xyz  dsgdb9nsd_002209.xyz\n",
            "dsgdb9nsd_000210.xyz  dsgdb9nsd_001210.xyz  dsgdb9nsd_002210.xyz\n",
            "dsgdb9nsd_000211.xyz  dsgdb9nsd_001211.xyz  dsgdb9nsd_002211.xyz\n",
            "dsgdb9nsd_000212.xyz  dsgdb9nsd_001212.xyz  dsgdb9nsd_002212.xyz\n",
            "dsgdb9nsd_000213.xyz  dsgdb9nsd_001213.xyz  dsgdb9nsd_002213.xyz\n",
            "dsgdb9nsd_000214.xyz  dsgdb9nsd_001214.xyz  dsgdb9nsd_002214.xyz\n",
            "dsgdb9nsd_000215.xyz  dsgdb9nsd_001215.xyz  dsgdb9nsd_002215.xyz\n",
            "dsgdb9nsd_000216.xyz  dsgdb9nsd_001216.xyz  dsgdb9nsd_002216.xyz\n",
            "dsgdb9nsd_000217.xyz  dsgdb9nsd_001217.xyz  dsgdb9nsd_002217.xyz\n",
            "dsgdb9nsd_000218.xyz  dsgdb9nsd_001218.xyz  dsgdb9nsd_002218.xyz\n",
            "dsgdb9nsd_000219.xyz  dsgdb9nsd_001219.xyz  dsgdb9nsd_002219.xyz\n",
            "dsgdb9nsd_000220.xyz  dsgdb9nsd_001220.xyz  dsgdb9nsd_002220.xyz\n",
            "dsgdb9nsd_000221.xyz  dsgdb9nsd_001221.xyz  dsgdb9nsd_002221.xyz\n",
            "dsgdb9nsd_000222.xyz  dsgdb9nsd_001222.xyz  dsgdb9nsd_002222.xyz\n",
            "dsgdb9nsd_000223.xyz  dsgdb9nsd_001223.xyz  dsgdb9nsd_002223.xyz\n",
            "dsgdb9nsd_000224.xyz  dsgdb9nsd_001224.xyz  dsgdb9nsd_002224.xyz\n",
            "dsgdb9nsd_000225.xyz  dsgdb9nsd_001225.xyz  dsgdb9nsd_002225.xyz\n",
            "dsgdb9nsd_000226.xyz  dsgdb9nsd_001226.xyz  dsgdb9nsd_002226.xyz\n",
            "dsgdb9nsd_000227.xyz  dsgdb9nsd_001227.xyz  dsgdb9nsd_002227.xyz\n",
            "dsgdb9nsd_000228.xyz  dsgdb9nsd_001228.xyz  dsgdb9nsd_002228.xyz\n",
            "dsgdb9nsd_000229.xyz  dsgdb9nsd_001229.xyz  dsgdb9nsd_002229.xyz\n",
            "dsgdb9nsd_000230.xyz  dsgdb9nsd_001230.xyz  dsgdb9nsd_002230.xyz\n",
            "dsgdb9nsd_000231.xyz  dsgdb9nsd_001231.xyz  dsgdb9nsd_002231.xyz\n",
            "dsgdb9nsd_000232.xyz  dsgdb9nsd_001232.xyz  dsgdb9nsd_002232.xyz\n",
            "dsgdb9nsd_000233.xyz  dsgdb9nsd_001233.xyz  dsgdb9nsd_002233.xyz\n",
            "dsgdb9nsd_000234.xyz  dsgdb9nsd_001234.xyz  dsgdb9nsd_002234.xyz\n",
            "dsgdb9nsd_000235.xyz  dsgdb9nsd_001235.xyz  dsgdb9nsd_002235.xyz\n",
            "dsgdb9nsd_000236.xyz  dsgdb9nsd_001236.xyz  dsgdb9nsd_002236.xyz\n",
            "dsgdb9nsd_000237.xyz  dsgdb9nsd_001237.xyz  dsgdb9nsd_002237.xyz\n",
            "dsgdb9nsd_000238.xyz  dsgdb9nsd_001238.xyz  dsgdb9nsd_002238.xyz\n",
            "dsgdb9nsd_000239.xyz  dsgdb9nsd_001239.xyz  dsgdb9nsd_002239.xyz\n",
            "dsgdb9nsd_000240.xyz  dsgdb9nsd_001240.xyz  dsgdb9nsd_002240.xyz\n",
            "dsgdb9nsd_000241.xyz  dsgdb9nsd_001241.xyz  dsgdb9nsd_002241.xyz\n",
            "dsgdb9nsd_000242.xyz  dsgdb9nsd_001242.xyz  dsgdb9nsd_002242.xyz\n",
            "dsgdb9nsd_000243.xyz  dsgdb9nsd_001243.xyz  dsgdb9nsd_002243.xyz\n",
            "dsgdb9nsd_000244.xyz  dsgdb9nsd_001244.xyz  dsgdb9nsd_002244.xyz\n",
            "dsgdb9nsd_000245.xyz  dsgdb9nsd_001245.xyz  dsgdb9nsd_002245.xyz\n",
            "dsgdb9nsd_000246.xyz  dsgdb9nsd_001246.xyz  dsgdb9nsd_002246.xyz\n",
            "dsgdb9nsd_000247.xyz  dsgdb9nsd_001247.xyz  dsgdb9nsd_002247.xyz\n",
            "dsgdb9nsd_000248.xyz  dsgdb9nsd_001248.xyz  dsgdb9nsd_002248.xyz\n",
            "dsgdb9nsd_000249.xyz  dsgdb9nsd_001249.xyz  dsgdb9nsd_002249.xyz\n",
            "dsgdb9nsd_000250.xyz  dsgdb9nsd_001250.xyz  dsgdb9nsd_002250.xyz\n",
            "dsgdb9nsd_000251.xyz  dsgdb9nsd_001251.xyz  dsgdb9nsd_002251.xyz\n",
            "dsgdb9nsd_000252.xyz  dsgdb9nsd_001252.xyz  dsgdb9nsd_002252.xyz\n",
            "dsgdb9nsd_000253.xyz  dsgdb9nsd_001253.xyz  dsgdb9nsd_002253.xyz\n",
            "dsgdb9nsd_000254.xyz  dsgdb9nsd_001254.xyz  dsgdb9nsd_002254.xyz\n",
            "dsgdb9nsd_000255.xyz  dsgdb9nsd_001255.xyz  dsgdb9nsd_002255.xyz\n",
            "dsgdb9nsd_000256.xyz  dsgdb9nsd_001256.xyz  dsgdb9nsd_002256.xyz\n",
            "dsgdb9nsd_000257.xyz  dsgdb9nsd_001257.xyz  dsgdb9nsd_002257.xyz\n",
            "dsgdb9nsd_000258.xyz  dsgdb9nsd_001258.xyz  dsgdb9nsd_002258.xyz\n",
            "dsgdb9nsd_000259.xyz  dsgdb9nsd_001259.xyz  dsgdb9nsd_002259.xyz\n",
            "dsgdb9nsd_000260.xyz  dsgdb9nsd_001260.xyz  dsgdb9nsd_002260.xyz\n",
            "dsgdb9nsd_000261.xyz  dsgdb9nsd_001261.xyz  dsgdb9nsd_002261.xyz\n",
            "dsgdb9nsd_000262.xyz  dsgdb9nsd_001262.xyz  dsgdb9nsd_002262.xyz\n",
            "dsgdb9nsd_000263.xyz  dsgdb9nsd_001263.xyz  dsgdb9nsd_002263.xyz\n",
            "dsgdb9nsd_000264.xyz  dsgdb9nsd_001264.xyz  dsgdb9nsd_002264.xyz\n",
            "dsgdb9nsd_000265.xyz  dsgdb9nsd_001265.xyz  dsgdb9nsd_002265.xyz\n",
            "dsgdb9nsd_000266.xyz  dsgdb9nsd_001266.xyz  dsgdb9nsd_002266.xyz\n",
            "dsgdb9nsd_000267.xyz  dsgdb9nsd_001267.xyz  dsgdb9nsd_002267.xyz\n",
            "dsgdb9nsd_000268.xyz  dsgdb9nsd_001268.xyz  dsgdb9nsd_002268.xyz\n",
            "dsgdb9nsd_000269.xyz  dsgdb9nsd_001269.xyz  dsgdb9nsd_002269.xyz\n",
            "dsgdb9nsd_000270.xyz  dsgdb9nsd_001270.xyz  dsgdb9nsd_002270.xyz\n",
            "dsgdb9nsd_000271.xyz  dsgdb9nsd_001271.xyz  dsgdb9nsd_002271.xyz\n",
            "dsgdb9nsd_000272.xyz  dsgdb9nsd_001272.xyz  dsgdb9nsd_002272.xyz\n",
            "dsgdb9nsd_000273.xyz  dsgdb9nsd_001273.xyz  dsgdb9nsd_002273.xyz\n",
            "dsgdb9nsd_000274.xyz  dsgdb9nsd_001274.xyz  dsgdb9nsd_002274.xyz\n",
            "dsgdb9nsd_000275.xyz  dsgdb9nsd_001275.xyz  dsgdb9nsd_002275.xyz\n",
            "dsgdb9nsd_000276.xyz  dsgdb9nsd_001276.xyz  dsgdb9nsd_002276.xyz\n",
            "dsgdb9nsd_000277.xyz  dsgdb9nsd_001277.xyz  dsgdb9nsd_002277.xyz\n",
            "dsgdb9nsd_000278.xyz  dsgdb9nsd_001278.xyz  dsgdb9nsd_002278.xyz\n",
            "dsgdb9nsd_000279.xyz  dsgdb9nsd_001279.xyz  dsgdb9nsd_002279.xyz\n",
            "dsgdb9nsd_000280.xyz  dsgdb9nsd_001280.xyz  dsgdb9nsd_002280.xyz\n",
            "dsgdb9nsd_000281.xyz  dsgdb9nsd_001281.xyz  dsgdb9nsd_002281.xyz\n",
            "dsgdb9nsd_000282.xyz  dsgdb9nsd_001282.xyz  dsgdb9nsd_002282.xyz\n",
            "dsgdb9nsd_000283.xyz  dsgdb9nsd_001283.xyz  dsgdb9nsd_002283.xyz\n",
            "dsgdb9nsd_000284.xyz  dsgdb9nsd_001284.xyz  dsgdb9nsd_002284.xyz\n",
            "dsgdb9nsd_000285.xyz  dsgdb9nsd_001285.xyz  dsgdb9nsd_002285.xyz\n",
            "dsgdb9nsd_000286.xyz  dsgdb9nsd_001286.xyz  dsgdb9nsd_002286.xyz\n",
            "dsgdb9nsd_000287.xyz  dsgdb9nsd_001287.xyz  dsgdb9nsd_002287.xyz\n",
            "dsgdb9nsd_000288.xyz  dsgdb9nsd_001288.xyz  dsgdb9nsd_002288.xyz\n",
            "dsgdb9nsd_000289.xyz  dsgdb9nsd_001289.xyz  dsgdb9nsd_002289.xyz\n",
            "dsgdb9nsd_000290.xyz  dsgdb9nsd_001290.xyz  dsgdb9nsd_002290.xyz\n",
            "dsgdb9nsd_000291.xyz  dsgdb9nsd_001291.xyz  dsgdb9nsd_002291.xyz\n",
            "dsgdb9nsd_000292.xyz  dsgdb9nsd_001292.xyz  dsgdb9nsd_002292.xyz\n",
            "dsgdb9nsd_000293.xyz  dsgdb9nsd_001293.xyz  dsgdb9nsd_002293.xyz\n",
            "dsgdb9nsd_000294.xyz  dsgdb9nsd_001294.xyz  dsgdb9nsd_002294.xyz\n",
            "dsgdb9nsd_000295.xyz  dsgdb9nsd_001295.xyz  dsgdb9nsd_002295.xyz\n",
            "dsgdb9nsd_000296.xyz  dsgdb9nsd_001296.xyz  dsgdb9nsd_002296.xyz\n",
            "dsgdb9nsd_000297.xyz  dsgdb9nsd_001297.xyz  dsgdb9nsd_002297.xyz\n",
            "dsgdb9nsd_000298.xyz  dsgdb9nsd_001298.xyz  dsgdb9nsd_002298.xyz\n",
            "dsgdb9nsd_000299.xyz  dsgdb9nsd_001299.xyz  dsgdb9nsd_002299.xyz\n",
            "dsgdb9nsd_000300.xyz  dsgdb9nsd_001300.xyz  dsgdb9nsd_002300.xyz\n",
            "dsgdb9nsd_000301.xyz  dsgdb9nsd_001301.xyz  dsgdb9nsd_002301.xyz\n",
            "dsgdb9nsd_000302.xyz  dsgdb9nsd_001302.xyz  dsgdb9nsd_002302.xyz\n",
            "dsgdb9nsd_000303.xyz  dsgdb9nsd_001303.xyz  dsgdb9nsd_002303.xyz\n",
            "dsgdb9nsd_000304.xyz  dsgdb9nsd_001304.xyz  dsgdb9nsd_002304.xyz\n",
            "dsgdb9nsd_000305.xyz  dsgdb9nsd_001305.xyz  dsgdb9nsd_002305.xyz\n",
            "dsgdb9nsd_000306.xyz  dsgdb9nsd_001306.xyz  dsgdb9nsd_002306.xyz\n",
            "dsgdb9nsd_000307.xyz  dsgdb9nsd_001307.xyz  dsgdb9nsd_002307.xyz\n",
            "dsgdb9nsd_000308.xyz  dsgdb9nsd_001308.xyz  dsgdb9nsd_002308.xyz\n",
            "dsgdb9nsd_000309.xyz  dsgdb9nsd_001309.xyz  dsgdb9nsd_002309.xyz\n",
            "dsgdb9nsd_000310.xyz  dsgdb9nsd_001310.xyz  dsgdb9nsd_002310.xyz\n",
            "dsgdb9nsd_000311.xyz  dsgdb9nsd_001311.xyz  dsgdb9nsd_002311.xyz\n",
            "dsgdb9nsd_000312.xyz  dsgdb9nsd_001312.xyz  dsgdb9nsd_002312.xyz\n",
            "dsgdb9nsd_000313.xyz  dsgdb9nsd_001313.xyz  dsgdb9nsd_002313.xyz\n",
            "dsgdb9nsd_000314.xyz  dsgdb9nsd_001314.xyz  dsgdb9nsd_002314.xyz\n",
            "dsgdb9nsd_000315.xyz  dsgdb9nsd_001315.xyz  dsgdb9nsd_002315.xyz\n",
            "dsgdb9nsd_000316.xyz  dsgdb9nsd_001316.xyz  dsgdb9nsd_002316.xyz\n",
            "dsgdb9nsd_000317.xyz  dsgdb9nsd_001317.xyz  dsgdb9nsd_002317.xyz\n",
            "dsgdb9nsd_000318.xyz  dsgdb9nsd_001318.xyz  dsgdb9nsd_002318.xyz\n",
            "dsgdb9nsd_000319.xyz  dsgdb9nsd_001319.xyz  dsgdb9nsd_002319.xyz\n",
            "dsgdb9nsd_000320.xyz  dsgdb9nsd_001320.xyz  dsgdb9nsd_002320.xyz\n",
            "dsgdb9nsd_000321.xyz  dsgdb9nsd_001321.xyz  dsgdb9nsd_002321.xyz\n",
            "dsgdb9nsd_000322.xyz  dsgdb9nsd_001322.xyz  dsgdb9nsd_002322.xyz\n",
            "dsgdb9nsd_000323.xyz  dsgdb9nsd_001323.xyz  dsgdb9nsd_002323.xyz\n",
            "dsgdb9nsd_000324.xyz  dsgdb9nsd_001324.xyz  dsgdb9nsd_002324.xyz\n",
            "dsgdb9nsd_000325.xyz  dsgdb9nsd_001325.xyz  dsgdb9nsd_002325.xyz\n",
            "dsgdb9nsd_000326.xyz  dsgdb9nsd_001326.xyz  dsgdb9nsd_002326.xyz\n",
            "dsgdb9nsd_000327.xyz  dsgdb9nsd_001327.xyz  dsgdb9nsd_002327.xyz\n",
            "dsgdb9nsd_000328.xyz  dsgdb9nsd_001328.xyz  dsgdb9nsd_002328.xyz\n",
            "dsgdb9nsd_000329.xyz  dsgdb9nsd_001329.xyz  dsgdb9nsd_002329.xyz\n",
            "dsgdb9nsd_000330.xyz  dsgdb9nsd_001330.xyz  dsgdb9nsd_002330.xyz\n",
            "dsgdb9nsd_000331.xyz  dsgdb9nsd_001331.xyz  dsgdb9nsd_002331.xyz\n",
            "dsgdb9nsd_000332.xyz  dsgdb9nsd_001332.xyz  dsgdb9nsd_002332.xyz\n",
            "dsgdb9nsd_000333.xyz  dsgdb9nsd_001333.xyz  dsgdb9nsd_002333.xyz\n",
            "dsgdb9nsd_000334.xyz  dsgdb9nsd_001334.xyz  dsgdb9nsd_002334.xyz\n",
            "dsgdb9nsd_000335.xyz  dsgdb9nsd_001335.xyz  dsgdb9nsd_002335.xyz\n",
            "dsgdb9nsd_000336.xyz  dsgdb9nsd_001336.xyz  dsgdb9nsd_002336.xyz\n",
            "dsgdb9nsd_000337.xyz  dsgdb9nsd_001337.xyz  dsgdb9nsd_002337.xyz\n",
            "dsgdb9nsd_000338.xyz  dsgdb9nsd_001338.xyz  dsgdb9nsd_002338.xyz\n",
            "dsgdb9nsd_000339.xyz  dsgdb9nsd_001339.xyz  dsgdb9nsd_002339.xyz\n",
            "dsgdb9nsd_000340.xyz  dsgdb9nsd_001340.xyz  dsgdb9nsd_002340.xyz\n",
            "dsgdb9nsd_000341.xyz  dsgdb9nsd_001341.xyz  dsgdb9nsd_002341.xyz\n",
            "dsgdb9nsd_000342.xyz  dsgdb9nsd_001342.xyz  dsgdb9nsd_002342.xyz\n",
            "dsgdb9nsd_000343.xyz  dsgdb9nsd_001343.xyz  dsgdb9nsd_002343.xyz\n",
            "dsgdb9nsd_000344.xyz  dsgdb9nsd_001344.xyz  dsgdb9nsd_002344.xyz\n",
            "dsgdb9nsd_000345.xyz  dsgdb9nsd_001345.xyz  dsgdb9nsd_002345.xyz\n",
            "dsgdb9nsd_000346.xyz  dsgdb9nsd_001346.xyz  dsgdb9nsd_002346.xyz\n",
            "dsgdb9nsd_000347.xyz  dsgdb9nsd_001347.xyz  dsgdb9nsd_002347.xyz\n",
            "dsgdb9nsd_000348.xyz  dsgdb9nsd_001348.xyz  dsgdb9nsd_002348.xyz\n",
            "dsgdb9nsd_000349.xyz  dsgdb9nsd_001349.xyz  dsgdb9nsd_002349.xyz\n",
            "dsgdb9nsd_000350.xyz  dsgdb9nsd_001350.xyz  dsgdb9nsd_002350.xyz\n",
            "dsgdb9nsd_000351.xyz  dsgdb9nsd_001351.xyz  dsgdb9nsd_002351.xyz\n",
            "dsgdb9nsd_000352.xyz  dsgdb9nsd_001352.xyz  dsgdb9nsd_002352.xyz\n",
            "dsgdb9nsd_000353.xyz  dsgdb9nsd_001353.xyz  dsgdb9nsd_002353.xyz\n",
            "dsgdb9nsd_000354.xyz  dsgdb9nsd_001354.xyz  dsgdb9nsd_002354.xyz\n",
            "dsgdb9nsd_000355.xyz  dsgdb9nsd_001355.xyz  dsgdb9nsd_002355.xyz\n",
            "dsgdb9nsd_000356.xyz  dsgdb9nsd_001356.xyz  dsgdb9nsd_002356.xyz\n",
            "dsgdb9nsd_000357.xyz  dsgdb9nsd_001357.xyz  dsgdb9nsd_002357.xyz\n",
            "dsgdb9nsd_000358.xyz  dsgdb9nsd_001358.xyz  dsgdb9nsd_002358.xyz\n",
            "dsgdb9nsd_000359.xyz  dsgdb9nsd_001359.xyz  dsgdb9nsd_002359.xyz\n",
            "dsgdb9nsd_000360.xyz  dsgdb9nsd_001360.xyz  dsgdb9nsd_002360.xyz\n",
            "dsgdb9nsd_000361.xyz  dsgdb9nsd_001361.xyz  dsgdb9nsd_002361.xyz\n",
            "dsgdb9nsd_000362.xyz  dsgdb9nsd_001362.xyz  dsgdb9nsd_002362.xyz\n",
            "dsgdb9nsd_000363.xyz  dsgdb9nsd_001363.xyz  dsgdb9nsd_002363.xyz\n",
            "dsgdb9nsd_000364.xyz  dsgdb9nsd_001364.xyz  dsgdb9nsd_002364.xyz\n",
            "dsgdb9nsd_000365.xyz  dsgdb9nsd_001365.xyz  dsgdb9nsd_002365.xyz\n",
            "dsgdb9nsd_000366.xyz  dsgdb9nsd_001366.xyz  dsgdb9nsd_002366.xyz\n",
            "dsgdb9nsd_000367.xyz  dsgdb9nsd_001367.xyz  dsgdb9nsd_002367.xyz\n",
            "dsgdb9nsd_000368.xyz  dsgdb9nsd_001368.xyz  dsgdb9nsd_002368.xyz\n",
            "dsgdb9nsd_000369.xyz  dsgdb9nsd_001369.xyz  dsgdb9nsd_002369.xyz\n",
            "dsgdb9nsd_000370.xyz  dsgdb9nsd_001370.xyz  dsgdb9nsd_002370.xyz\n",
            "dsgdb9nsd_000371.xyz  dsgdb9nsd_001371.xyz  dsgdb9nsd_002371.xyz\n",
            "dsgdb9nsd_000372.xyz  dsgdb9nsd_001372.xyz  dsgdb9nsd_002372.xyz\n",
            "dsgdb9nsd_000373.xyz  dsgdb9nsd_001373.xyz  dsgdb9nsd_002373.xyz\n",
            "dsgdb9nsd_000374.xyz  dsgdb9nsd_001374.xyz  dsgdb9nsd_002374.xyz\n",
            "dsgdb9nsd_000375.xyz  dsgdb9nsd_001375.xyz  dsgdb9nsd_002375.xyz\n",
            "dsgdb9nsd_000376.xyz  dsgdb9nsd_001376.xyz  dsgdb9nsd_002376.xyz\n",
            "dsgdb9nsd_000377.xyz  dsgdb9nsd_001377.xyz  dsgdb9nsd_002377.xyz\n",
            "dsgdb9nsd_000378.xyz  dsgdb9nsd_001378.xyz  dsgdb9nsd_002378.xyz\n",
            "dsgdb9nsd_000379.xyz  dsgdb9nsd_001379.xyz  dsgdb9nsd_002379.xyz\n",
            "dsgdb9nsd_000380.xyz  dsgdb9nsd_001380.xyz  dsgdb9nsd_002380.xyz\n",
            "dsgdb9nsd_000381.xyz  dsgdb9nsd_001381.xyz  dsgdb9nsd_002381.xyz\n",
            "dsgdb9nsd_000382.xyz  dsgdb9nsd_001382.xyz  dsgdb9nsd_002382.xyz\n",
            "dsgdb9nsd_000383.xyz  dsgdb9nsd_001383.xyz  dsgdb9nsd_002383.xyz\n",
            "dsgdb9nsd_000384.xyz  dsgdb9nsd_001384.xyz  dsgdb9nsd_002384.xyz\n",
            "dsgdb9nsd_000385.xyz  dsgdb9nsd_001385.xyz  dsgdb9nsd_002385.xyz\n",
            "dsgdb9nsd_000386.xyz  dsgdb9nsd_001386.xyz  dsgdb9nsd_002386.xyz\n",
            "dsgdb9nsd_000387.xyz  dsgdb9nsd_001387.xyz  dsgdb9nsd_002387.xyz\n",
            "dsgdb9nsd_000388.xyz  dsgdb9nsd_001388.xyz  dsgdb9nsd_002388.xyz\n",
            "dsgdb9nsd_000389.xyz  dsgdb9nsd_001389.xyz  dsgdb9nsd_002389.xyz\n",
            "dsgdb9nsd_000390.xyz  dsgdb9nsd_001390.xyz  dsgdb9nsd_002390.xyz\n",
            "dsgdb9nsd_000391.xyz  dsgdb9nsd_001391.xyz  dsgdb9nsd_002391.xyz\n",
            "dsgdb9nsd_000392.xyz  dsgdb9nsd_001392.xyz  dsgdb9nsd_002392.xyz\n",
            "dsgdb9nsd_000393.xyz  dsgdb9nsd_001393.xyz  dsgdb9nsd_002393.xyz\n",
            "dsgdb9nsd_000394.xyz  dsgdb9nsd_001394.xyz  dsgdb9nsd_002394.xyz\n",
            "dsgdb9nsd_000395.xyz  dsgdb9nsd_001395.xyz  dsgdb9nsd_002395.xyz\n",
            "dsgdb9nsd_000396.xyz  dsgdb9nsd_001396.xyz  dsgdb9nsd_002396.xyz\n",
            "dsgdb9nsd_000397.xyz  dsgdb9nsd_001397.xyz  dsgdb9nsd_002397.xyz\n",
            "dsgdb9nsd_000398.xyz  dsgdb9nsd_001398.xyz  dsgdb9nsd_002398.xyz\n",
            "dsgdb9nsd_000399.xyz  dsgdb9nsd_001399.xyz  dsgdb9nsd_002399.xyz\n",
            "dsgdb9nsd_000400.xyz  dsgdb9nsd_001400.xyz  dsgdb9nsd_002400.xyz\n",
            "dsgdb9nsd_000401.xyz  dsgdb9nsd_001401.xyz  dsgdb9nsd_002401.xyz\n",
            "dsgdb9nsd_000402.xyz  dsgdb9nsd_001402.xyz  dsgdb9nsd_002402.xyz\n",
            "dsgdb9nsd_000403.xyz  dsgdb9nsd_001403.xyz  dsgdb9nsd_002403.xyz\n",
            "dsgdb9nsd_000404.xyz  dsgdb9nsd_001404.xyz  dsgdb9nsd_002404.xyz\n",
            "dsgdb9nsd_000405.xyz  dsgdb9nsd_001405.xyz  dsgdb9nsd_002405.xyz\n",
            "dsgdb9nsd_000406.xyz  dsgdb9nsd_001406.xyz  dsgdb9nsd_002406.xyz\n",
            "dsgdb9nsd_000407.xyz  dsgdb9nsd_001407.xyz  dsgdb9nsd_002407.xyz\n",
            "dsgdb9nsd_000408.xyz  dsgdb9nsd_001408.xyz  dsgdb9nsd_002408.xyz\n",
            "dsgdb9nsd_000409.xyz  dsgdb9nsd_001409.xyz  dsgdb9nsd_002409.xyz\n",
            "dsgdb9nsd_000410.xyz  dsgdb9nsd_001410.xyz  dsgdb9nsd_002410.xyz\n",
            "dsgdb9nsd_000411.xyz  dsgdb9nsd_001411.xyz  dsgdb9nsd_002411.xyz\n",
            "dsgdb9nsd_000412.xyz  dsgdb9nsd_001412.xyz  dsgdb9nsd_002412.xyz\n",
            "dsgdb9nsd_000413.xyz  dsgdb9nsd_001413.xyz  dsgdb9nsd_002413.xyz\n",
            "dsgdb9nsd_000414.xyz  dsgdb9nsd_001414.xyz  dsgdb9nsd_002414.xyz\n",
            "dsgdb9nsd_000415.xyz  dsgdb9nsd_001415.xyz  dsgdb9nsd_002415.xyz\n",
            "dsgdb9nsd_000416.xyz  dsgdb9nsd_001416.xyz  dsgdb9nsd_002416.xyz\n",
            "dsgdb9nsd_000417.xyz  dsgdb9nsd_001417.xyz  dsgdb9nsd_002417.xyz\n",
            "dsgdb9nsd_000418.xyz  dsgdb9nsd_001418.xyz  dsgdb9nsd_002418.xyz\n",
            "dsgdb9nsd_000419.xyz  dsgdb9nsd_001419.xyz  dsgdb9nsd_002419.xyz\n",
            "dsgdb9nsd_000420.xyz  dsgdb9nsd_001420.xyz  dsgdb9nsd_002420.xyz\n",
            "dsgdb9nsd_000421.xyz  dsgdb9nsd_001421.xyz  dsgdb9nsd_002421.xyz\n",
            "dsgdb9nsd_000422.xyz  dsgdb9nsd_001422.xyz  dsgdb9nsd_002422.xyz\n",
            "dsgdb9nsd_000423.xyz  dsgdb9nsd_001423.xyz  dsgdb9nsd_002423.xyz\n",
            "dsgdb9nsd_000424.xyz  dsgdb9nsd_001424.xyz  dsgdb9nsd_002424.xyz\n",
            "dsgdb9nsd_000425.xyz  dsgdb9nsd_001425.xyz  dsgdb9nsd_002425.xyz\n",
            "dsgdb9nsd_000426.xyz  dsgdb9nsd_001426.xyz  dsgdb9nsd_002426.xyz\n",
            "dsgdb9nsd_000427.xyz  dsgdb9nsd_001427.xyz  dsgdb9nsd_002427.xyz\n",
            "dsgdb9nsd_000428.xyz  dsgdb9nsd_001428.xyz  dsgdb9nsd_002428.xyz\n",
            "dsgdb9nsd_000429.xyz  dsgdb9nsd_001429.xyz  dsgdb9nsd_002429.xyz\n",
            "dsgdb9nsd_000430.xyz  dsgdb9nsd_001430.xyz  dsgdb9nsd_002430.xyz\n",
            "dsgdb9nsd_000431.xyz  dsgdb9nsd_001431.xyz  dsgdb9nsd_002431.xyz\n",
            "dsgdb9nsd_000432.xyz  dsgdb9nsd_001432.xyz  dsgdb9nsd_002432.xyz\n",
            "dsgdb9nsd_000433.xyz  dsgdb9nsd_001433.xyz  dsgdb9nsd_002433.xyz\n",
            "dsgdb9nsd_000434.xyz  dsgdb9nsd_001434.xyz  dsgdb9nsd_002434.xyz\n",
            "dsgdb9nsd_000435.xyz  dsgdb9nsd_001435.xyz  dsgdb9nsd_002435.xyz\n",
            "dsgdb9nsd_000436.xyz  dsgdb9nsd_001436.xyz  dsgdb9nsd_002436.xyz\n",
            "dsgdb9nsd_000437.xyz  dsgdb9nsd_001437.xyz  dsgdb9nsd_002437.xyz\n",
            "dsgdb9nsd_000438.xyz  dsgdb9nsd_001438.xyz  dsgdb9nsd_002438.xyz\n",
            "dsgdb9nsd_000439.xyz  dsgdb9nsd_001439.xyz  dsgdb9nsd_002439.xyz\n",
            "dsgdb9nsd_000440.xyz  dsgdb9nsd_001440.xyz  dsgdb9nsd_002440.xyz\n",
            "dsgdb9nsd_000441.xyz  dsgdb9nsd_001441.xyz  dsgdb9nsd_002441.xyz\n",
            "dsgdb9nsd_000442.xyz  dsgdb9nsd_001442.xyz  dsgdb9nsd_002442.xyz\n",
            "dsgdb9nsd_000443.xyz  dsgdb9nsd_001443.xyz  dsgdb9nsd_002443.xyz\n",
            "dsgdb9nsd_000444.xyz  dsgdb9nsd_001444.xyz  dsgdb9nsd_002444.xyz\n",
            "dsgdb9nsd_000445.xyz  dsgdb9nsd_001445.xyz  dsgdb9nsd_002445.xyz\n",
            "dsgdb9nsd_000446.xyz  dsgdb9nsd_001446.xyz  dsgdb9nsd_002446.xyz\n",
            "dsgdb9nsd_000447.xyz  dsgdb9nsd_001447.xyz  dsgdb9nsd_002447.xyz\n",
            "dsgdb9nsd_000448.xyz  dsgdb9nsd_001448.xyz  dsgdb9nsd_002448.xyz\n",
            "dsgdb9nsd_000449.xyz  dsgdb9nsd_001449.xyz  dsgdb9nsd_002449.xyz\n",
            "dsgdb9nsd_000450.xyz  dsgdb9nsd_001450.xyz  dsgdb9nsd_002450.xyz\n",
            "dsgdb9nsd_000451.xyz  dsgdb9nsd_001451.xyz  dsgdb9nsd_002451.xyz\n",
            "dsgdb9nsd_000452.xyz  dsgdb9nsd_001452.xyz  dsgdb9nsd_002452.xyz\n",
            "dsgdb9nsd_000453.xyz  dsgdb9nsd_001453.xyz  dsgdb9nsd_002453.xyz\n",
            "dsgdb9nsd_000454.xyz  dsgdb9nsd_001454.xyz  dsgdb9nsd_002454.xyz\n",
            "dsgdb9nsd_000455.xyz  dsgdb9nsd_001455.xyz  dsgdb9nsd_002455.xyz\n",
            "dsgdb9nsd_000456.xyz  dsgdb9nsd_001456.xyz  dsgdb9nsd_002456.xyz\n",
            "dsgdb9nsd_000457.xyz  dsgdb9nsd_001457.xyz  dsgdb9nsd_002457.xyz\n",
            "dsgdb9nsd_000458.xyz  dsgdb9nsd_001458.xyz  dsgdb9nsd_002458.xyz\n",
            "dsgdb9nsd_000459.xyz  dsgdb9nsd_001459.xyz  dsgdb9nsd_002459.xyz\n",
            "dsgdb9nsd_000460.xyz  dsgdb9nsd_001460.xyz  dsgdb9nsd_002460.xyz\n",
            "dsgdb9nsd_000461.xyz  dsgdb9nsd_001461.xyz  dsgdb9nsd_002461.xyz\n",
            "dsgdb9nsd_000462.xyz  dsgdb9nsd_001462.xyz  dsgdb9nsd_002462.xyz\n",
            "dsgdb9nsd_000463.xyz  dsgdb9nsd_001463.xyz  dsgdb9nsd_002463.xyz\n",
            "dsgdb9nsd_000464.xyz  dsgdb9nsd_001464.xyz  dsgdb9nsd_002464.xyz\n",
            "dsgdb9nsd_000465.xyz  dsgdb9nsd_001465.xyz  dsgdb9nsd_002465.xyz\n",
            "dsgdb9nsd_000466.xyz  dsgdb9nsd_001466.xyz  dsgdb9nsd_002466.xyz\n",
            "dsgdb9nsd_000467.xyz  dsgdb9nsd_001467.xyz  dsgdb9nsd_002467.xyz\n",
            "dsgdb9nsd_000468.xyz  dsgdb9nsd_001468.xyz  dsgdb9nsd_002468.xyz\n",
            "dsgdb9nsd_000469.xyz  dsgdb9nsd_001469.xyz  dsgdb9nsd_002469.xyz\n",
            "dsgdb9nsd_000470.xyz  dsgdb9nsd_001470.xyz  dsgdb9nsd_002470.xyz\n",
            "dsgdb9nsd_000471.xyz  dsgdb9nsd_001471.xyz  dsgdb9nsd_002471.xyz\n",
            "dsgdb9nsd_000472.xyz  dsgdb9nsd_001472.xyz  dsgdb9nsd_002472.xyz\n",
            "dsgdb9nsd_000473.xyz  dsgdb9nsd_001473.xyz  dsgdb9nsd_002473.xyz\n",
            "dsgdb9nsd_000474.xyz  dsgdb9nsd_001474.xyz  dsgdb9nsd_002474.xyz\n",
            "dsgdb9nsd_000475.xyz  dsgdb9nsd_001475.xyz  dsgdb9nsd_002475.xyz\n",
            "dsgdb9nsd_000476.xyz  dsgdb9nsd_001476.xyz  dsgdb9nsd_002476.xyz\n",
            "dsgdb9nsd_000477.xyz  dsgdb9nsd_001477.xyz  dsgdb9nsd_002477.xyz\n",
            "dsgdb9nsd_000478.xyz  dsgdb9nsd_001478.xyz  dsgdb9nsd_002478.xyz\n",
            "dsgdb9nsd_000479.xyz  dsgdb9nsd_001479.xyz  dsgdb9nsd_002479.xyz\n",
            "dsgdb9nsd_000480.xyz  dsgdb9nsd_001480.xyz  dsgdb9nsd_002480.xyz\n",
            "dsgdb9nsd_000481.xyz  dsgdb9nsd_001481.xyz  dsgdb9nsd_002481.xyz\n",
            "dsgdb9nsd_000482.xyz  dsgdb9nsd_001482.xyz  dsgdb9nsd_002482.xyz\n",
            "dsgdb9nsd_000483.xyz  dsgdb9nsd_001483.xyz  dsgdb9nsd_002483.xyz\n",
            "dsgdb9nsd_000484.xyz  dsgdb9nsd_001484.xyz  dsgdb9nsd_002484.xyz\n",
            "dsgdb9nsd_000485.xyz  dsgdb9nsd_001485.xyz  dsgdb9nsd_002485.xyz\n",
            "dsgdb9nsd_000486.xyz  dsgdb9nsd_001486.xyz  dsgdb9nsd_002486.xyz\n",
            "dsgdb9nsd_000487.xyz  dsgdb9nsd_001487.xyz  dsgdb9nsd_002487.xyz\n",
            "dsgdb9nsd_000488.xyz  dsgdb9nsd_001488.xyz  dsgdb9nsd_002488.xyz\n",
            "dsgdb9nsd_000489.xyz  dsgdb9nsd_001489.xyz  dsgdb9nsd_002489.xyz\n",
            "dsgdb9nsd_000490.xyz  dsgdb9nsd_001490.xyz  dsgdb9nsd_002490.xyz\n",
            "dsgdb9nsd_000491.xyz  dsgdb9nsd_001491.xyz  dsgdb9nsd_002491.xyz\n",
            "dsgdb9nsd_000492.xyz  dsgdb9nsd_001492.xyz  dsgdb9nsd_002492.xyz\n",
            "dsgdb9nsd_000493.xyz  dsgdb9nsd_001493.xyz  dsgdb9nsd_002493.xyz\n",
            "dsgdb9nsd_000494.xyz  dsgdb9nsd_001494.xyz  dsgdb9nsd_002494.xyz\n",
            "dsgdb9nsd_000495.xyz  dsgdb9nsd_001495.xyz  dsgdb9nsd_002495.xyz\n",
            "dsgdb9nsd_000496.xyz  dsgdb9nsd_001496.xyz  dsgdb9nsd_002496.xyz\n",
            "dsgdb9nsd_000497.xyz  dsgdb9nsd_001497.xyz  dsgdb9nsd_002497.xyz\n",
            "dsgdb9nsd_000498.xyz  dsgdb9nsd_001498.xyz  dsgdb9nsd_002498.xyz\n",
            "dsgdb9nsd_000499.xyz  dsgdb9nsd_001499.xyz  dsgdb9nsd_002499.xyz\n",
            "dsgdb9nsd_000500.xyz  dsgdb9nsd_001500.xyz  dsgdb9nsd_002500.xyz\n",
            "dsgdb9nsd_000501.xyz  dsgdb9nsd_001501.xyz  dsgdb9nsd_002501.xyz\n",
            "dsgdb9nsd_000502.xyz  dsgdb9nsd_001502.xyz  dsgdb9nsd_002502.xyz\n",
            "dsgdb9nsd_000503.xyz  dsgdb9nsd_001503.xyz  dsgdb9nsd_002503.xyz\n",
            "dsgdb9nsd_000504.xyz  dsgdb9nsd_001504.xyz  dsgdb9nsd_002504.xyz\n",
            "dsgdb9nsd_000505.xyz  dsgdb9nsd_001505.xyz  dsgdb9nsd_002505.xyz\n",
            "dsgdb9nsd_000506.xyz  dsgdb9nsd_001506.xyz  dsgdb9nsd_002506.xyz\n",
            "dsgdb9nsd_000507.xyz  dsgdb9nsd_001507.xyz  dsgdb9nsd_002507.xyz\n",
            "dsgdb9nsd_000508.xyz  dsgdb9nsd_001508.xyz  dsgdb9nsd_002508.xyz\n",
            "dsgdb9nsd_000509.xyz  dsgdb9nsd_001509.xyz  dsgdb9nsd_002509.xyz\n",
            "dsgdb9nsd_000510.xyz  dsgdb9nsd_001510.xyz  dsgdb9nsd_002510.xyz\n",
            "dsgdb9nsd_000511.xyz  dsgdb9nsd_001511.xyz  dsgdb9nsd_002511.xyz\n",
            "dsgdb9nsd_000512.xyz  dsgdb9nsd_001512.xyz  dsgdb9nsd_002512.xyz\n",
            "dsgdb9nsd_000513.xyz  dsgdb9nsd_001513.xyz  dsgdb9nsd_002513.xyz\n",
            "dsgdb9nsd_000514.xyz  dsgdb9nsd_001514.xyz  dsgdb9nsd_002514.xyz\n",
            "dsgdb9nsd_000515.xyz  dsgdb9nsd_001515.xyz  dsgdb9nsd_002515.xyz\n",
            "dsgdb9nsd_000516.xyz  dsgdb9nsd_001516.xyz  dsgdb9nsd_002516.xyz\n",
            "dsgdb9nsd_000517.xyz  dsgdb9nsd_001517.xyz  dsgdb9nsd_002517.xyz\n",
            "dsgdb9nsd_000518.xyz  dsgdb9nsd_001518.xyz  dsgdb9nsd_002518.xyz\n",
            "dsgdb9nsd_000519.xyz  dsgdb9nsd_001519.xyz  dsgdb9nsd_002519.xyz\n",
            "dsgdb9nsd_000520.xyz  dsgdb9nsd_001520.xyz  dsgdb9nsd_002520.xyz\n",
            "dsgdb9nsd_000521.xyz  dsgdb9nsd_001521.xyz  dsgdb9nsd_002521.xyz\n",
            "dsgdb9nsd_000522.xyz  dsgdb9nsd_001522.xyz  dsgdb9nsd_002522.xyz\n",
            "dsgdb9nsd_000523.xyz  dsgdb9nsd_001523.xyz  dsgdb9nsd_002523.xyz\n",
            "dsgdb9nsd_000524.xyz  dsgdb9nsd_001524.xyz  dsgdb9nsd_002524.xyz\n",
            "dsgdb9nsd_000525.xyz  dsgdb9nsd_001525.xyz  dsgdb9nsd_002525.xyz\n",
            "dsgdb9nsd_000526.xyz  dsgdb9nsd_001526.xyz  dsgdb9nsd_002526.xyz\n",
            "dsgdb9nsd_000527.xyz  dsgdb9nsd_001527.xyz  dsgdb9nsd_002527.xyz\n",
            "dsgdb9nsd_000528.xyz  dsgdb9nsd_001528.xyz  dsgdb9nsd_002528.xyz\n",
            "dsgdb9nsd_000529.xyz  dsgdb9nsd_001529.xyz  dsgdb9nsd_002529.xyz\n",
            "dsgdb9nsd_000530.xyz  dsgdb9nsd_001530.xyz  dsgdb9nsd_002530.xyz\n",
            "dsgdb9nsd_000531.xyz  dsgdb9nsd_001531.xyz  dsgdb9nsd_002531.xyz\n",
            "dsgdb9nsd_000532.xyz  dsgdb9nsd_001532.xyz  dsgdb9nsd_002532.xyz\n",
            "dsgdb9nsd_000533.xyz  dsgdb9nsd_001533.xyz  dsgdb9nsd_002533.xyz\n",
            "dsgdb9nsd_000534.xyz  dsgdb9nsd_001534.xyz  dsgdb9nsd_002534.xyz\n",
            "dsgdb9nsd_000535.xyz  dsgdb9nsd_001535.xyz  dsgdb9nsd_002535.xyz\n",
            "dsgdb9nsd_000536.xyz  dsgdb9nsd_001536.xyz  dsgdb9nsd_002536.xyz\n",
            "dsgdb9nsd_000537.xyz  dsgdb9nsd_001537.xyz  dsgdb9nsd_002537.xyz\n",
            "dsgdb9nsd_000538.xyz  dsgdb9nsd_001538.xyz  dsgdb9nsd_002538.xyz\n",
            "dsgdb9nsd_000539.xyz  dsgdb9nsd_001539.xyz  dsgdb9nsd_002539.xyz\n",
            "dsgdb9nsd_000540.xyz  dsgdb9nsd_001540.xyz  dsgdb9nsd_002540.xyz\n",
            "dsgdb9nsd_000541.xyz  dsgdb9nsd_001541.xyz  dsgdb9nsd_002541.xyz\n",
            "dsgdb9nsd_000542.xyz  dsgdb9nsd_001542.xyz  dsgdb9nsd_002542.xyz\n",
            "dsgdb9nsd_000543.xyz  dsgdb9nsd_001543.xyz  dsgdb9nsd_002543.xyz\n",
            "dsgdb9nsd_000544.xyz  dsgdb9nsd_001544.xyz  dsgdb9nsd_002544.xyz\n",
            "dsgdb9nsd_000545.xyz  dsgdb9nsd_001545.xyz  dsgdb9nsd_002545.xyz\n",
            "dsgdb9nsd_000546.xyz  dsgdb9nsd_001546.xyz  dsgdb9nsd_002546.xyz\n",
            "dsgdb9nsd_000547.xyz  dsgdb9nsd_001547.xyz  dsgdb9nsd_002547.xyz\n",
            "dsgdb9nsd_000548.xyz  dsgdb9nsd_001548.xyz  dsgdb9nsd_002548.xyz\n",
            "dsgdb9nsd_000549.xyz  dsgdb9nsd_001549.xyz  dsgdb9nsd_002549.xyz\n",
            "dsgdb9nsd_000550.xyz  dsgdb9nsd_001550.xyz  dsgdb9nsd_002550.xyz\n",
            "dsgdb9nsd_000551.xyz  dsgdb9nsd_001551.xyz  dsgdb9nsd_002551.xyz\n",
            "dsgdb9nsd_000552.xyz  dsgdb9nsd_001552.xyz  dsgdb9nsd_002552.xyz\n",
            "dsgdb9nsd_000553.xyz  dsgdb9nsd_001553.xyz  dsgdb9nsd_002553.xyz\n",
            "dsgdb9nsd_000554.xyz  dsgdb9nsd_001554.xyz  dsgdb9nsd_002554.xyz\n",
            "dsgdb9nsd_000555.xyz  dsgdb9nsd_001555.xyz  dsgdb9nsd_002555.xyz\n",
            "dsgdb9nsd_000556.xyz  dsgdb9nsd_001556.xyz  dsgdb9nsd_002556.xyz\n",
            "dsgdb9nsd_000557.xyz  dsgdb9nsd_001557.xyz  dsgdb9nsd_002557.xyz\n",
            "dsgdb9nsd_000558.xyz  dsgdb9nsd_001558.xyz  dsgdb9nsd_002558.xyz\n",
            "dsgdb9nsd_000559.xyz  dsgdb9nsd_001559.xyz  dsgdb9nsd_002559.xyz\n",
            "dsgdb9nsd_000560.xyz  dsgdb9nsd_001560.xyz  dsgdb9nsd_002560.xyz\n",
            "dsgdb9nsd_000561.xyz  dsgdb9nsd_001561.xyz  dsgdb9nsd_002561.xyz\n",
            "dsgdb9nsd_000562.xyz  dsgdb9nsd_001562.xyz  dsgdb9nsd_002562.xyz\n",
            "dsgdb9nsd_000563.xyz  dsgdb9nsd_001563.xyz  dsgdb9nsd_002563.xyz\n",
            "dsgdb9nsd_000564.xyz  dsgdb9nsd_001564.xyz  dsgdb9nsd_002564.xyz\n",
            "dsgdb9nsd_000565.xyz  dsgdb9nsd_001565.xyz  dsgdb9nsd_002565.xyz\n",
            "dsgdb9nsd_000566.xyz  dsgdb9nsd_001566.xyz  dsgdb9nsd_002566.xyz\n",
            "dsgdb9nsd_000567.xyz  dsgdb9nsd_001567.xyz  dsgdb9nsd_002567.xyz\n",
            "dsgdb9nsd_000568.xyz  dsgdb9nsd_001568.xyz  dsgdb9nsd_002568.xyz\n",
            "dsgdb9nsd_000569.xyz  dsgdb9nsd_001569.xyz  dsgdb9nsd_002569.xyz\n",
            "dsgdb9nsd_000570.xyz  dsgdb9nsd_001570.xyz  dsgdb9nsd_002570.xyz\n",
            "dsgdb9nsd_000571.xyz  dsgdb9nsd_001571.xyz  dsgdb9nsd_002571.xyz\n",
            "dsgdb9nsd_000572.xyz  dsgdb9nsd_001572.xyz  dsgdb9nsd_002572.xyz\n",
            "dsgdb9nsd_000573.xyz  dsgdb9nsd_001573.xyz  dsgdb9nsd_002573.xyz\n",
            "dsgdb9nsd_000574.xyz  dsgdb9nsd_001574.xyz  dsgdb9nsd_002574.xyz\n",
            "dsgdb9nsd_000575.xyz  dsgdb9nsd_001575.xyz  dsgdb9nsd_002575.xyz\n",
            "dsgdb9nsd_000576.xyz  dsgdb9nsd_001576.xyz  dsgdb9nsd_002576.xyz\n",
            "dsgdb9nsd_000577.xyz  dsgdb9nsd_001577.xyz  dsgdb9nsd_002577.xyz\n",
            "dsgdb9nsd_000578.xyz  dsgdb9nsd_001578.xyz  dsgdb9nsd_002578.xyz\n",
            "dsgdb9nsd_000579.xyz  dsgdb9nsd_001579.xyz  dsgdb9nsd_002579.xyz\n",
            "dsgdb9nsd_000580.xyz  dsgdb9nsd_001580.xyz  dsgdb9nsd_002580.xyz\n",
            "dsgdb9nsd_000581.xyz  dsgdb9nsd_001581.xyz  dsgdb9nsd_002581.xyz\n",
            "dsgdb9nsd_000582.xyz  dsgdb9nsd_001582.xyz  dsgdb9nsd_002582.xyz\n",
            "dsgdb9nsd_000583.xyz  dsgdb9nsd_001583.xyz  dsgdb9nsd_002583.xyz\n",
            "dsgdb9nsd_000584.xyz  dsgdb9nsd_001584.xyz  dsgdb9nsd_002584.xyz\n",
            "dsgdb9nsd_000585.xyz  dsgdb9nsd_001585.xyz  dsgdb9nsd_002585.xyz\n",
            "dsgdb9nsd_000586.xyz  dsgdb9nsd_001586.xyz  dsgdb9nsd_002586.xyz\n",
            "dsgdb9nsd_000587.xyz  dsgdb9nsd_001587.xyz  dsgdb9nsd_002587.xyz\n",
            "dsgdb9nsd_000588.xyz  dsgdb9nsd_001588.xyz  dsgdb9nsd_002588.xyz\n",
            "dsgdb9nsd_000589.xyz  dsgdb9nsd_001589.xyz  dsgdb9nsd_002589.xyz\n",
            "dsgdb9nsd_000590.xyz  dsgdb9nsd_001590.xyz  dsgdb9nsd_002590.xyz\n",
            "dsgdb9nsd_000591.xyz  dsgdb9nsd_001591.xyz  dsgdb9nsd_002591.xyz\n",
            "dsgdb9nsd_000592.xyz  dsgdb9nsd_001592.xyz  dsgdb9nsd_002592.xyz\n",
            "dsgdb9nsd_000593.xyz  dsgdb9nsd_001593.xyz  dsgdb9nsd_002593.xyz\n",
            "dsgdb9nsd_000594.xyz  dsgdb9nsd_001594.xyz  dsgdb9nsd_002594.xyz\n",
            "dsgdb9nsd_000595.xyz  dsgdb9nsd_001595.xyz  dsgdb9nsd_002595.xyz\n",
            "dsgdb9nsd_000596.xyz  dsgdb9nsd_001596.xyz  dsgdb9nsd_002596.xyz\n",
            "dsgdb9nsd_000597.xyz  dsgdb9nsd_001597.xyz  dsgdb9nsd_002597.xyz\n",
            "dsgdb9nsd_000598.xyz  dsgdb9nsd_001598.xyz  dsgdb9nsd_002598.xyz\n",
            "dsgdb9nsd_000599.xyz  dsgdb9nsd_001599.xyz  dsgdb9nsd_002599.xyz\n",
            "dsgdb9nsd_000600.xyz  dsgdb9nsd_001600.xyz  dsgdb9nsd_002600.xyz\n",
            "dsgdb9nsd_000601.xyz  dsgdb9nsd_001601.xyz  dsgdb9nsd_002601.xyz\n",
            "dsgdb9nsd_000602.xyz  dsgdb9nsd_001602.xyz  dsgdb9nsd_002602.xyz\n",
            "dsgdb9nsd_000603.xyz  dsgdb9nsd_001603.xyz  dsgdb9nsd_002603.xyz\n",
            "dsgdb9nsd_000604.xyz  dsgdb9nsd_001604.xyz  dsgdb9nsd_002604.xyz\n",
            "dsgdb9nsd_000605.xyz  dsgdb9nsd_001605.xyz  dsgdb9nsd_002605.xyz\n",
            "dsgdb9nsd_000606.xyz  dsgdb9nsd_001606.xyz  dsgdb9nsd_002606.xyz\n",
            "dsgdb9nsd_000607.xyz  dsgdb9nsd_001607.xyz  dsgdb9nsd_002607.xyz\n",
            "dsgdb9nsd_000608.xyz  dsgdb9nsd_001608.xyz  dsgdb9nsd_002608.xyz\n",
            "dsgdb9nsd_000609.xyz  dsgdb9nsd_001609.xyz  dsgdb9nsd_002609.xyz\n",
            "dsgdb9nsd_000610.xyz  dsgdb9nsd_001610.xyz  dsgdb9nsd_002610.xyz\n",
            "dsgdb9nsd_000611.xyz  dsgdb9nsd_001611.xyz  dsgdb9nsd_002611.xyz\n",
            "dsgdb9nsd_000612.xyz  dsgdb9nsd_001612.xyz  dsgdb9nsd_002612.xyz\n",
            "dsgdb9nsd_000613.xyz  dsgdb9nsd_001613.xyz  dsgdb9nsd_002613.xyz\n",
            "dsgdb9nsd_000614.xyz  dsgdb9nsd_001614.xyz  dsgdb9nsd_002614.xyz\n",
            "dsgdb9nsd_000615.xyz  dsgdb9nsd_001615.xyz  dsgdb9nsd_002615.xyz\n",
            "dsgdb9nsd_000616.xyz  dsgdb9nsd_001616.xyz  dsgdb9nsd_002616.xyz\n",
            "dsgdb9nsd_000617.xyz  dsgdb9nsd_001617.xyz  dsgdb9nsd_002617.xyz\n",
            "dsgdb9nsd_000618.xyz  dsgdb9nsd_001618.xyz  dsgdb9nsd_002618.xyz\n",
            "dsgdb9nsd_000619.xyz  dsgdb9nsd_001619.xyz  dsgdb9nsd_002619.xyz\n",
            "dsgdb9nsd_000620.xyz  dsgdb9nsd_001620.xyz  dsgdb9nsd_002620.xyz\n",
            "dsgdb9nsd_000621.xyz  dsgdb9nsd_001621.xyz  dsgdb9nsd_002621.xyz\n",
            "dsgdb9nsd_000622.xyz  dsgdb9nsd_001622.xyz  dsgdb9nsd_002622.xyz\n",
            "dsgdb9nsd_000623.xyz  dsgdb9nsd_001623.xyz  dsgdb9nsd_002623.xyz\n",
            "dsgdb9nsd_000624.xyz  dsgdb9nsd_001624.xyz  dsgdb9nsd_002624.xyz\n",
            "dsgdb9nsd_000625.xyz  dsgdb9nsd_001625.xyz  dsgdb9nsd_002625.xyz\n",
            "dsgdb9nsd_000626.xyz  dsgdb9nsd_001626.xyz  dsgdb9nsd_002626.xyz\n",
            "dsgdb9nsd_000627.xyz  dsgdb9nsd_001627.xyz  dsgdb9nsd_002627.xyz\n",
            "dsgdb9nsd_000628.xyz  dsgdb9nsd_001628.xyz  dsgdb9nsd_002628.xyz\n",
            "dsgdb9nsd_000629.xyz  dsgdb9nsd_001629.xyz  dsgdb9nsd_002629.xyz\n",
            "dsgdb9nsd_000630.xyz  dsgdb9nsd_001630.xyz  dsgdb9nsd_002630.xyz\n",
            "dsgdb9nsd_000631.xyz  dsgdb9nsd_001631.xyz  dsgdb9nsd_002631.xyz\n",
            "dsgdb9nsd_000632.xyz  dsgdb9nsd_001632.xyz  dsgdb9nsd_002632.xyz\n",
            "dsgdb9nsd_000633.xyz  dsgdb9nsd_001633.xyz  dsgdb9nsd_002633.xyz\n",
            "dsgdb9nsd_000634.xyz  dsgdb9nsd_001634.xyz  dsgdb9nsd_002634.xyz\n",
            "dsgdb9nsd_000635.xyz  dsgdb9nsd_001635.xyz  dsgdb9nsd_002635.xyz\n",
            "dsgdb9nsd_000636.xyz  dsgdb9nsd_001636.xyz  dsgdb9nsd_002636.xyz\n",
            "dsgdb9nsd_000637.xyz  dsgdb9nsd_001637.xyz  dsgdb9nsd_002637.xyz\n",
            "dsgdb9nsd_000638.xyz  dsgdb9nsd_001638.xyz  dsgdb9nsd_002638.xyz\n",
            "dsgdb9nsd_000639.xyz  dsgdb9nsd_001639.xyz  dsgdb9nsd_002639.xyz\n",
            "dsgdb9nsd_000640.xyz  dsgdb9nsd_001640.xyz  dsgdb9nsd_002640.xyz\n",
            "dsgdb9nsd_000641.xyz  dsgdb9nsd_001641.xyz  dsgdb9nsd_002641.xyz\n",
            "dsgdb9nsd_000642.xyz  dsgdb9nsd_001642.xyz  dsgdb9nsd_002642.xyz\n",
            "dsgdb9nsd_000643.xyz  dsgdb9nsd_001643.xyz  dsgdb9nsd_002643.xyz\n",
            "dsgdb9nsd_000644.xyz  dsgdb9nsd_001644.xyz  dsgdb9nsd_002644.xyz\n",
            "dsgdb9nsd_000645.xyz  dsgdb9nsd_001645.xyz  dsgdb9nsd_002645.xyz\n",
            "dsgdb9nsd_000646.xyz  dsgdb9nsd_001646.xyz  dsgdb9nsd_002646.xyz\n",
            "dsgdb9nsd_000647.xyz  dsgdb9nsd_001647.xyz  dsgdb9nsd_002647.xyz\n",
            "dsgdb9nsd_000648.xyz  dsgdb9nsd_001648.xyz  dsgdb9nsd_002648.xyz\n",
            "dsgdb9nsd_000649.xyz  dsgdb9nsd_001649.xyz  dsgdb9nsd_002649.xyz\n",
            "dsgdb9nsd_000650.xyz  dsgdb9nsd_001650.xyz  dsgdb9nsd_002650.xyz\n",
            "dsgdb9nsd_000651.xyz  dsgdb9nsd_001651.xyz  dsgdb9nsd_002651.xyz\n",
            "dsgdb9nsd_000652.xyz  dsgdb9nsd_001652.xyz  dsgdb9nsd_002652.xyz\n",
            "dsgdb9nsd_000653.xyz  dsgdb9nsd_001653.xyz  dsgdb9nsd_002653.xyz\n",
            "dsgdb9nsd_000654.xyz  dsgdb9nsd_001654.xyz  dsgdb9nsd_002654.xyz\n",
            "dsgdb9nsd_000655.xyz  dsgdb9nsd_001655.xyz  dsgdb9nsd_002655.xyz\n",
            "dsgdb9nsd_000656.xyz  dsgdb9nsd_001656.xyz  dsgdb9nsd_002656.xyz\n",
            "dsgdb9nsd_000657.xyz  dsgdb9nsd_001657.xyz  dsgdb9nsd_002657.xyz\n",
            "dsgdb9nsd_000658.xyz  dsgdb9nsd_001658.xyz  dsgdb9nsd_002658.xyz\n",
            "dsgdb9nsd_000659.xyz  dsgdb9nsd_001659.xyz  dsgdb9nsd_002659.xyz\n",
            "dsgdb9nsd_000660.xyz  dsgdb9nsd_001660.xyz  dsgdb9nsd_002660.xyz\n",
            "dsgdb9nsd_000661.xyz  dsgdb9nsd_001661.xyz  dsgdb9nsd_002661.xyz\n",
            "dsgdb9nsd_000662.xyz  dsgdb9nsd_001662.xyz  dsgdb9nsd_002662.xyz\n",
            "dsgdb9nsd_000663.xyz  dsgdb9nsd_001663.xyz  dsgdb9nsd_002663.xyz\n",
            "dsgdb9nsd_000664.xyz  dsgdb9nsd_001664.xyz  dsgdb9nsd_002664.xyz\n",
            "dsgdb9nsd_000665.xyz  dsgdb9nsd_001665.xyz  dsgdb9nsd_002665.xyz\n",
            "dsgdb9nsd_000666.xyz  dsgdb9nsd_001666.xyz  dsgdb9nsd_002666.xyz\n",
            "dsgdb9nsd_000667.xyz  dsgdb9nsd_001667.xyz  dsgdb9nsd_002667.xyz\n",
            "dsgdb9nsd_000668.xyz  dsgdb9nsd_001668.xyz  dsgdb9nsd_002668.xyz\n",
            "dsgdb9nsd_000669.xyz  dsgdb9nsd_001669.xyz  dsgdb9nsd_002669.xyz\n",
            "dsgdb9nsd_000670.xyz  dsgdb9nsd_001670.xyz  dsgdb9nsd_002670.xyz\n",
            "dsgdb9nsd_000671.xyz  dsgdb9nsd_001671.xyz  dsgdb9nsd_002671.xyz\n",
            "dsgdb9nsd_000672.xyz  dsgdb9nsd_001672.xyz  dsgdb9nsd_002672.xyz\n",
            "dsgdb9nsd_000673.xyz  dsgdb9nsd_001673.xyz  dsgdb9nsd_002673.xyz\n",
            "dsgdb9nsd_000674.xyz  dsgdb9nsd_001674.xyz  dsgdb9nsd_002674.xyz\n",
            "dsgdb9nsd_000675.xyz  dsgdb9nsd_001675.xyz  dsgdb9nsd_002675.xyz\n",
            "dsgdb9nsd_000676.xyz  dsgdb9nsd_001676.xyz  dsgdb9nsd_002676.xyz\n",
            "dsgdb9nsd_000677.xyz  dsgdb9nsd_001677.xyz  dsgdb9nsd_002677.xyz\n",
            "dsgdb9nsd_000678.xyz  dsgdb9nsd_001678.xyz  dsgdb9nsd_002678.xyz\n",
            "dsgdb9nsd_000679.xyz  dsgdb9nsd_001679.xyz  dsgdb9nsd_002679.xyz\n",
            "dsgdb9nsd_000680.xyz  dsgdb9nsd_001680.xyz  dsgdb9nsd_002680.xyz\n",
            "dsgdb9nsd_000681.xyz  dsgdb9nsd_001681.xyz  dsgdb9nsd_002681.xyz\n",
            "dsgdb9nsd_000682.xyz  dsgdb9nsd_001682.xyz  dsgdb9nsd_002682.xyz\n",
            "dsgdb9nsd_000683.xyz  dsgdb9nsd_001683.xyz  dsgdb9nsd_002683.xyz\n",
            "dsgdb9nsd_000684.xyz  dsgdb9nsd_001684.xyz  dsgdb9nsd_002684.xyz\n",
            "dsgdb9nsd_000685.xyz  dsgdb9nsd_001685.xyz  dsgdb9nsd_002685.xyz\n",
            "dsgdb9nsd_000686.xyz  dsgdb9nsd_001686.xyz  dsgdb9nsd_002686.xyz\n",
            "dsgdb9nsd_000687.xyz  dsgdb9nsd_001687.xyz  dsgdb9nsd_002687.xyz\n",
            "dsgdb9nsd_000688.xyz  dsgdb9nsd_001688.xyz  dsgdb9nsd_002688.xyz\n",
            "dsgdb9nsd_000689.xyz  dsgdb9nsd_001689.xyz  dsgdb9nsd_002689.xyz\n",
            "dsgdb9nsd_000690.xyz  dsgdb9nsd_001690.xyz  dsgdb9nsd_002690.xyz\n",
            "dsgdb9nsd_000691.xyz  dsgdb9nsd_001691.xyz  dsgdb9nsd_002691.xyz\n",
            "dsgdb9nsd_000692.xyz  dsgdb9nsd_001692.xyz  dsgdb9nsd_002692.xyz\n",
            "dsgdb9nsd_000693.xyz  dsgdb9nsd_001693.xyz  dsgdb9nsd_002693.xyz\n",
            "dsgdb9nsd_000694.xyz  dsgdb9nsd_001694.xyz  dsgdb9nsd_002694.xyz\n",
            "dsgdb9nsd_000695.xyz  dsgdb9nsd_001695.xyz  dsgdb9nsd_002695.xyz\n",
            "dsgdb9nsd_000696.xyz  dsgdb9nsd_001696.xyz  dsgdb9nsd_002696.xyz\n",
            "dsgdb9nsd_000697.xyz  dsgdb9nsd_001697.xyz  dsgdb9nsd_002697.xyz\n",
            "dsgdb9nsd_000698.xyz  dsgdb9nsd_001698.xyz  dsgdb9nsd_002698.xyz\n",
            "dsgdb9nsd_000699.xyz  dsgdb9nsd_001699.xyz  dsgdb9nsd_002699.xyz\n",
            "dsgdb9nsd_000700.xyz  dsgdb9nsd_001700.xyz  dsgdb9nsd_002700.xyz\n",
            "dsgdb9nsd_000701.xyz  dsgdb9nsd_001701.xyz  dsgdb9nsd_002701.xyz\n",
            "dsgdb9nsd_000702.xyz  dsgdb9nsd_001702.xyz  dsgdb9nsd_002702.xyz\n",
            "dsgdb9nsd_000703.xyz  dsgdb9nsd_001703.xyz  dsgdb9nsd_002703.xyz\n",
            "dsgdb9nsd_000704.xyz  dsgdb9nsd_001704.xyz  dsgdb9nsd_002704.xyz\n",
            "dsgdb9nsd_000705.xyz  dsgdb9nsd_001705.xyz  dsgdb9nsd_002705.xyz\n",
            "dsgdb9nsd_000706.xyz  dsgdb9nsd_001706.xyz  dsgdb9nsd_002706.xyz\n",
            "dsgdb9nsd_000707.xyz  dsgdb9nsd_001707.xyz  dsgdb9nsd_002707.xyz\n",
            "dsgdb9nsd_000708.xyz  dsgdb9nsd_001708.xyz  dsgdb9nsd_002708.xyz\n",
            "dsgdb9nsd_000709.xyz  dsgdb9nsd_001709.xyz  dsgdb9nsd_002709.xyz\n",
            "dsgdb9nsd_000710.xyz  dsgdb9nsd_001710.xyz  dsgdb9nsd_002710.xyz\n",
            "dsgdb9nsd_000711.xyz  dsgdb9nsd_001711.xyz  dsgdb9nsd_002711.xyz\n",
            "dsgdb9nsd_000712.xyz  dsgdb9nsd_001712.xyz  dsgdb9nsd_002712.xyz\n",
            "dsgdb9nsd_000713.xyz  dsgdb9nsd_001713.xyz  dsgdb9nsd_002713.xyz\n",
            "dsgdb9nsd_000714.xyz  dsgdb9nsd_001714.xyz  dsgdb9nsd_002714.xyz\n",
            "dsgdb9nsd_000715.xyz  dsgdb9nsd_001715.xyz  dsgdb9nsd_002715.xyz\n",
            "dsgdb9nsd_000716.xyz  dsgdb9nsd_001716.xyz  dsgdb9nsd_002716.xyz\n",
            "dsgdb9nsd_000717.xyz  dsgdb9nsd_001717.xyz  dsgdb9nsd_002717.xyz\n",
            "dsgdb9nsd_000718.xyz  dsgdb9nsd_001718.xyz  dsgdb9nsd_002718.xyz\n",
            "dsgdb9nsd_000719.xyz  dsgdb9nsd_001719.xyz  dsgdb9nsd_002719.xyz\n",
            "dsgdb9nsd_000720.xyz  dsgdb9nsd_001720.xyz  dsgdb9nsd_002720.xyz\n",
            "dsgdb9nsd_000721.xyz  dsgdb9nsd_001721.xyz  dsgdb9nsd_002721.xyz\n",
            "dsgdb9nsd_000722.xyz  dsgdb9nsd_001722.xyz  dsgdb9nsd_002722.xyz\n",
            "dsgdb9nsd_000723.xyz  dsgdb9nsd_001723.xyz  dsgdb9nsd_002723.xyz\n",
            "dsgdb9nsd_000724.xyz  dsgdb9nsd_001724.xyz  dsgdb9nsd_002724.xyz\n",
            "dsgdb9nsd_000725.xyz  dsgdb9nsd_001725.xyz  dsgdb9nsd_002725.xyz\n",
            "dsgdb9nsd_000726.xyz  dsgdb9nsd_001726.xyz  dsgdb9nsd_002726.xyz\n",
            "dsgdb9nsd_000727.xyz  dsgdb9nsd_001727.xyz  dsgdb9nsd_002727.xyz\n",
            "dsgdb9nsd_000728.xyz  dsgdb9nsd_001728.xyz  dsgdb9nsd_002728.xyz\n",
            "dsgdb9nsd_000729.xyz  dsgdb9nsd_001729.xyz  dsgdb9nsd_002729.xyz\n",
            "dsgdb9nsd_000730.xyz  dsgdb9nsd_001730.xyz  dsgdb9nsd_002730.xyz\n",
            "dsgdb9nsd_000731.xyz  dsgdb9nsd_001731.xyz  dsgdb9nsd_002731.xyz\n",
            "dsgdb9nsd_000732.xyz  dsgdb9nsd_001732.xyz  dsgdb9nsd_002732.xyz\n",
            "dsgdb9nsd_000733.xyz  dsgdb9nsd_001733.xyz  dsgdb9nsd_002733.xyz\n",
            "dsgdb9nsd_000734.xyz  dsgdb9nsd_001734.xyz  dsgdb9nsd_002734.xyz\n",
            "dsgdb9nsd_000735.xyz  dsgdb9nsd_001735.xyz  dsgdb9nsd_002735.xyz\n",
            "dsgdb9nsd_000736.xyz  dsgdb9nsd_001736.xyz  dsgdb9nsd_002736.xyz\n",
            "dsgdb9nsd_000737.xyz  dsgdb9nsd_001737.xyz  dsgdb9nsd_002737.xyz\n",
            "dsgdb9nsd_000738.xyz  dsgdb9nsd_001738.xyz  dsgdb9nsd_002738.xyz\n",
            "dsgdb9nsd_000739.xyz  dsgdb9nsd_001739.xyz  dsgdb9nsd_002739.xyz\n",
            "dsgdb9nsd_000740.xyz  dsgdb9nsd_001740.xyz  dsgdb9nsd_002740.xyz\n",
            "dsgdb9nsd_000741.xyz  dsgdb9nsd_001741.xyz  dsgdb9nsd_002741.xyz\n",
            "dsgdb9nsd_000742.xyz  dsgdb9nsd_001742.xyz  dsgdb9nsd_002742.xyz\n",
            "dsgdb9nsd_000743.xyz  dsgdb9nsd_001743.xyz  dsgdb9nsd_002743.xyz\n",
            "dsgdb9nsd_000744.xyz  dsgdb9nsd_001744.xyz  dsgdb9nsd_002744.xyz\n",
            "dsgdb9nsd_000745.xyz  dsgdb9nsd_001745.xyz  dsgdb9nsd_002745.xyz\n",
            "dsgdb9nsd_000746.xyz  dsgdb9nsd_001746.xyz  dsgdb9nsd_002746.xyz\n",
            "dsgdb9nsd_000747.xyz  dsgdb9nsd_001747.xyz  dsgdb9nsd_002747.xyz\n",
            "dsgdb9nsd_000748.xyz  dsgdb9nsd_001748.xyz  dsgdb9nsd_002748.xyz\n",
            "dsgdb9nsd_000749.xyz  dsgdb9nsd_001749.xyz  dsgdb9nsd_002749.xyz\n",
            "dsgdb9nsd_000750.xyz  dsgdb9nsd_001750.xyz  dsgdb9nsd_002750.xyz\n",
            "dsgdb9nsd_000751.xyz  dsgdb9nsd_001751.xyz  dsgdb9nsd_002751.xyz\n",
            "dsgdb9nsd_000752.xyz  dsgdb9nsd_001752.xyz  dsgdb9nsd_002752.xyz\n",
            "dsgdb9nsd_000753.xyz  dsgdb9nsd_001753.xyz  dsgdb9nsd_002753.xyz\n",
            "dsgdb9nsd_000754.xyz  dsgdb9nsd_001754.xyz  dsgdb9nsd_002754.xyz\n",
            "dsgdb9nsd_000755.xyz  dsgdb9nsd_001755.xyz  dsgdb9nsd_002755.xyz\n",
            "dsgdb9nsd_000756.xyz  dsgdb9nsd_001756.xyz  dsgdb9nsd_002756.xyz\n",
            "dsgdb9nsd_000757.xyz  dsgdb9nsd_001757.xyz  dsgdb9nsd_002757.xyz\n",
            "dsgdb9nsd_000758.xyz  dsgdb9nsd_001758.xyz  dsgdb9nsd_002758.xyz\n",
            "dsgdb9nsd_000759.xyz  dsgdb9nsd_001759.xyz  dsgdb9nsd_002759.xyz\n",
            "dsgdb9nsd_000760.xyz  dsgdb9nsd_001760.xyz  dsgdb9nsd_002760.xyz\n",
            "dsgdb9nsd_000761.xyz  dsgdb9nsd_001761.xyz  dsgdb9nsd_002761.xyz\n",
            "dsgdb9nsd_000762.xyz  dsgdb9nsd_001762.xyz  dsgdb9nsd_002762.xyz\n",
            "dsgdb9nsd_000763.xyz  dsgdb9nsd_001763.xyz  dsgdb9nsd_002763.xyz\n",
            "dsgdb9nsd_000764.xyz  dsgdb9nsd_001764.xyz  dsgdb9nsd_002764.xyz\n",
            "dsgdb9nsd_000765.xyz  dsgdb9nsd_001765.xyz  dsgdb9nsd_002765.xyz\n",
            "dsgdb9nsd_000766.xyz  dsgdb9nsd_001766.xyz  dsgdb9nsd_002766.xyz\n",
            "dsgdb9nsd_000767.xyz  dsgdb9nsd_001767.xyz  dsgdb9nsd_002767.xyz\n",
            "dsgdb9nsd_000768.xyz  dsgdb9nsd_001768.xyz  dsgdb9nsd_002768.xyz\n",
            "dsgdb9nsd_000769.xyz  dsgdb9nsd_001769.xyz  dsgdb9nsd_002769.xyz\n",
            "dsgdb9nsd_000770.xyz  dsgdb9nsd_001770.xyz  dsgdb9nsd_002770.xyz\n",
            "dsgdb9nsd_000771.xyz  dsgdb9nsd_001771.xyz  dsgdb9nsd_002771.xyz\n",
            "dsgdb9nsd_000772.xyz  dsgdb9nsd_001772.xyz  dsgdb9nsd_002772.xyz\n",
            "dsgdb9nsd_000773.xyz  dsgdb9nsd_001773.xyz  dsgdb9nsd_002773.xyz\n",
            "dsgdb9nsd_000774.xyz  dsgdb9nsd_001774.xyz  dsgdb9nsd_002774.xyz\n",
            "dsgdb9nsd_000775.xyz  dsgdb9nsd_001775.xyz  dsgdb9nsd_002775.xyz\n",
            "dsgdb9nsd_000776.xyz  dsgdb9nsd_001776.xyz  dsgdb9nsd_002776.xyz\n",
            "dsgdb9nsd_000777.xyz  dsgdb9nsd_001777.xyz  dsgdb9nsd_002777.xyz\n",
            "dsgdb9nsd_000778.xyz  dsgdb9nsd_001778.xyz  dsgdb9nsd_002778.xyz\n",
            "dsgdb9nsd_000779.xyz  dsgdb9nsd_001779.xyz  dsgdb9nsd_002779.xyz\n",
            "dsgdb9nsd_000780.xyz  dsgdb9nsd_001780.xyz  dsgdb9nsd_002780.xyz\n",
            "dsgdb9nsd_000781.xyz  dsgdb9nsd_001781.xyz  dsgdb9nsd_002781.xyz\n",
            "dsgdb9nsd_000782.xyz  dsgdb9nsd_001782.xyz  dsgdb9nsd_002782.xyz\n",
            "dsgdb9nsd_000783.xyz  dsgdb9nsd_001783.xyz  dsgdb9nsd_002783.xyz\n",
            "dsgdb9nsd_000784.xyz  dsgdb9nsd_001784.xyz  dsgdb9nsd_002784.xyz\n",
            "dsgdb9nsd_000785.xyz  dsgdb9nsd_001785.xyz  dsgdb9nsd_002785.xyz\n",
            "dsgdb9nsd_000786.xyz  dsgdb9nsd_001786.xyz  dsgdb9nsd_002786.xyz\n",
            "dsgdb9nsd_000787.xyz  dsgdb9nsd_001787.xyz  dsgdb9nsd_002787.xyz\n",
            "dsgdb9nsd_000788.xyz  dsgdb9nsd_001788.xyz  dsgdb9nsd_002788.xyz\n",
            "dsgdb9nsd_000789.xyz  dsgdb9nsd_001789.xyz  dsgdb9nsd_002789.xyz\n",
            "dsgdb9nsd_000790.xyz  dsgdb9nsd_001790.xyz  dsgdb9nsd_002790.xyz\n",
            "dsgdb9nsd_000791.xyz  dsgdb9nsd_001791.xyz  dsgdb9nsd_002791.xyz\n",
            "dsgdb9nsd_000792.xyz  dsgdb9nsd_001792.xyz  dsgdb9nsd_002792.xyz\n",
            "dsgdb9nsd_000793.xyz  dsgdb9nsd_001793.xyz  dsgdb9nsd_002793.xyz\n",
            "dsgdb9nsd_000794.xyz  dsgdb9nsd_001794.xyz  dsgdb9nsd_002794.xyz\n",
            "dsgdb9nsd_000795.xyz  dsgdb9nsd_001795.xyz  dsgdb9nsd_002795.xyz\n",
            "dsgdb9nsd_000796.xyz  dsgdb9nsd_001796.xyz  dsgdb9nsd_002796.xyz\n",
            "dsgdb9nsd_000797.xyz  dsgdb9nsd_001797.xyz  dsgdb9nsd_002797.xyz\n",
            "dsgdb9nsd_000798.xyz  dsgdb9nsd_001798.xyz  dsgdb9nsd_002798.xyz\n",
            "dsgdb9nsd_000799.xyz  dsgdb9nsd_001799.xyz  dsgdb9nsd_002799.xyz\n",
            "dsgdb9nsd_000800.xyz  dsgdb9nsd_001800.xyz  dsgdb9nsd_002800.xyz\n",
            "dsgdb9nsd_000801.xyz  dsgdb9nsd_001801.xyz  dsgdb9nsd_002801.xyz\n",
            "dsgdb9nsd_000802.xyz  dsgdb9nsd_001802.xyz  dsgdb9nsd_002802.xyz\n",
            "dsgdb9nsd_000803.xyz  dsgdb9nsd_001803.xyz  dsgdb9nsd_002803.xyz\n",
            "dsgdb9nsd_000804.xyz  dsgdb9nsd_001804.xyz  dsgdb9nsd_002804.xyz\n",
            "dsgdb9nsd_000805.xyz  dsgdb9nsd_001805.xyz  dsgdb9nsd_002805.xyz\n",
            "dsgdb9nsd_000806.xyz  dsgdb9nsd_001806.xyz  dsgdb9nsd_002806.xyz\n",
            "dsgdb9nsd_000807.xyz  dsgdb9nsd_001807.xyz  dsgdb9nsd_002807.xyz\n",
            "dsgdb9nsd_000808.xyz  dsgdb9nsd_001808.xyz  dsgdb9nsd_002808.xyz\n",
            "dsgdb9nsd_000809.xyz  dsgdb9nsd_001809.xyz  dsgdb9nsd_002809.xyz\n",
            "dsgdb9nsd_000810.xyz  dsgdb9nsd_001810.xyz  dsgdb9nsd_002810.xyz\n",
            "dsgdb9nsd_000811.xyz  dsgdb9nsd_001811.xyz  dsgdb9nsd_002811.xyz\n",
            "dsgdb9nsd_000812.xyz  dsgdb9nsd_001812.xyz  dsgdb9nsd_002812.xyz\n",
            "dsgdb9nsd_000813.xyz  dsgdb9nsd_001813.xyz  dsgdb9nsd_002813.xyz\n",
            "dsgdb9nsd_000814.xyz  dsgdb9nsd_001814.xyz  dsgdb9nsd_002814.xyz\n",
            "dsgdb9nsd_000815.xyz  dsgdb9nsd_001815.xyz  dsgdb9nsd_002815.xyz\n",
            "dsgdb9nsd_000816.xyz  dsgdb9nsd_001816.xyz  dsgdb9nsd_002816.xyz\n",
            "dsgdb9nsd_000817.xyz  dsgdb9nsd_001817.xyz  dsgdb9nsd_002817.xyz\n",
            "dsgdb9nsd_000818.xyz  dsgdb9nsd_001818.xyz  dsgdb9nsd_002818.xyz\n",
            "dsgdb9nsd_000819.xyz  dsgdb9nsd_001819.xyz  dsgdb9nsd_002819.xyz\n",
            "dsgdb9nsd_000820.xyz  dsgdb9nsd_001820.xyz  dsgdb9nsd_002820.xyz\n",
            "dsgdb9nsd_000821.xyz  dsgdb9nsd_001821.xyz  dsgdb9nsd_002821.xyz\n",
            "dsgdb9nsd_000822.xyz  dsgdb9nsd_001822.xyz  dsgdb9nsd_002822.xyz\n",
            "dsgdb9nsd_000823.xyz  dsgdb9nsd_001823.xyz  dsgdb9nsd_002823.xyz\n",
            "dsgdb9nsd_000824.xyz  dsgdb9nsd_001824.xyz  dsgdb9nsd_002824.xyz\n",
            "dsgdb9nsd_000825.xyz  dsgdb9nsd_001825.xyz  dsgdb9nsd_002825.xyz\n",
            "dsgdb9nsd_000826.xyz  dsgdb9nsd_001826.xyz  dsgdb9nsd_002826.xyz\n",
            "dsgdb9nsd_000827.xyz  dsgdb9nsd_001827.xyz  dsgdb9nsd_002827.xyz\n",
            "dsgdb9nsd_000828.xyz  dsgdb9nsd_001828.xyz  dsgdb9nsd_002828.xyz\n",
            "dsgdb9nsd_000829.xyz  dsgdb9nsd_001829.xyz  dsgdb9nsd_002829.xyz\n",
            "dsgdb9nsd_000830.xyz  dsgdb9nsd_001830.xyz  dsgdb9nsd_002830.xyz\n",
            "dsgdb9nsd_000831.xyz  dsgdb9nsd_001831.xyz  dsgdb9nsd_002831.xyz\n",
            "dsgdb9nsd_000832.xyz  dsgdb9nsd_001832.xyz  dsgdb9nsd_002832.xyz\n",
            "dsgdb9nsd_000833.xyz  dsgdb9nsd_001833.xyz  dsgdb9nsd_002833.xyz\n",
            "dsgdb9nsd_000834.xyz  dsgdb9nsd_001834.xyz  dsgdb9nsd_002834.xyz\n",
            "dsgdb9nsd_000835.xyz  dsgdb9nsd_001835.xyz  dsgdb9nsd_002835.xyz\n",
            "dsgdb9nsd_000836.xyz  dsgdb9nsd_001836.xyz  dsgdb9nsd_002836.xyz\n",
            "dsgdb9nsd_000837.xyz  dsgdb9nsd_001837.xyz  dsgdb9nsd_002837.xyz\n",
            "dsgdb9nsd_000838.xyz  dsgdb9nsd_001838.xyz  dsgdb9nsd_002838.xyz\n",
            "dsgdb9nsd_000839.xyz  dsgdb9nsd_001839.xyz  dsgdb9nsd_002839.xyz\n",
            "dsgdb9nsd_000840.xyz  dsgdb9nsd_001840.xyz  dsgdb9nsd_002840.xyz\n",
            "dsgdb9nsd_000841.xyz  dsgdb9nsd_001841.xyz  dsgdb9nsd_002841.xyz\n",
            "dsgdb9nsd_000842.xyz  dsgdb9nsd_001842.xyz  dsgdb9nsd_002842.xyz\n",
            "dsgdb9nsd_000843.xyz  dsgdb9nsd_001843.xyz  dsgdb9nsd_002843.xyz\n",
            "dsgdb9nsd_000844.xyz  dsgdb9nsd_001844.xyz  dsgdb9nsd_002844.xyz\n",
            "dsgdb9nsd_000845.xyz  dsgdb9nsd_001845.xyz  dsgdb9nsd_002845.xyz\n",
            "dsgdb9nsd_000846.xyz  dsgdb9nsd_001846.xyz  dsgdb9nsd_002846.xyz\n",
            "dsgdb9nsd_000847.xyz  dsgdb9nsd_001847.xyz  dsgdb9nsd_002847.xyz\n",
            "dsgdb9nsd_000848.xyz  dsgdb9nsd_001848.xyz  dsgdb9nsd_002848.xyz\n",
            "dsgdb9nsd_000849.xyz  dsgdb9nsd_001849.xyz  dsgdb9nsd_002849.xyz\n",
            "dsgdb9nsd_000850.xyz  dsgdb9nsd_001850.xyz  dsgdb9nsd_002850.xyz\n",
            "dsgdb9nsd_000851.xyz  dsgdb9nsd_001851.xyz  dsgdb9nsd_002851.xyz\n",
            "dsgdb9nsd_000852.xyz  dsgdb9nsd_001852.xyz  dsgdb9nsd_002852.xyz\n",
            "dsgdb9nsd_000853.xyz  dsgdb9nsd_001853.xyz  dsgdb9nsd_002853.xyz\n",
            "dsgdb9nsd_000854.xyz  dsgdb9nsd_001854.xyz  dsgdb9nsd_002854.xyz\n",
            "dsgdb9nsd_000855.xyz  dsgdb9nsd_001855.xyz  dsgdb9nsd_002855.xyz\n",
            "dsgdb9nsd_000856.xyz  dsgdb9nsd_001856.xyz  dsgdb9nsd_002856.xyz\n",
            "dsgdb9nsd_000857.xyz  dsgdb9nsd_001857.xyz  dsgdb9nsd_002857.xyz\n",
            "dsgdb9nsd_000858.xyz  dsgdb9nsd_001858.xyz  dsgdb9nsd_002858.xyz\n",
            "dsgdb9nsd_000859.xyz  dsgdb9nsd_001859.xyz  dsgdb9nsd_002859.xyz\n",
            "dsgdb9nsd_000860.xyz  dsgdb9nsd_001860.xyz  dsgdb9nsd_002860.xyz\n",
            "dsgdb9nsd_000861.xyz  dsgdb9nsd_001861.xyz  dsgdb9nsd_002861.xyz\n",
            "dsgdb9nsd_000862.xyz  dsgdb9nsd_001862.xyz  dsgdb9nsd_002862.xyz\n",
            "dsgdb9nsd_000863.xyz  dsgdb9nsd_001863.xyz  dsgdb9nsd_002863.xyz\n",
            "dsgdb9nsd_000864.xyz  dsgdb9nsd_001864.xyz  dsgdb9nsd_002864.xyz\n",
            "dsgdb9nsd_000865.xyz  dsgdb9nsd_001865.xyz  dsgdb9nsd_002865.xyz\n",
            "dsgdb9nsd_000866.xyz  dsgdb9nsd_001866.xyz  dsgdb9nsd_002866.xyz\n",
            "dsgdb9nsd_000867.xyz  dsgdb9nsd_001867.xyz  dsgdb9nsd_002867.xyz\n",
            "dsgdb9nsd_000868.xyz  dsgdb9nsd_001868.xyz  dsgdb9nsd_002868.xyz\n",
            "dsgdb9nsd_000869.xyz  dsgdb9nsd_001869.xyz  dsgdb9nsd_002869.xyz\n",
            "dsgdb9nsd_000870.xyz  dsgdb9nsd_001870.xyz  dsgdb9nsd_002870.xyz\n",
            "dsgdb9nsd_000871.xyz  dsgdb9nsd_001871.xyz  dsgdb9nsd_002871.xyz\n",
            "dsgdb9nsd_000872.xyz  dsgdb9nsd_001872.xyz  dsgdb9nsd_002872.xyz\n",
            "dsgdb9nsd_000873.xyz  dsgdb9nsd_001873.xyz  dsgdb9nsd_002873.xyz\n",
            "dsgdb9nsd_000874.xyz  dsgdb9nsd_001874.xyz  dsgdb9nsd_002874.xyz\n",
            "dsgdb9nsd_000875.xyz  dsgdb9nsd_001875.xyz  dsgdb9nsd_002875.xyz\n",
            "dsgdb9nsd_000876.xyz  dsgdb9nsd_001876.xyz  dsgdb9nsd_002876.xyz\n",
            "dsgdb9nsd_000877.xyz  dsgdb9nsd_001877.xyz  dsgdb9nsd_002877.xyz\n",
            "dsgdb9nsd_000878.xyz  dsgdb9nsd_001878.xyz  dsgdb9nsd_002878.xyz\n",
            "dsgdb9nsd_000879.xyz  dsgdb9nsd_001879.xyz  dsgdb9nsd_002879.xyz\n",
            "dsgdb9nsd_000880.xyz  dsgdb9nsd_001880.xyz  dsgdb9nsd_002880.xyz\n",
            "dsgdb9nsd_000881.xyz  dsgdb9nsd_001881.xyz  dsgdb9nsd_002881.xyz\n",
            "dsgdb9nsd_000882.xyz  dsgdb9nsd_001882.xyz  dsgdb9nsd_002882.xyz\n",
            "dsgdb9nsd_000883.xyz  dsgdb9nsd_001883.xyz  dsgdb9nsd_002883.xyz\n",
            "dsgdb9nsd_000884.xyz  dsgdb9nsd_001884.xyz  dsgdb9nsd_002884.xyz\n",
            "dsgdb9nsd_000885.xyz  dsgdb9nsd_001885.xyz  dsgdb9nsd_002885.xyz\n",
            "dsgdb9nsd_000886.xyz  dsgdb9nsd_001886.xyz  dsgdb9nsd_002886.xyz\n",
            "dsgdb9nsd_000887.xyz  dsgdb9nsd_001887.xyz  dsgdb9nsd_002887.xyz\n",
            "dsgdb9nsd_000888.xyz  dsgdb9nsd_001888.xyz  dsgdb9nsd_002888.xyz\n",
            "dsgdb9nsd_000889.xyz  dsgdb9nsd_001889.xyz  dsgdb9nsd_002889.xyz\n",
            "dsgdb9nsd_000890.xyz  dsgdb9nsd_001890.xyz  dsgdb9nsd_002890.xyz\n",
            "dsgdb9nsd_000891.xyz  dsgdb9nsd_001891.xyz  dsgdb9nsd_002891.xyz\n",
            "dsgdb9nsd_000892.xyz  dsgdb9nsd_001892.xyz  dsgdb9nsd_002892.xyz\n",
            "dsgdb9nsd_000893.xyz  dsgdb9nsd_001893.xyz  dsgdb9nsd_002893.xyz\n",
            "dsgdb9nsd_000894.xyz  dsgdb9nsd_001894.xyz  dsgdb9nsd_002894.xyz\n",
            "dsgdb9nsd_000895.xyz  dsgdb9nsd_001895.xyz  dsgdb9nsd_002895.xyz\n",
            "dsgdb9nsd_000896.xyz  dsgdb9nsd_001896.xyz  dsgdb9nsd_002896.xyz\n",
            "dsgdb9nsd_000897.xyz  dsgdb9nsd_001897.xyz  dsgdb9nsd_002897.xyz\n",
            "dsgdb9nsd_000898.xyz  dsgdb9nsd_001898.xyz  dsgdb9nsd_002898.xyz\n",
            "dsgdb9nsd_000899.xyz  dsgdb9nsd_001899.xyz  dsgdb9nsd_002899.xyz\n",
            "dsgdb9nsd_000900.xyz  dsgdb9nsd_001900.xyz  dsgdb9nsd_002900.xyz\n",
            "dsgdb9nsd_000901.xyz  dsgdb9nsd_001901.xyz  dsgdb9nsd_002901.xyz\n",
            "dsgdb9nsd_000902.xyz  dsgdb9nsd_001902.xyz  dsgdb9nsd_002902.xyz\n",
            "dsgdb9nsd_000903.xyz  dsgdb9nsd_001903.xyz  dsgdb9nsd_002903.xyz\n",
            "dsgdb9nsd_000904.xyz  dsgdb9nsd_001904.xyz  dsgdb9nsd_002904.xyz\n",
            "dsgdb9nsd_000905.xyz  dsgdb9nsd_001905.xyz  dsgdb9nsd_002905.xyz\n",
            "dsgdb9nsd_000906.xyz  dsgdb9nsd_001906.xyz  dsgdb9nsd_002906.xyz\n",
            "dsgdb9nsd_000907.xyz  dsgdb9nsd_001907.xyz  dsgdb9nsd_002907.xyz\n",
            "dsgdb9nsd_000908.xyz  dsgdb9nsd_001908.xyz  dsgdb9nsd_002908.xyz\n",
            "dsgdb9nsd_000909.xyz  dsgdb9nsd_001909.xyz  dsgdb9nsd_002909.xyz\n",
            "dsgdb9nsd_000910.xyz  dsgdb9nsd_001910.xyz  dsgdb9nsd_002910.xyz\n",
            "dsgdb9nsd_000911.xyz  dsgdb9nsd_001911.xyz  dsgdb9nsd_002911.xyz\n",
            "dsgdb9nsd_000912.xyz  dsgdb9nsd_001912.xyz  dsgdb9nsd_002912.xyz\n",
            "dsgdb9nsd_000913.xyz  dsgdb9nsd_001913.xyz  dsgdb9nsd_002913.xyz\n",
            "dsgdb9nsd_000914.xyz  dsgdb9nsd_001914.xyz  dsgdb9nsd_002914.xyz\n",
            "dsgdb9nsd_000915.xyz  dsgdb9nsd_001915.xyz  dsgdb9nsd_002915.xyz\n",
            "dsgdb9nsd_000916.xyz  dsgdb9nsd_001916.xyz  dsgdb9nsd_002916.xyz\n",
            "dsgdb9nsd_000917.xyz  dsgdb9nsd_001917.xyz  dsgdb9nsd_002917.xyz\n",
            "dsgdb9nsd_000918.xyz  dsgdb9nsd_001918.xyz  dsgdb9nsd_002918.xyz\n",
            "dsgdb9nsd_000919.xyz  dsgdb9nsd_001919.xyz  dsgdb9nsd_002919.xyz\n",
            "dsgdb9nsd_000920.xyz  dsgdb9nsd_001920.xyz  dsgdb9nsd_002920.xyz\n",
            "dsgdb9nsd_000921.xyz  dsgdb9nsd_001921.xyz  dsgdb9nsd_002921.xyz\n",
            "dsgdb9nsd_000922.xyz  dsgdb9nsd_001922.xyz  dsgdb9nsd_002922.xyz\n",
            "dsgdb9nsd_000923.xyz  dsgdb9nsd_001923.xyz  dsgdb9nsd_002923.xyz\n",
            "dsgdb9nsd_000924.xyz  dsgdb9nsd_001924.xyz  dsgdb9nsd_002924.xyz\n",
            "dsgdb9nsd_000925.xyz  dsgdb9nsd_001925.xyz  dsgdb9nsd_002925.xyz\n",
            "dsgdb9nsd_000926.xyz  dsgdb9nsd_001926.xyz  dsgdb9nsd_002926.xyz\n",
            "dsgdb9nsd_000927.xyz  dsgdb9nsd_001927.xyz  dsgdb9nsd_002927.xyz\n",
            "dsgdb9nsd_000928.xyz  dsgdb9nsd_001928.xyz  dsgdb9nsd_002928.xyz\n",
            "dsgdb9nsd_000929.xyz  dsgdb9nsd_001929.xyz  dsgdb9nsd_002929.xyz\n",
            "dsgdb9nsd_000930.xyz  dsgdb9nsd_001930.xyz  dsgdb9nsd_002930.xyz\n",
            "dsgdb9nsd_000931.xyz  dsgdb9nsd_001931.xyz  dsgdb9nsd_002931.xyz\n",
            "dsgdb9nsd_000932.xyz  dsgdb9nsd_001932.xyz  dsgdb9nsd_002932.xyz\n",
            "dsgdb9nsd_000933.xyz  dsgdb9nsd_001933.xyz  dsgdb9nsd_002933.xyz\n",
            "dsgdb9nsd_000934.xyz  dsgdb9nsd_001934.xyz  dsgdb9nsd_002934.xyz\n",
            "dsgdb9nsd_000935.xyz  dsgdb9nsd_001935.xyz  dsgdb9nsd_002935.xyz\n",
            "dsgdb9nsd_000936.xyz  dsgdb9nsd_001936.xyz  dsgdb9nsd_002936.xyz\n",
            "dsgdb9nsd_000937.xyz  dsgdb9nsd_001937.xyz  dsgdb9nsd_002937.xyz\n",
            "dsgdb9nsd_000938.xyz  dsgdb9nsd_001938.xyz  dsgdb9nsd_002938.xyz\n",
            "dsgdb9nsd_000939.xyz  dsgdb9nsd_001939.xyz  dsgdb9nsd_002939.xyz\n",
            "dsgdb9nsd_000940.xyz  dsgdb9nsd_001940.xyz  dsgdb9nsd_002940.xyz\n",
            "dsgdb9nsd_000941.xyz  dsgdb9nsd_001941.xyz  dsgdb9nsd_002941.xyz\n",
            "dsgdb9nsd_000942.xyz  dsgdb9nsd_001942.xyz  dsgdb9nsd_002942.xyz\n",
            "dsgdb9nsd_000943.xyz  dsgdb9nsd_001943.xyz  dsgdb9nsd_002943.xyz\n",
            "dsgdb9nsd_000944.xyz  dsgdb9nsd_001944.xyz  dsgdb9nsd_002944.xyz\n",
            "dsgdb9nsd_000945.xyz  dsgdb9nsd_001945.xyz  dsgdb9nsd_002945.xyz\n",
            "dsgdb9nsd_000946.xyz  dsgdb9nsd_001946.xyz  dsgdb9nsd_002946.xyz\n",
            "dsgdb9nsd_000947.xyz  dsgdb9nsd_001947.xyz  dsgdb9nsd_002947.xyz\n",
            "dsgdb9nsd_000948.xyz  dsgdb9nsd_001948.xyz  dsgdb9nsd_002948.xyz\n",
            "dsgdb9nsd_000949.xyz  dsgdb9nsd_001949.xyz  dsgdb9nsd_002949.xyz\n",
            "dsgdb9nsd_000950.xyz  dsgdb9nsd_001950.xyz  dsgdb9nsd_002950.xyz\n",
            "dsgdb9nsd_000951.xyz  dsgdb9nsd_001951.xyz  dsgdb9nsd_002951.xyz\n",
            "dsgdb9nsd_000952.xyz  dsgdb9nsd_001952.xyz  dsgdb9nsd_002952.xyz\n",
            "dsgdb9nsd_000953.xyz  dsgdb9nsd_001953.xyz  dsgdb9nsd_002953.xyz\n",
            "dsgdb9nsd_000954.xyz  dsgdb9nsd_001954.xyz  dsgdb9nsd_002954.xyz\n",
            "dsgdb9nsd_000955.xyz  dsgdb9nsd_001955.xyz  dsgdb9nsd_002955.xyz\n",
            "dsgdb9nsd_000956.xyz  dsgdb9nsd_001956.xyz  dsgdb9nsd_002956.xyz\n",
            "dsgdb9nsd_000957.xyz  dsgdb9nsd_001957.xyz  dsgdb9nsd_002957.xyz\n",
            "dsgdb9nsd_000958.xyz  dsgdb9nsd_001958.xyz  dsgdb9nsd_002958.xyz\n",
            "dsgdb9nsd_000959.xyz  dsgdb9nsd_001959.xyz  dsgdb9nsd_002959.xyz\n",
            "dsgdb9nsd_000960.xyz  dsgdb9nsd_001960.xyz  dsgdb9nsd_002960.xyz\n",
            "dsgdb9nsd_000961.xyz  dsgdb9nsd_001961.xyz  dsgdb9nsd_002961.xyz\n",
            "dsgdb9nsd_000962.xyz  dsgdb9nsd_001962.xyz  dsgdb9nsd_002962.xyz\n",
            "dsgdb9nsd_000963.xyz  dsgdb9nsd_001963.xyz  dsgdb9nsd_002963.xyz\n",
            "dsgdb9nsd_000964.xyz  dsgdb9nsd_001964.xyz  dsgdb9nsd_002964.xyz\n",
            "dsgdb9nsd_000965.xyz  dsgdb9nsd_001965.xyz  dsgdb9nsd_002965.xyz\n",
            "dsgdb9nsd_000966.xyz  dsgdb9nsd_001966.xyz  dsgdb9nsd_002966.xyz\n",
            "dsgdb9nsd_000967.xyz  dsgdb9nsd_001967.xyz  dsgdb9nsd_002967.xyz\n",
            "dsgdb9nsd_000968.xyz  dsgdb9nsd_001968.xyz  dsgdb9nsd_002968.xyz\n",
            "dsgdb9nsd_000969.xyz  dsgdb9nsd_001969.xyz  dsgdb9nsd_002969.xyz\n",
            "dsgdb9nsd_000970.xyz  dsgdb9nsd_001970.xyz  dsgdb9nsd_002970.xyz\n",
            "dsgdb9nsd_000971.xyz  dsgdb9nsd_001971.xyz  dsgdb9nsd_002971.xyz\n",
            "dsgdb9nsd_000972.xyz  dsgdb9nsd_001972.xyz  dsgdb9nsd_002972.xyz\n",
            "dsgdb9nsd_000973.xyz  dsgdb9nsd_001973.xyz  dsgdb9nsd_002973.xyz\n",
            "dsgdb9nsd_000974.xyz  dsgdb9nsd_001974.xyz  dsgdb9nsd_002974.xyz\n",
            "dsgdb9nsd_000975.xyz  dsgdb9nsd_001975.xyz  dsgdb9nsd_002975.xyz\n",
            "dsgdb9nsd_000976.xyz  dsgdb9nsd_001976.xyz  dsgdb9nsd_002976.xyz\n",
            "dsgdb9nsd_000977.xyz  dsgdb9nsd_001977.xyz  dsgdb9nsd_002977.xyz\n",
            "dsgdb9nsd_000978.xyz  dsgdb9nsd_001978.xyz  dsgdb9nsd_002978.xyz\n",
            "dsgdb9nsd_000979.xyz  dsgdb9nsd_001979.xyz  dsgdb9nsd_002979.xyz\n",
            "dsgdb9nsd_000980.xyz  dsgdb9nsd_001980.xyz  dsgdb9nsd_002980.xyz\n",
            "dsgdb9nsd_000981.xyz  dsgdb9nsd_001981.xyz  dsgdb9nsd_002981.xyz\n",
            "dsgdb9nsd_000982.xyz  dsgdb9nsd_001982.xyz  dsgdb9nsd_002982.xyz\n",
            "dsgdb9nsd_000983.xyz  dsgdb9nsd_001983.xyz  dsgdb9nsd_002983.xyz\n",
            "dsgdb9nsd_000984.xyz  dsgdb9nsd_001984.xyz  dsgdb9nsd_002984.xyz\n",
            "dsgdb9nsd_000985.xyz  dsgdb9nsd_001985.xyz  dsgdb9nsd_002985.xyz\n",
            "dsgdb9nsd_000986.xyz  dsgdb9nsd_001986.xyz  dsgdb9nsd_002986.xyz\n",
            "dsgdb9nsd_000987.xyz  dsgdb9nsd_001987.xyz  dsgdb9nsd_002987.xyz\n",
            "dsgdb9nsd_000988.xyz  dsgdb9nsd_001988.xyz  dsgdb9nsd_002988.xyz\n",
            "dsgdb9nsd_000989.xyz  dsgdb9nsd_001989.xyz  dsgdb9nsd_002989.xyz\n",
            "dsgdb9nsd_000990.xyz  dsgdb9nsd_001990.xyz  dsgdb9nsd_002990.xyz\n",
            "dsgdb9nsd_000991.xyz  dsgdb9nsd_001991.xyz  dsgdb9nsd_002991.xyz\n",
            "dsgdb9nsd_000992.xyz  dsgdb9nsd_001992.xyz  dsgdb9nsd_002992.xyz\n",
            "dsgdb9nsd_000993.xyz  dsgdb9nsd_001993.xyz  dsgdb9nsd_002993.xyz\n",
            "dsgdb9nsd_000994.xyz  dsgdb9nsd_001994.xyz  dsgdb9nsd_002994.xyz\n",
            "dsgdb9nsd_000995.xyz  dsgdb9nsd_001995.xyz  dsgdb9nsd_002995.xyz\n",
            "dsgdb9nsd_000996.xyz  dsgdb9nsd_001996.xyz  dsgdb9nsd_002996.xyz\n",
            "dsgdb9nsd_000997.xyz  dsgdb9nsd_001997.xyz  dsgdb9nsd_002997.xyz\n",
            "dsgdb9nsd_000998.xyz  dsgdb9nsd_001998.xyz  dsgdb9nsd_002998.xyz\n",
            "dsgdb9nsd_000999.xyz  dsgdb9nsd_001999.xyz  dsgdb9nsd_002999.xyz\n",
            "dsgdb9nsd_001000.xyz  dsgdb9nsd_002000.xyz  dsgdb9nsd_003000.xyz\n"
          ],
          "name": "stdout"
        }
      ]
    },
    {
      "cell_type": "code",
      "metadata": {
        "id": "WQB34vrMURH7",
        "colab_type": "code",
        "colab": {}
      },
      "source": [
        "root = \"/content/drive/My Drive/dsb4/\"\n"
      ],
      "execution_count": 0,
      "outputs": []
    },
    {
      "cell_type": "code",
      "metadata": {
        "id": "DRRe3BEb8QLY",
        "colab_type": "code",
        "colab": {
          "base_uri": "https://localhost:8080/",
          "height": 35
        },
        "outputId": "49da6939-7858-4b0b-8f37-0eb8666cce63"
      },
      "source": [
        "file_list = os.listdir(root)\n",
        "num_mols = len(file_list)\n",
        "print(num_mols)"
      ],
      "execution_count": 7,
      "outputs": [
        {
          "output_type": "stream",
          "text": [
            "3000\n"
          ],
          "name": "stdout"
        }
      ]
    },
    {
      "cell_type": "code",
      "metadata": {
        "id": "opjsXd288QXg",
        "colab_type": "code",
        "colab": {}
      },
      "source": [
        "def read_xyz(file_name):\n",
        "    with open(file_name, 'rb') as file:\n",
        "        num_atoms = int(file.readline())\n",
        "        properties = file.readline().split()[1:17]\n",
        "        properties = [num.replace(b'*^', b'e') for num in properties] \n",
        "        properties = [float(prop) for prop in properties]\n",
        "        atom_types = [0]*num_atoms\n",
        "        coords = np.array(np.zeros([num_atoms,3]))\n",
        "        for na in range(num_atoms):\n",
        "            coord_line = file.readline().split()\n",
        "            atom_types[na] = coord_line[0]\n",
        "            xyz_coords = coord_line[1:4]\n",
        "            xyz_coords = [num.replace(b'*^', b'e') for num in xyz_coords] \n",
        "            coords[na,:] = [float(num) for num in xyz_coords]  \n",
        "        vib_freqs = file.readline()\n",
        "        smiles = file.readline().split()[0]\n",
        "        inchis = file.readline()\n",
        "        \n",
        "    return smiles, properties, atom_types, coords\n"
      ],
      "execution_count": 0,
      "outputs": []
    },
    {
      "cell_type": "code",
      "metadata": {
        "id": "P8kpl7xT8QhC",
        "colab_type": "code",
        "colab": {
          "base_uri": "https://localhost:8080/",
          "height": 35
        },
        "outputId": "7cb4c2fb-26d3-422f-f8d3-240afb98822d"
      },
      "source": [
        "smiles = [0]*num_mols\n",
        "properties = [0]*num_mols \n",
        "atom_types = [0]*num_mols\n",
        "coords = [0]*num_mols\n",
        "\n",
        "for im in range(num_mols):\n",
        "    smiles[im], properties[im], atom_types[im], coords[im] = read_xyz(root+file_list[im])\n",
        "\n",
        "biggest_mol_size = max([len(atom_list) for atom_list in atom_types])\n",
        "\n",
        "print(\"size of largest molecule = \", biggest_mol_size)"
      ],
      "execution_count": 9,
      "outputs": [
        {
          "output_type": "stream",
          "text": [
            "size of largest molecule =  23\n"
          ],
          "name": "stdout"
        }
      ]
    },
    {
      "cell_type": "code",
      "metadata": {
        "id": "yElptfx1AsGF",
        "colab_type": "code",
        "colab": {
          "base_uri": "https://localhost:8080/",
          "height": 452
        },
        "outputId": "17bfdcfa-d8cb-491e-f7ae-8d2b35998ba3"
      },
      "source": [
        "#Data exploration\n",
        "print(smiles[0])\n",
        "print(properties[0])\n",
        "print(atom_types[0])\n",
        "print(coords[0])"
      ],
      "execution_count": 10,
      "outputs": [
        {
          "output_type": "stream",
          "text": [
            "b'CCC(C)(C)CO'\n",
            "[1190.0, 4.21306, 1.59526, 1.58608, 1.3701, 70.35, -0.2634, 0.071, 0.3344, 930.2807, 0.19263, -312.126404, -312.116983, -312.116038, -312.159466, 34.624]\n",
            "[b'C', b'C', b'C', b'C', b'C', b'C', b'O', b'H', b'H', b'H', b'H', b'H', b'H', b'H', b'H', b'H', b'H', b'H', b'H', b'H', b'H']\n",
            "[[-0.09154256  1.53218101  0.14093275]\n",
            " [ 0.02343999  0.01390489 -0.03527386]\n",
            " [ 0.74930904 -0.47568921 -1.31226983]\n",
            " [ 0.01338755 -0.01015841 -2.58249908]\n",
            " [ 2.20950203  0.01284022 -1.34298298]\n",
            " [ 0.73909444 -2.01433855 -1.26566411]\n",
            " [ 1.39435776 -2.52844238 -2.41775037]\n",
            " [ 0.89004214  2.01290774  0.19180415]\n",
            " [-0.64962172  1.99719149 -0.67729967]\n",
            " [-0.61895248  1.76670105  1.07100844]\n",
            " [ 0.54132136 -0.40287972  0.83946119]\n",
            " [-0.98646587 -0.4185391  -0.0229258 ]\n",
            " [ 0.06357126  1.07628402 -2.69885767]\n",
            " [ 0.45972962 -0.46759113 -3.46842875]\n",
            " [-1.04456084 -0.29659295 -2.55229845]\n",
            " [ 2.73477263 -0.25682968 -0.41908737]\n",
            " [ 2.74456645 -0.44382452 -2.17874483]\n",
            " [ 2.26592257  1.09932994 -1.45601355]\n",
            " [ 1.24421783 -2.35250852 -0.34606766]\n",
            " [-0.30372484 -2.36867233 -1.2193076 ]\n",
            " [ 1.37820311 -3.488051   -2.36995953]]\n"
          ],
          "name": "stdout"
        }
      ]
    },
    {
      "cell_type": "code",
      "metadata": {
        "id": "dghBKFHvBu7d",
        "colab_type": "code",
        "colab": {}
      },
      "source": [
        "import rdkit\n",
        "from rdkit import Chem\n",
        "from rdkit.Chem.Draw import IPythonConsole \n",
        "from rdkit.Chem.Draw.MolDrawing import MolDrawing, DrawingOptions "
      ],
      "execution_count": 0,
      "outputs": []
    },
    {
      "cell_type": "code",
      "metadata": {
        "id": "oeL4qKZ3CFUr",
        "colab_type": "code",
        "colab": {}
      },
      "source": [
        "DrawingOptions.bondLineWidth=2.0\n",
        "sample= Chem.MolFromSmiles(smiles[0])"
      ],
      "execution_count": 0,
      "outputs": []
    },
    {
      "cell_type": "code",
      "metadata": {
        "id": "bUvDY0K_CPy0",
        "colab_type": "code",
        "colab": {
          "base_uri": "https://localhost:8080/",
          "height": 167
        },
        "outputId": "1032108c-a82b-4306-98ca-3efb6c157ae5"
      },
      "source": [
        "sample"
      ],
      "execution_count": 13,
      "outputs": [
        {
          "output_type": "execute_result",
          "data": {
            "image/png": "[encoded data removed]",
            "text/plain": [
              "<rdkit.Chem.rdchem.Mol at 0x7f5289dc74e0>"
            ]
          },
          "metadata": {
            "tags": []
          },
          "execution_count": 13
        }
      ]
    },
    {
      "cell_type": "code",
      "metadata": {
        "id": "UqT1e7Th8Qud",
        "colab_type": "code",
        "colab": {
          "base_uri": "https://localhost:8080/",
          "height": 35
        },
        "outputId": "7cf8a34b-2e39-45e0-92cc-e8a30ddf044c"
      },
      "source": [
        "all_atoms = []\n",
        "for atoms in atom_types:\n",
        "    all_atoms += atoms\n",
        "print(set(all_atoms))\n",
        "del all_atoms"
      ],
      "execution_count": 14,
      "outputs": [
        {
          "output_type": "stream",
          "text": [
            "{b'F', b'H', b'C', b'O', b'N'}\n"
          ],
          "name": "stdout"
        }
      ]
    },
    {
      "cell_type": "code",
      "metadata": {
        "id": "B0gXBYaGGxUh",
        "colab_type": "code",
        "colab": {
          "base_uri": "https://localhost:8080/",
          "height": 35
        },
        "outputId": "0acacf11-71cd-49cd-f340-a3db46a3ab49"
      },
      "source": [
        "!git clone https://github.com/bmbodj/mmltoolkit.git"
      ],
      "execution_count": 15,
      "outputs": [
        {
          "output_type": "stream",
          "text": [
            "fatal: destination path 'mmltoolkit' already exists and is not an empty directory.\n"
          ],
          "name": "stdout"
        }
      ]
    },
    {
      "cell_type": "code",
      "metadata": {
        "id": "TTw1Eqs0G97L",
        "colab_type": "code",
        "colab": {
          "base_uri": "https://localhost:8080/",
          "height": 35
        },
        "outputId": "eeaa89e7-c6ce-4270-de81-e8a184cf2bfd"
      },
      "source": [
        "!ls mmltoolkit"
      ],
      "execution_count": 16,
      "outputs": [
        {
          "output_type": "stream",
          "text": [
            "examples  LICENSE  mmltoolkit  README.md  setup.py\n"
          ],
          "name": "stdout"
        }
      ]
    },
    {
      "cell_type": "code",
      "metadata": {
        "id": "9IP1ylOGH4IT",
        "colab_type": "code",
        "colab": {
          "base_uri": "https://localhost:8080/",
          "height": 138
        },
        "outputId": "85b974c1-41df-4d62-d29e-b90d6f6b0eb1"
      },
      "source": [
        "!ls mmltoolkit/mmltoolkit"
      ],
      "execution_count": 17,
      "outputs": [
        {
          "output_type": "stream",
          "text": [
            "CV_tools.py\t\t\t__init__.py\n",
            "descriptors.py\t\t\tlearning_curves.py\n",
            "feature_importance.py\t\tmetrics.py\n",
            "featurization_comparison.py\tmodel_comparison.py\n",
            "featurizations.py\t\t__pycache__\n",
            "fingerprints.py\t\t\ttest_everything.py\n",
            "functional_group_featurizer.py\ttest_splits.py\n"
          ],
          "name": "stdout"
        }
      ]
    },
    {
      "cell_type": "code",
      "metadata": {
        "id": "RnO0UaMCHRbY",
        "colab_type": "code",
        "colab": {}
      },
      "source": [
        "# Add these modules to my mounted path\n",
        "sys.path.append('/content/drive/My Drive/')"
      ],
      "execution_count": 0,
      "outputs": []
    },
    {
      "cell_type": "code",
      "metadata": {
        "id": "e8SrSmWM_psc",
        "colab_type": "code",
        "colab": {
          "base_uri": "https://localhost:8080/",
          "height": 121
        },
        "outputId": "ff357f2a-e938-4714-df29-87be66597fa9"
      },
      "source": [
        "import mmltoolkit\n",
        "\n",
        "from mmltoolkit.mmltoolkit.featurizations import coulombmat_eigenvalues_from_coords\n",
        "\n",
        "coulombmat_eigenvalues_from_coords(atom_types[1], coords[1], biggest_mol_size)"
      ],
      "execution_count": 19,
      "outputs": [
        {
          "output_type": "execute_result",
          "data": {
            "text/plain": [
              "array([ 1.60917481e+02,  4.72751900e+01,  3.39339068e+01,  2.42747076e+01,\n",
              "        1.97015339e+01,  1.40277910e+01,  6.27681243e+00, -1.01069264e+00,\n",
              "       -9.08256183e-01, -8.18211511e-01, -8.13453030e-01, -5.24708481e-01,\n",
              "        5.67776020e-02,  9.89253696e-03, -2.27927089e-02, -3.65468361e-02,\n",
              "       -7.38508871e-02, -1.21301963e-01, -1.40791073e-01, -1.71724450e-01,\n",
              "       -1.66436759e-01,  0.00000000e+00,  0.00000000e+00])"
            ]
          },
          "metadata": {
            "tags": []
          },
          "execution_count": 19
        }
      ]
    },
    {
      "cell_type": "code",
      "metadata": {
        "id": "9KybTtXbPSeY",
        "colab_type": "code",
        "colab": {}
      },
      "source": [
        "# Generate Coulomb matrix eigenvalues \n",
        "cmat_eigs = np.zeros([num_mols, biggest_mol_size])\n",
        "\n",
        "for im in range(num_mols):\n",
        "    cmat_eigs[im,:] = coulombmat_eigenvalues_from_coords(atom_types[im], coords[im], biggest_mol_size)"
      ],
      "execution_count": 0,
      "outputs": []
    },
    {
      "cell_type": "code",
      "metadata": {
        "id": "X_IaW-tzPSx_",
        "colab_type": "code",
        "colab": {
          "base_uri": "https://localhost:8080/",
          "height": 35
        },
        "outputId": "86e5b6bc-7d45-4ad9-e5c5-e299e67d3ec2"
      },
      "source": [
        "cmat_eigs.shape"
      ],
      "execution_count": 21,
      "outputs": [
        {
          "output_type": "execute_result",
          "data": {
            "text/plain": [
              "(3000, 23)"
            ]
          },
          "metadata": {
            "tags": []
          },
          "execution_count": 21
        }
      ]
    },
    {
      "cell_type": "code",
      "metadata": {
        "id": "LEesloXeEfXX",
        "colab_type": "code",
        "colab": {}
      },
      "source": [
        "from google.colab import files"
      ],
      "execution_count": 0,
      "outputs": []
    },
    {
      "cell_type": "code",
      "metadata": {
        "id": "4x87UXaGPcNF",
        "colab_type": "code",
        "colab": {}
      },
      "source": [
        "with open('QM9_all_smiles.txt', 'wb') as file:\n",
        "    for smile in smiles:\n",
        "        file.write(smile+b'\\n')"
      ],
      "execution_count": 0,
      "outputs": []
    },
    {
      "cell_type": "code",
      "metadata": {
        "id": "gMOaMT_oEiHm",
        "colab_type": "code",
        "colab": {}
      },
      "source": [
        "files.download('QM9_all_smiles.txt')"
      ],
      "execution_count": 0,
      "outputs": []
    },
    {
      "cell_type": "code",
      "metadata": {
        "id": "rpf_dXzgpxHo",
        "colab_type": "code",
        "colab": {}
      },
      "source": [
        "import pandas as pd\n",
        "import numpy as np"
      ],
      "execution_count": 0,
      "outputs": []
    },
    {
      "cell_type": "code",
      "metadata": {
        "id": "ChmgQkV_r6AU",
        "colab_type": "code",
        "colab": {
          "base_uri": "https://localhost:8080/",
          "height": 218
        },
        "outputId": "efa45846-54f7-4aa9-8cca-c7f6fc669298"
      },
      "source": [
        "dtype = [('Col1','int32'), ('Col2','float32'), ('Col3','float32'),('Col4','int32'), ('Col5','float32'), ('Col6','float32'),('Col7','int32'), ('Col8','float32'), ('Col9','float32'),('Col10','int32'), ('Col11','float32'), ('Col12','float32'),('Col13','float32'), ('Col14','float32'),('Col15','float32'), ('Col16','float32'),('Col17','float32')]\n",
        "values = properties\n",
        "index = ['Row'+str(i) for i in range(1, len(values)+1)]\n",
        "\n",
        "df = pd.DataFrame(values, index=index)\n",
        "\n",
        "df.head()"
      ],
      "execution_count": 30,
      "outputs": [
        {
          "output_type": "execute_result",
          "data": {
            "text/html": [
              "<div>\n",
              "<style scoped>\n",
              "    .dataframe tbody tr th:only-of-type {\n",
              "        vertical-align: middle;\n",
              "    }\n",
              "\n",
              "    .dataframe tbody tr th {\n",
              "        vertical-align: top;\n",
              "    }\n",
              "\n",
              "    .dataframe thead th {\n",
              "        text-align: right;\n",
              "    }\n",
              "</style>\n",
              "<table border=\"1\" class=\"dataframe\">\n",
              "  <thead>\n",
              "    <tr style=\"text-align: right;\">\n",
              "      <th></th>\n",
              "      <th>0</th>\n",
              "      <th>1</th>\n",
              "      <th>2</th>\n",
              "      <th>3</th>\n",
              "      <th>4</th>\n",
              "      <th>5</th>\n",
              "      <th>6</th>\n",
              "      <th>7</th>\n",
              "      <th>8</th>\n",
              "      <th>9</th>\n",
              "      <th>10</th>\n",
              "      <th>11</th>\n",
              "      <th>12</th>\n",
              "      <th>13</th>\n",
              "      <th>14</th>\n",
              "      <th>15</th>\n",
              "    </tr>\n",
              "  </thead>\n",
              "  <tbody>\n",
              "    <tr>\n",
              "      <th>Row1</th>\n",
              "      <td>1190.0</td>\n",
              "      <td>4.21306</td>\n",
              "      <td>1.59526</td>\n",
              "      <td>1.58608</td>\n",
              "      <td>1.3701</td>\n",
              "      <td>70.35</td>\n",
              "      <td>-0.2634</td>\n",
              "      <td>0.0710</td>\n",
              "      <td>0.3344</td>\n",
              "      <td>930.2807</td>\n",
              "      <td>0.192630</td>\n",
              "      <td>-312.126404</td>\n",
              "      <td>-312.116983</td>\n",
              "      <td>-312.116038</td>\n",
              "      <td>-312.159466</td>\n",
              "      <td>34.624</td>\n",
              "    </tr>\n",
              "    <tr>\n",
              "      <th>Row2</th>\n",
              "      <td>1191.0</td>\n",
              "      <td>3.19752</td>\n",
              "      <td>2.02748</td>\n",
              "      <td>1.75763</td>\n",
              "      <td>1.0638</td>\n",
              "      <td>70.74</td>\n",
              "      <td>-0.2456</td>\n",
              "      <td>0.0788</td>\n",
              "      <td>0.3244</td>\n",
              "      <td>886.0660</td>\n",
              "      <td>0.191831</td>\n",
              "      <td>-312.122563</td>\n",
              "      <td>-312.113075</td>\n",
              "      <td>-312.112131</td>\n",
              "      <td>-312.156051</td>\n",
              "      <td>34.466</td>\n",
              "    </tr>\n",
              "    <tr>\n",
              "      <th>Row3</th>\n",
              "      <td>1187.0</td>\n",
              "      <td>4.34167</td>\n",
              "      <td>1.63660</td>\n",
              "      <td>1.63065</td>\n",
              "      <td>2.6199</td>\n",
              "      <td>63.41</td>\n",
              "      <td>-0.2604</td>\n",
              "      <td>0.0669</td>\n",
              "      <td>0.3272</td>\n",
              "      <td>871.3942</td>\n",
              "      <td>0.168887</td>\n",
              "      <td>-348.048844</td>\n",
              "      <td>-348.039503</td>\n",
              "      <td>-348.038559</td>\n",
              "      <td>-348.081890</td>\n",
              "      <td>33.492</td>\n",
              "    </tr>\n",
              "    <tr>\n",
              "      <th>Row4</th>\n",
              "      <td>1196.0</td>\n",
              "      <td>8.34619</td>\n",
              "      <td>1.16060</td>\n",
              "      <td>1.04324</td>\n",
              "      <td>3.2208</td>\n",
              "      <td>62.34</td>\n",
              "      <td>-0.2392</td>\n",
              "      <td>0.0298</td>\n",
              "      <td>0.2690</td>\n",
              "      <td>1094.2800</td>\n",
              "      <td>0.111076</td>\n",
              "      <td>-324.588239</td>\n",
              "      <td>-324.579399</td>\n",
              "      <td>-324.578455</td>\n",
              "      <td>-324.624091</td>\n",
              "      <td>28.741</td>\n",
              "    </tr>\n",
              "    <tr>\n",
              "      <th>Row5</th>\n",
              "      <td>1195.0</td>\n",
              "      <td>8.48546</td>\n",
              "      <td>1.13674</td>\n",
              "      <td>1.02138</td>\n",
              "      <td>2.3414</td>\n",
              "      <td>66.31</td>\n",
              "      <td>-0.2392</td>\n",
              "      <td>-0.0110</td>\n",
              "      <td>0.2282</td>\n",
              "      <td>1140.7997</td>\n",
              "      <td>0.121157</td>\n",
              "      <td>-308.518356</td>\n",
              "      <td>-308.509288</td>\n",
              "      <td>-308.508344</td>\n",
              "      <td>-308.555292</td>\n",
              "      <td>29.102</td>\n",
              "    </tr>\n",
              "  </tbody>\n",
              "</table>\n",
              "</div>"
            ],
            "text/plain": [
              "          0        1        2   ...          13          14      15\n",
              "Row1  1190.0  4.21306  1.59526  ... -312.116038 -312.159466  34.624\n",
              "Row2  1191.0  3.19752  2.02748  ... -312.112131 -312.156051  34.466\n",
              "Row3  1187.0  4.34167  1.63660  ... -348.038559 -348.081890  33.492\n",
              "Row4  1196.0  8.34619  1.16060  ... -324.578455 -324.624091  28.741\n",
              "Row5  1195.0  8.48546  1.13674  ... -308.508344 -308.555292  29.102\n",
              "\n",
              "[5 rows x 16 columns]"
            ]
          },
          "metadata": {
            "tags": []
          },
          "execution_count": 30
        }
      ]
    },
    {
      "cell_type": "code",
      "metadata": {
        "id": "AgdJTY-VyUJY",
        "colab_type": "code",
        "colab": {}
      },
      "source": [
        "len(df)"
      ],
      "execution_count": 0,
      "outputs": []
    },
    {
      "cell_type": "code",
      "metadata": {
        "id": "wA6cM-Zrz92c",
        "colab_type": "code",
        "colab": {}
      },
      "source": [
        "X=cmat_eigs\n",
        "y_mu=df[df.columns[1]]\n",
        "y_alpha=df[df.columns[2]]\n",
        "y_homo=df[df.columns[3]]\n",
        "y_lumo=df[df.columns[4]]\n",
        "y_gap=df[df.columns[5]]\n",
        "y_R2=df[df.columns[6]]\n",
        "y_zpve=df[df.columns[7]]\n",
        "y_u0=df[df.columns[8]]\n",
        "y_u=df[df.columns[9]]\n",
        "y_h=df[df.columns[10]]\n",
        "y_g=df[df.columns[11]]\n",
        "y_cv=df[df.columns[12]]\n"
      ],
      "execution_count": 0,
      "outputs": []
    },
    {
      "cell_type": "code",
      "metadata": {
        "id": "7T1UyH7hyjg-",
        "colab_type": "code",
        "colab": {
          "base_uri": "https://localhost:8080/",
          "height": 86
        },
        "outputId": "645ffab7-d59a-44ec-8611-b5872a0ba739"
      },
      "source": [
        "# Split X and y into training and testing/validation sets\n",
        "from sklearn.model_selection import train_test_split\n",
        "X_train, X_test, y_train, y_test = train_test_split(X, y_mu, test_size=0.2, random_state=101)\n",
        "print(X_train.shape)\n",
        "print(X_test.shape)\n",
        "print(y_train.shape)\n",
        "print(y_test.shape)"
      ],
      "execution_count": 33,
      "outputs": [
        {
          "output_type": "stream",
          "text": [
            "(2400, 23)\n",
            "(600, 23)\n",
            "(2400,)\n",
            "(600,)\n"
          ],
          "name": "stdout"
        }
      ]
    },
    {
      "cell_type": "code",
      "metadata": {
        "id": "xRZbpbiG1Q21",
        "colab_type": "code",
        "colab": {}
      },
      "source": [
        "from sklearn import preprocessing\n",
        "X_scaled = preprocessing.scale(X_train)\n",
        "scaler = preprocessing.StandardScaler().fit(X_train)\n",
        "X_traindtm=scaler.transform(X_train) \n",
        "X_testdtm=scaler.transform(X_test)"
      ],
      "execution_count": 0,
      "outputs": []
    },
    {
      "cell_type": "code",
      "metadata": {
        "id": "QrfXKO2y0wYU",
        "colab_type": "code",
        "colab": {}
      },
      "source": [
        "# Logitic regression model\n",
        "from sklearn.linear_model import LinearRegression"
      ],
      "execution_count": 0,
      "outputs": []
    },
    {
      "cell_type": "code",
      "metadata": {
        "id": "1hn8WNGw0x2u",
        "colab_type": "code",
        "colab": {}
      },
      "source": [
        "logmodel=LinearRegression()"
      ],
      "execution_count": 0,
      "outputs": []
    },
    {
      "cell_type": "code",
      "metadata": {
        "id": "Uemxc6O201g6",
        "colab_type": "code",
        "colab": {}
      },
      "source": [
        "logmodel.fit(X_traindtm, y_train)\n",
        "y_pred_log=logmodel.predict(X_testdtm)"
      ],
      "execution_count": 0,
      "outputs": []
    },
    {
      "cell_type": "code",
      "metadata": {
        "id": "_9VMNICb3VUt",
        "colab_type": "code",
        "colab": {}
      },
      "source": [
        "# Import metrics to calculate accuracy\n",
        "from sklearn import metrics\n",
        "from sklearn.metrics import mean_absolute_error"
      ],
      "execution_count": 0,
      "outputs": []
    },
    {
      "cell_type": "code",
      "metadata": {
        "id": "c42Eeyr_3hAx",
        "colab_type": "code",
        "colab": {
          "base_uri": "https://localhost:8080/",
          "height": 52
        },
        "outputId": "db399991-9ee5-4c91-c4e6-579ebe425f05"
      },
      "source": [
        "print(\"Mean absolute error score for logistic regression :\")\n",
        "print(mean_absolute_error(y_test,y_pred_log))"
      ],
      "execution_count": 39,
      "outputs": [
        {
          "output_type": "stream",
          "text": [
            "Mean absolute error score for logistic regression :\n",
            "654.2694437825041\n"
          ],
          "name": "stdout"
        }
      ]
    },
    {
      "cell_type": "code",
      "metadata": {
        "id": "6UjVclAl9THC",
        "colab_type": "code",
        "colab": {
          "base_uri": "https://localhost:8080/",
          "height": 86
        },
        "outputId": "329533f6-3915-40d8-afc7-8c352a1d45c6"
      },
      "source": [
        "#Predicting second property\n",
        "X_train, X_test, y_train, y_test = train_test_split(X, y_alpha, test_size=0.2, random_state=101)\n",
        "print(X_train.shape)\n",
        "print(X_test.shape)\n",
        "print(y_train.shape)\n",
        "print(y_test.shape)"
      ],
      "execution_count": 41,
      "outputs": [
        {
          "output_type": "stream",
          "text": [
            "(2400, 23)\n",
            "(600, 23)\n",
            "(2400,)\n",
            "(600,)\n"
          ],
          "name": "stdout"
        }
      ]
    },
    {
      "cell_type": "code",
      "metadata": {
        "id": "CkM_EI0y9h5Q",
        "colab_type": "code",
        "colab": {}
      },
      "source": [
        "X_scaled = preprocessing.scale(X_train)\n",
        "scaler = preprocessing.StandardScaler().fit(X_train)\n",
        "X_traindtm=scaler.transform(X_train) \n",
        "X_testdtm=scaler.transform(X_test)"
      ],
      "execution_count": 0,
      "outputs": []
    },
    {
      "cell_type": "code",
      "metadata": {
        "id": "xiDzgUQ49iIX",
        "colab_type": "code",
        "colab": {}
      },
      "source": [
        "logmodel=LinearRegression()\n",
        "logmodel.fit(X_traindtm, y_train)\n",
        "y_pred_log=logmodel.predict(X_testdtm)"
      ],
      "execution_count": 0,
      "outputs": []
    },
    {
      "cell_type": "code",
      "metadata": {
        "id": "Ol999yBy9iYH",
        "colab_type": "code",
        "colab": {
          "base_uri": "https://localhost:8080/",
          "height": 52
        },
        "outputId": "4918e567-fbbc-4425-ab3c-1175533fd14c"
      },
      "source": [
        "print(\"Mean absolute error score for logistic regression :\")\n",
        "print(mean_absolute_error(y_test,y_pred_log))"
      ],
      "execution_count": 44,
      "outputs": [
        {
          "output_type": "stream",
          "text": [
            "Mean absolute error score for logistic regression :\n",
            "1.9141180976430845\n"
          ],
          "name": "stdout"
        }
      ]
    },
    {
      "cell_type": "code",
      "metadata": {
        "id": "JgMox8Xw9ipW",
        "colab_type": "code",
        "colab": {
          "base_uri": "https://localhost:8080/",
          "height": 86
        },
        "outputId": "e95f5649-9443-4ca8-da4d-a3892da6ed6e"
      },
      "source": [
        "#Predicting second property\n",
        "X_train, X_test, y_train, y_test = train_test_split(X, y_homo, test_size=0.2, random_state=101)\n",
        "print(X_train.shape)\n",
        "print(X_test.shape)\n",
        "print(y_train.shape)\n",
        "print(y_test.shape)"
      ],
      "execution_count": 45,
      "outputs": [
        {
          "output_type": "stream",
          "text": [
            "(2400, 23)\n",
            "(600, 23)\n",
            "(2400,)\n",
            "(600,)\n"
          ],
          "name": "stdout"
        }
      ]
    },
    {
      "cell_type": "code",
      "metadata": {
        "id": "QWpUbfhA9i-9",
        "colab_type": "code",
        "colab": {}
      },
      "source": [
        "X_scaled = preprocessing.scale(X_train)\n",
        "scaler = preprocessing.StandardScaler().fit(X_train)\n",
        "X_traindtm=scaler.transform(X_train) \n",
        "X_testdtm=scaler.transform(X_test)"
      ],
      "execution_count": 0,
      "outputs": []
    },
    {
      "cell_type": "code",
      "metadata": {
        "id": "J9jYuszz9joE",
        "colab_type": "code",
        "colab": {}
      },
      "source": [
        "logmodel=LinearRegression()\n",
        "logmodel.fit(X_traindtm, y_train)\n",
        "y_pred_log=logmodel.predict(X_testdtm)"
      ],
      "execution_count": 0,
      "outputs": []
    },
    {
      "cell_type": "code",
      "metadata": {
        "id": "M2EQbkZL96Rs",
        "colab_type": "code",
        "colab": {
          "base_uri": "https://localhost:8080/",
          "height": 52
        },
        "outputId": "ea1ae0b8-60bf-4d74-a418-144d20f81b00"
      },
      "source": [
        "print(\"Mean absolute error score for logistic regression :\")\n",
        "print(mean_absolute_error(y_test,y_pred_log))"
      ],
      "execution_count": 49,
      "outputs": [
        {
          "output_type": "stream",
          "text": [
            "Mean absolute error score for logistic regression :\n",
            "1.3937977839762246\n"
          ],
          "name": "stdout"
        }
      ]
    },
    {
      "cell_type": "code",
      "metadata": {
        "id": "D6niM4q596jf",
        "colab_type": "code",
        "colab": {
          "base_uri": "https://localhost:8080/",
          "height": 86
        },
        "outputId": "3237f11f-5247-41b8-d6b8-caff2fc26c60"
      },
      "source": [
        "#Predicting third property\n",
        "X_train, X_test, y_train, y_test = train_test_split(X, y_lumo, test_size=0.2, random_state=101)\n",
        "print(X_train.shape)\n",
        "print(X_test.shape)\n",
        "print(y_train.shape)\n",
        "print(y_test.shape)"
      ],
      "execution_count": 50,
      "outputs": [
        {
          "output_type": "stream",
          "text": [
            "(2400, 23)\n",
            "(600, 23)\n",
            "(2400,)\n",
            "(600,)\n"
          ],
          "name": "stdout"
        }
      ]
    },
    {
      "cell_type": "code",
      "metadata": {
        "id": "yc9_2NE69_xO",
        "colab_type": "code",
        "colab": {}
      },
      "source": [
        "X_scaled = preprocessing.scale(X_train)\n",
        "scaler = preprocessing.StandardScaler().fit(X_train)\n",
        "X_traindtm=scaler.transform(X_train) \n",
        "X_testdtm=scaler.transform(X_test)"
      ],
      "execution_count": 0,
      "outputs": []
    },
    {
      "cell_type": "code",
      "metadata": {
        "id": "UwoIUZ1L9_9j",
        "colab_type": "code",
        "colab": {}
      },
      "source": [
        "logmodel=LinearRegression()\n",
        "logmodel.fit(X_traindtm, y_train)\n",
        "y_pred_log=logmodel.predict(X_testdtm)"
      ],
      "execution_count": 0,
      "outputs": []
    },
    {
      "cell_type": "code",
      "metadata": {
        "id": "rlBdnolA-AbW",
        "colab_type": "code",
        "colab": {
          "base_uri": "https://localhost:8080/",
          "height": 52
        },
        "outputId": "758c06d0-d498-4d02-d857-dce803c45092"
      },
      "source": [
        "print(\"Mean absolute error score for logistic regression :\")\n",
        "print(mean_absolute_error(y_test,y_pred_log))"
      ],
      "execution_count": 53,
      "outputs": [
        {
          "output_type": "stream",
          "text": [
            "Mean absolute error score for logistic regression :\n",
            "0.9645256318843012\n"
          ],
          "name": "stdout"
        }
      ]
    },
    {
      "cell_type": "code",
      "metadata": {
        "id": "PYaWHLEd-AiO",
        "colab_type": "code",
        "colab": {
          "base_uri": "https://localhost:8080/",
          "height": 86
        },
        "outputId": "0b7eb68a-a211-48e1-bc81-0323348b2336"
      },
      "source": [
        "#Predicting fourth property\n",
        "X_train, X_test, y_train, y_test = train_test_split(X, y_gap, test_size=0.2, random_state=101)\n",
        "print(X_train.shape)\n",
        "print(X_test.shape)\n",
        "print(y_train.shape)\n",
        "print(y_test.shape)"
      ],
      "execution_count": 54,
      "outputs": [
        {
          "output_type": "stream",
          "text": [
            "(2400, 23)\n",
            "(600, 23)\n",
            "(2400,)\n",
            "(600,)\n"
          ],
          "name": "stdout"
        }
      ]
    },
    {
      "cell_type": "code",
      "metadata": {
        "id": "azcXN5A3-Auj",
        "colab_type": "code",
        "colab": {}
      },
      "source": [
        "X_scaled = preprocessing.scale(X_train)\n",
        "scaler = preprocessing.StandardScaler().fit(X_train)\n",
        "X_traindtm=scaler.transform(X_train) \n",
        "X_testdtm=scaler.transform(X_test)"
      ],
      "execution_count": 0,
      "outputs": []
    },
    {
      "cell_type": "code",
      "metadata": {
        "id": "ENur646B-Ao0",
        "colab_type": "code",
        "colab": {}
      },
      "source": [
        "logmodel=LinearRegression()\n",
        "logmodel.fit(X_traindtm, y_train)\n",
        "y_pred_log=logmodel.predict(X_testdtm)"
      ],
      "execution_count": 0,
      "outputs": []
    },
    {
      "cell_type": "code",
      "metadata": {
        "id": "u3Kub6Re-AXO",
        "colab_type": "code",
        "colab": {
          "base_uri": "https://localhost:8080/",
          "height": 52
        },
        "outputId": "8b09dc30-1bf8-4926-aea4-4d1fc92129c2"
      },
      "source": [
        "print(\"Mean absolute error score for logistic regression :\")\n",
        "print(mean_absolute_error(y_test,y_pred_log))"
      ],
      "execution_count": 57,
      "outputs": [
        {
          "output_type": "stream",
          "text": [
            "Mean absolute error score for logistic regression :\n",
            "2.9914394867018235\n"
          ],
          "name": "stdout"
        }
      ]
    },
    {
      "cell_type": "code",
      "metadata": {
        "id": "naYEoS5N-qQm",
        "colab_type": "code",
        "colab": {
          "base_uri": "https://localhost:8080/",
          "height": 86
        },
        "outputId": "9a3e8d8f-7e41-4040-fb62-9093d5394ad4"
      },
      "source": [
        "#Predicting fifth property\n",
        "X_train, X_test, y_train, y_test = train_test_split(X, y_R2, test_size=0.2, random_state=101)\n",
        "print(X_train.shape)\n",
        "print(X_test.shape)\n",
        "print(y_train.shape)\n",
        "print(y_test.shape)"
      ],
      "execution_count": 58,
      "outputs": [
        {
          "output_type": "stream",
          "text": [
            "(2400, 23)\n",
            "(600, 23)\n",
            "(2400,)\n",
            "(600,)\n"
          ],
          "name": "stdout"
        }
      ]
    },
    {
      "cell_type": "code",
      "metadata": {
        "id": "jo01p2Nk-qib",
        "colab_type": "code",
        "colab": {}
      },
      "source": [
        "X_scaled = preprocessing.scale(X_train)\n",
        "scaler = preprocessing.StandardScaler().fit(X_train)\n",
        "X_traindtm=scaler.transform(X_train) \n",
        "X_testdtm=scaler.transform(X_test)"
      ],
      "execution_count": 0,
      "outputs": []
    },
    {
      "cell_type": "code",
      "metadata": {
        "id": "8I04wvmi-qw_",
        "colab_type": "code",
        "colab": {}
      },
      "source": [
        "logmodel=LinearRegression()\n",
        "logmodel.fit(X_traindtm, y_train)\n",
        "y_pred_log=logmodel.predict(X_testdtm)"
      ],
      "execution_count": 0,
      "outputs": []
    },
    {
      "cell_type": "code",
      "metadata": {
        "id": "l5MFbI3c-rH1",
        "colab_type": "code",
        "colab": {
          "base_uri": "https://localhost:8080/",
          "height": 52
        },
        "outputId": "608366fe-201c-4e81-985c-0c507b511242"
      },
      "source": [
        "print(\"Mean absolute error score for logistic regression :\")\n",
        "print(mean_absolute_error(y_test,y_pred_log))"
      ],
      "execution_count": 61,
      "outputs": [
        {
          "output_type": "stream",
          "text": [
            "Mean absolute error score for logistic regression :\n",
            "0.01646613216803292\n"
          ],
          "name": "stdout"
        }
      ]
    },
    {
      "cell_type": "code",
      "metadata": {
        "id": "PFPIs3UU-rUl",
        "colab_type": "code",
        "colab": {
          "base_uri": "https://localhost:8080/",
          "height": 86
        },
        "outputId": "79d450a4-3c08-4f11-c40f-2c280b32a486"
      },
      "source": [
        "#Predicting 6th property\n",
        "X_train, X_test, y_train, y_test = train_test_split(X, y_zpve, test_size=0.2, random_state=101)\n",
        "print(X_train.shape)\n",
        "print(X_test.shape)\n",
        "print(y_train.shape)\n",
        "print(y_test.shape)"
      ],
      "execution_count": 89,
      "outputs": [
        {
          "output_type": "stream",
          "text": [
            "(2400, 23)\n",
            "(600, 23)\n",
            "(2400,)\n",
            "(600,)\n"
          ],
          "name": "stdout"
        }
      ]
    },
    {
      "cell_type": "code",
      "metadata": {
        "id": "2cRWKd26-9d-",
        "colab_type": "code",
        "colab": {}
      },
      "source": [
        "X_scaled = preprocessing.scale(X_train)\n",
        "scaler = preprocessing.StandardScaler().fit(X_train)\n",
        "X_traindtm=scaler.transform(X_train) \n",
        "X_testdtm=scaler.transform(X_test)"
      ],
      "execution_count": 0,
      "outputs": []
    },
    {
      "cell_type": "code",
      "metadata": {
        "id": "qES1qVz8-rfI",
        "colab_type": "code",
        "colab": {}
      },
      "source": [
        "logmodel=LinearRegression()\n",
        "logmodel.fit(X_traindtm, y_train)\n",
        "y_pred_log=logmodel.predict(X_testdtm)"
      ],
      "execution_count": 0,
      "outputs": []
    },
    {
      "cell_type": "code",
      "metadata": {
        "id": "xmCJ2DnyCcju",
        "colab_type": "code",
        "colab": {
          "base_uri": "https://localhost:8080/",
          "height": 52
        },
        "outputId": "c17aff97-0a05-4fc2-ebf6-0d26a7b345eb"
      },
      "source": [
        "print(\"Mean absolute error score for logistic regression :\")\n",
        "print(mean_absolute_error(y_test,y_pred_log))"
      ],
      "execution_count": 92,
      "outputs": [
        {
          "output_type": "stream",
          "text": [
            "Mean absolute error score for logistic regression :\n",
            "0.02577292545675841\n"
          ],
          "name": "stdout"
        }
      ]
    },
    {
      "cell_type": "code",
      "metadata": {
        "id": "uzp8T0zPAmBu",
        "colab_type": "code",
        "colab": {
          "base_uri": "https://localhost:8080/",
          "height": 86
        },
        "outputId": "dcd09ede-f21a-427a-a63e-a18d71fb8f99"
      },
      "source": [
        "#Predicting 7th property\n",
        "X_train, X_test, y_train, y_test = train_test_split(X, y_u0, test_size=0.2, random_state=101)\n",
        "print(X_train.shape)\n",
        "print(X_test.shape)\n",
        "print(y_train.shape)\n",
        "print(y_test.shape)"
      ],
      "execution_count": 93,
      "outputs": [
        {
          "output_type": "stream",
          "text": [
            "(2400, 23)\n",
            "(600, 23)\n",
            "(2400,)\n",
            "(600,)\n"
          ],
          "name": "stdout"
        }
      ]
    },
    {
      "cell_type": "code",
      "metadata": {
        "id": "SahhMocqAmWG",
        "colab_type": "code",
        "colab": {}
      },
      "source": [
        "X_scaled = preprocessing.scale(X_train)\n",
        "scaler = preprocessing.StandardScaler().fit(X_train)\n",
        "X_traindtm=scaler.transform(X_train) \n",
        "X_testdtm=scaler.transform(X_test)"
      ],
      "execution_count": 0,
      "outputs": []
    },
    {
      "cell_type": "code",
      "metadata": {
        "id": "cqSpJ5A5Ammt",
        "colab_type": "code",
        "colab": {}
      },
      "source": [
        "logmodel=LinearRegression()\n",
        "logmodel.fit(X_traindtm, y_train)\n",
        "y_pred_log=logmodel.predict(X_testdtm)"
      ],
      "execution_count": 0,
      "outputs": []
    },
    {
      "cell_type": "code",
      "metadata": {
        "id": "jFjsHpFkCePS",
        "colab_type": "code",
        "colab": {
          "base_uri": "https://localhost:8080/",
          "height": 52
        },
        "outputId": "e8e4cc9f-a968-450e-eea8-67f75bd352aa"
      },
      "source": [
        "print(\"Mean absolute error score for logistic regression :\")\n",
        "print(mean_absolute_error(y_test,y_pred_log))"
      ],
      "execution_count": 96,
      "outputs": [
        {
          "output_type": "stream",
          "text": [
            "Mean absolute error score for logistic regression :\n",
            "0.03177027863908889\n"
          ],
          "name": "stdout"
        }
      ]
    },
    {
      "cell_type": "code",
      "metadata": {
        "id": "s7MloC_DB9Xu",
        "colab_type": "code",
        "colab": {
          "base_uri": "https://localhost:8080/",
          "height": 86
        },
        "outputId": "0bc161e7-b458-43aa-eb29-d2cb5e42b369"
      },
      "source": [
        "#Predicting 8th property\n",
        "X_train, X_test, y_train, y_test = train_test_split(X, y_u, test_size=0.2, random_state=101)\n",
        "print(X_train.shape)\n",
        "print(X_test.shape)\n",
        "print(y_train.shape)\n",
        "print(y_test.shape)"
      ],
      "execution_count": 97,
      "outputs": [
        {
          "output_type": "stream",
          "text": [
            "(2400, 23)\n",
            "(600, 23)\n",
            "(2400,)\n",
            "(600,)\n"
          ],
          "name": "stdout"
        }
      ]
    },
    {
      "cell_type": "code",
      "metadata": {
        "id": "5QzrwcsSB9sm",
        "colab_type": "code",
        "colab": {}
      },
      "source": [
        "X_scaled = preprocessing.scale(X_train)\n",
        "scaler = preprocessing.StandardScaler().fit(X_train)\n",
        "X_traindtm=scaler.transform(X_train) \n",
        "X_testdtm=scaler.transform(X_test)"
      ],
      "execution_count": 0,
      "outputs": []
    },
    {
      "cell_type": "code",
      "metadata": {
        "id": "qFbEukbWB-Ag",
        "colab_type": "code",
        "colab": {}
      },
      "source": [
        "logmodel=LinearRegression()\n",
        "logmodel.fit(X_traindtm, y_train)\n",
        "y_pred_log=logmodel.predict(X_testdtm)"
      ],
      "execution_count": 0,
      "outputs": []
    },
    {
      "cell_type": "code",
      "metadata": {
        "id": "E7T-e_SyCf6E",
        "colab_type": "code",
        "colab": {
          "base_uri": "https://localhost:8080/",
          "height": 52
        },
        "outputId": "04e5c3df-8bf8-49b5-c285-4308a2e49e26"
      },
      "source": [
        "print(\"Mean absolute error score for logistic regression :\")\n",
        "print(mean_absolute_error(y_test,y_pred_log))"
      ],
      "execution_count": 100,
      "outputs": [
        {
          "output_type": "stream",
          "text": [
            "Mean absolute error score for logistic regression :\n",
            "70.74007821282734\n"
          ],
          "name": "stdout"
        }
      ]
    },
    {
      "cell_type": "code",
      "metadata": {
        "id": "2mBUl3GnCHkx",
        "colab_type": "code",
        "colab": {
          "base_uri": "https://localhost:8080/",
          "height": 86
        },
        "outputId": "63d3df5f-64ee-476b-e646-e5899014e8a0"
      },
      "source": [
        "#Predicting 9th property\n",
        "X_train, X_test, y_train, y_test = train_test_split(X, y_h, test_size=0.2, random_state=101)\n",
        "print(X_train.shape)\n",
        "print(X_test.shape)\n",
        "print(y_train.shape)\n",
        "print(y_test.shape)"
      ],
      "execution_count": 101,
      "outputs": [
        {
          "output_type": "stream",
          "text": [
            "(2400, 23)\n",
            "(600, 23)\n",
            "(2400,)\n",
            "(600,)\n"
          ],
          "name": "stdout"
        }
      ]
    },
    {
      "cell_type": "code",
      "metadata": {
        "id": "eMAr0RfaCH6Z",
        "colab_type": "code",
        "colab": {}
      },
      "source": [
        "X_scaled = preprocessing.scale(X_train)\n",
        "scaler = preprocessing.StandardScaler().fit(X_train)\n",
        "X_traindtm=scaler.transform(X_train) \n",
        "X_testdtm=scaler.transform(X_test)"
      ],
      "execution_count": 0,
      "outputs": []
    },
    {
      "cell_type": "code",
      "metadata": {
        "id": "_zaj0zCCCIa8",
        "colab_type": "code",
        "colab": {}
      },
      "source": [
        "logmodel=LinearRegression()\n",
        "logmodel.fit(X_traindtm, y_train)\n",
        "y_pred_log=logmodel.predict(X_testdtm)"
      ],
      "execution_count": 0,
      "outputs": []
    },
    {
      "cell_type": "code",
      "metadata": {
        "id": "pu3h0m22ChgZ",
        "colab_type": "code",
        "colab": {
          "base_uri": "https://localhost:8080/",
          "height": 52
        },
        "outputId": "16bc4e66-579a-453c-c132-64fec002286b"
      },
      "source": [
        "print(\"Mean absolute error score for logistic regression :\")\n",
        "print(mean_absolute_error(y_test,y_pred_log))"
      ],
      "execution_count": 104,
      "outputs": [
        {
          "output_type": "stream",
          "text": [
            "Mean absolute error score for logistic regression :\n",
            "0.008560014871333364\n"
          ],
          "name": "stdout"
        }
      ]
    },
    {
      "cell_type": "code",
      "metadata": {
        "id": "D2SyP_gzCjhy",
        "colab_type": "code",
        "colab": {
          "base_uri": "https://localhost:8080/",
          "height": 86
        },
        "outputId": "9b4f3740-4127-476b-9af0-50af95f03102"
      },
      "source": [
        "#Predicting 9th property\n",
        "X_train, X_test, y_train, y_test = train_test_split(X, y_g, test_size=0.2, random_state=101)\n",
        "print(X_train.shape)\n",
        "print(X_test.shape)\n",
        "print(y_train.shape)\n",
        "print(y_test.shape)"
      ],
      "execution_count": 105,
      "outputs": [
        {
          "output_type": "stream",
          "text": [
            "(2400, 23)\n",
            "(600, 23)\n",
            "(2400,)\n",
            "(600,)\n"
          ],
          "name": "stdout"
        }
      ]
    },
    {
      "cell_type": "code",
      "metadata": {
        "id": "He7rGLAOCj40",
        "colab_type": "code",
        "colab": {}
      },
      "source": [
        "X_scaled = preprocessing.scale(X_train)\n",
        "scaler = preprocessing.StandardScaler().fit(X_train)\n",
        "X_traindtm=scaler.transform(X_train) \n",
        "X_testdtm=scaler.transform(X_test)"
      ],
      "execution_count": 0,
      "outputs": []
    },
    {
      "cell_type": "code",
      "metadata": {
        "id": "U4Gvlm0ZCkRQ",
        "colab_type": "code",
        "colab": {
          "base_uri": "https://localhost:8080/",
          "height": 52
        },
        "outputId": "f4f1ebdb-05f2-4257-cd5f-b5ca92165a6e"
      },
      "source": [
        "print(\"Mean absolute error score for logistic regression :\")\n",
        "print(mean_absolute_error(y_test,y_pred_log))"
      ],
      "execution_count": 107,
      "outputs": [
        {
          "output_type": "stream",
          "text": [
            "Mean absolute error score for logistic regression :\n",
            "315.9646356757058\n"
          ],
          "name": "stdout"
        }
      ]
    }
  ]
}