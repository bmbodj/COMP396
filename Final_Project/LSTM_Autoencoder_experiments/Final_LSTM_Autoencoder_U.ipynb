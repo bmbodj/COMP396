{
  "nbformat": 4,
  "nbformat_minor": 0,
  "metadata": {
    "colab": {
      "name": "Final-LSTM_Autoencoder_U.ipynb",
      "provenance": [],
      "collapsed_sections": []
    },
    "kernelspec": {
      "name": "python3",
      "display_name": "Python 3"
    },
    "accelerator": "GPU"
  },
  "cells": [
    {
      "cell_type": "code",
      "metadata": {
        "id": "UqEi1djJBmzy",
        "colab_type": "code",
        "colab": {}
      },
      "source": [
        "import re\n",
        "import sys\n",
        "\n",
        "import math\n",
        "import numpy as np\n",
        "from sklearn.metrics import mean_absolute_error\n",
        "import torch\n",
        "import torch.nn as nn\n",
        "import torch.nn.functional as F\n",
        "import torch.optim as optim\n",
        "from torch.utils.data import DataLoader, Dataset\n",
        "import matplotlib.pyplot as plt"
      ],
      "execution_count": 0,
      "outputs": []
    },
    {
      "cell_type": "code",
      "metadata": {
        "id": "R7AnuN8FwyCv",
        "colab_type": "code",
        "outputId": "5414aa97-75e5-41cf-96d2-6a20b42d3869",
        "colab": {
          "base_uri": "https://localhost:8080/",
          "height": 1000
        }
      },
      "source": [
        "#Installing dependencies for RDKit\n",
        "!wget -c https://repo.continuum.io/miniconda/Miniconda3-latest-Linux-x86_64.sh\n",
        "!chmod +x Miniconda3-latest-Linux-x86_64.sh\n",
        "!time bash ./Miniconda3-latest-Linux-x86_64.sh -b -f -p /usr/local\n",
        "!time conda install -q -y -c conda-forge rdkit"
      ],
      "execution_count": 2,
      "outputs": [
        {
          "output_type": "stream",
          "text": [
            "--2020-05-30 08:38:58--  https://repo.continuum.io/miniconda/Miniconda3-latest-Linux-x86_64.sh\n",
            "Resolving repo.continuum.io (repo.continuum.io)... 104.18.201.79, 104.18.200.79, 2606:4700::6812:c94f, ...\n",
            "Connecting to repo.continuum.io (repo.continuum.io)|104.18.201.79|:443... connected.\n",
            "HTTP request sent, awaiting response... 301 Moved Permanently\n",
            "Location: https://repo.anaconda.com/miniconda/Miniconda3-latest-Linux-x86_64.sh [following]\n",
            "--2020-05-30 08:38:58--  https://repo.anaconda.com/miniconda/Miniconda3-latest-Linux-x86_64.sh\n",
            "Resolving repo.anaconda.com (repo.anaconda.com)... 104.16.130.3, 104.16.131.3, 2606:4700::6810:8303, ...\n",
            "Connecting to repo.anaconda.com (repo.anaconda.com)|104.16.130.3|:443... connected.\n",
            "HTTP request sent, awaiting response... 200 OK\n",
            "Length: 85055499 (81M) [application/x-sh]\n",
            "Saving to: ‘Miniconda3-latest-Linux-x86_64.sh’\n",
            "\n",
            "Miniconda3-latest-L 100%[===================>]  81.12M   224MB/s    in 0.4s    \n",
            "\n",
            "2020-05-30 08:38:58 (224 MB/s) - ‘Miniconda3-latest-Linux-x86_64.sh’ saved [85055499/85055499]\n",
            "\n",
            "PREFIX=/usr/local\n",
            "Unpacking payload ...\n",
            "Collecting package metadata (current_repodata.json): - \b\b\\ \b\b| \b\bdone\n",
            "Solving environment: - \b\b\\ \b\bdone\n",
            "\n",
            "## Package Plan ##\n",
            "\n",
            "  environment location: /usr/local\n",
            "\n",
            "  added / updated specs:\n",
            "    - _libgcc_mutex==0.1=main\n",
            "    - asn1crypto==1.3.0=py37_0\n",
            "    - ca-certificates==2020.1.1=0\n",
            "    - certifi==2019.11.28=py37_0\n",
            "    - cffi==1.14.0=py37h2e261b9_0\n",
            "    - chardet==3.0.4=py37_1003\n",
            "    - conda-package-handling==1.6.0=py37h7b6447c_0\n",
            "    - conda==4.8.2=py37_0\n",
            "    - cryptography==2.8=py37h1ba5d50_0\n",
            "    - idna==2.8=py37_0\n",
            "    - ld_impl_linux-64==2.33.1=h53a641e_7\n",
            "    - libedit==3.1.20181209=hc058e9b_0\n",
            "    - libffi==3.2.1=hd88cf55_4\n",
            "    - libgcc-ng==9.1.0=hdf63c60_0\n",
            "    - libstdcxx-ng==9.1.0=hdf63c60_0\n",
            "    - ncurses==6.2=he6710b0_0\n",
            "    - openssl==1.1.1d=h7b6447c_4\n",
            "    - pip==20.0.2=py37_1\n",
            "    - pycosat==0.6.3=py37h7b6447c_0\n",
            "    - pycparser==2.19=py37_0\n",
            "    - pyopenssl==19.1.0=py37_0\n",
            "    - pysocks==1.7.1=py37_0\n",
            "    - python==3.7.6=h0371630_2\n",
            "    - readline==7.0=h7b6447c_5\n",
            "    - requests==2.22.0=py37_1\n",
            "    - ruamel_yaml==0.15.87=py37h7b6447c_0\n",
            "    - setuptools==45.2.0=py37_0\n",
            "    - six==1.14.0=py37_0\n",
            "    - sqlite==3.31.1=h7b6447c_0\n",
            "    - tk==8.6.8=hbc83047_0\n",
            "    - tqdm==4.42.1=py_0\n",
            "    - urllib3==1.25.8=py37_0\n",
            "    - wheel==0.34.2=py37_0\n",
            "    - xz==5.2.4=h14c3975_4\n",
            "    - yaml==0.1.7=had09818_2\n",
            "    - zlib==1.2.11=h7b6447c_3\n",
            "\n",
            "\n",
            "The following NEW packages will be INSTALLED:\n",
            "\n",
            "  _libgcc_mutex      pkgs/main/linux-64::_libgcc_mutex-0.1-main\n",
            "  asn1crypto         pkgs/main/linux-64::asn1crypto-1.3.0-py37_0\n",
            "  ca-certificates    pkgs/main/linux-64::ca-certificates-2020.1.1-0\n",
            "  certifi            pkgs/main/linux-64::certifi-2019.11.28-py37_0\n",
            "  cffi               pkgs/main/linux-64::cffi-1.14.0-py37h2e261b9_0\n",
            "  chardet            pkgs/main/linux-64::chardet-3.0.4-py37_1003\n",
            "  conda              pkgs/main/linux-64::conda-4.8.2-py37_0\n",
            "  conda-package-han~ pkgs/main/linux-64::conda-package-handling-1.6.0-py37h7b6447c_0\n",
            "  cryptography       pkgs/main/linux-64::cryptography-2.8-py37h1ba5d50_0\n",
            "  idna               pkgs/main/linux-64::idna-2.8-py37_0\n",
            "  ld_impl_linux-64   pkgs/main/linux-64::ld_impl_linux-64-2.33.1-h53a641e_7\n",
            "  libedit            pkgs/main/linux-64::libedit-3.1.20181209-hc058e9b_0\n",
            "  libffi             pkgs/main/linux-64::libffi-3.2.1-hd88cf55_4\n",
            "  libgcc-ng          pkgs/main/linux-64::libgcc-ng-9.1.0-hdf63c60_0\n",
            "  libstdcxx-ng       pkgs/main/linux-64::libstdcxx-ng-9.1.0-hdf63c60_0\n",
            "  ncurses            pkgs/main/linux-64::ncurses-6.2-he6710b0_0\n",
            "  openssl            pkgs/main/linux-64::openssl-1.1.1d-h7b6447c_4\n",
            "  pip                pkgs/main/linux-64::pip-20.0.2-py37_1\n",
            "  pycosat            pkgs/main/linux-64::pycosat-0.6.3-py37h7b6447c_0\n",
            "  pycparser          pkgs/main/linux-64::pycparser-2.19-py37_0\n",
            "  pyopenssl          pkgs/main/linux-64::pyopenssl-19.1.0-py37_0\n",
            "  pysocks            pkgs/main/linux-64::pysocks-1.7.1-py37_0\n",
            "  python             pkgs/main/linux-64::python-3.7.6-h0371630_2\n",
            "  readline           pkgs/main/linux-64::readline-7.0-h7b6447c_5\n",
            "  requests           pkgs/main/linux-64::requests-2.22.0-py37_1\n",
            "  ruamel_yaml        pkgs/main/linux-64::ruamel_yaml-0.15.87-py37h7b6447c_0\n",
            "  setuptools         pkgs/main/linux-64::setuptools-45.2.0-py37_0\n",
            "  six                pkgs/main/linux-64::six-1.14.0-py37_0\n",
            "  sqlite             pkgs/main/linux-64::sqlite-3.31.1-h7b6447c_0\n",
            "  tk                 pkgs/main/linux-64::tk-8.6.8-hbc83047_0\n",
            "  tqdm               pkgs/main/noarch::tqdm-4.42.1-py_0\n",
            "  urllib3            pkgs/main/linux-64::urllib3-1.25.8-py37_0\n",
            "  wheel              pkgs/main/linux-64::wheel-0.34.2-py37_0\n",
            "  xz                 pkgs/main/linux-64::xz-5.2.4-h14c3975_4\n",
            "  yaml               pkgs/main/linux-64::yaml-0.1.7-had09818_2\n",
            "  zlib               pkgs/main/linux-64::zlib-1.2.11-h7b6447c_3\n",
            "\n",
            "\n",
            "Preparing transaction: / \b\b- \b\b\\ \b\b| \b\bdone\n",
            "Executing transaction: - \b\b\\ \b\b| \b\b/ \b\b- \b\b\\ \b\b| \b\b/ \b\b- \b\b\\ \b\b| \b\b/ \b\b- \b\b\\ \b\b| \b\b/ \b\b- \b\bdone\n",
            "installation finished.\n",
            "WARNING:\n",
            "    You currently have a PYTHONPATH environment variable set. This may cause\n",
            "    unexpected behavior when running the Python interpreter in Miniconda3.\n",
            "    For best results, please verify that your PYTHONPATH only points to\n",
            "    directories of packages that are compatible with the Python interpreter\n",
            "    in Miniconda3: /usr/local\n",
            "\n",
            "real\t0m24.358s\n",
            "user\t0m8.338s\n",
            "sys\t0m4.678s\n",
            "Collecting package metadata (current_repodata.json): ...working... done\n",
            "Solving environment: ...working... done\n",
            "\n",
            "## Package Plan ##\n",
            "\n",
            "  environment location: /usr/local\n",
            "\n",
            "  added / updated specs:\n",
            "    - rdkit\n",
            "\n",
            "\n",
            "The following packages will be downloaded:\n",
            "\n",
            "    package                    |            build\n",
            "    ---------------------------|-----------------\n",
            "    boost-1.72.0               |   py37h9de70de_0         316 KB  conda-forge\n",
            "    boost-cpp-1.72.0           |       h8e57a91_0        21.8 MB  conda-forge\n",
            "    bzip2-1.0.8                |       h516909a_2         396 KB  conda-forge\n",
            "    ca-certificates-2020.4.5.1 |       hecc5488_0         146 KB  conda-forge\n",
            "    cairo-1.16.0               |    hcf35c78_1003         1.5 MB  conda-forge\n",
            "    certifi-2020.4.5.1         |   py37hc8dfbb8_0         151 KB  conda-forge\n",
            "    conda-4.8.3                |   py37hc8dfbb8_1         3.0 MB  conda-forge\n",
            "    fontconfig-2.13.1          |    h86ecdb6_1001         340 KB  conda-forge\n",
            "    freetype-2.10.2            |       he06d7ca_0         905 KB  conda-forge\n",
            "    gettext-0.19.8.1           |    hc5be6a0_1002         3.6 MB  conda-forge\n",
            "    glib-2.64.3                |       h6f030ca_0         3.4 MB  conda-forge\n",
            "    icu-64.2                   |       he1b5a44_1        12.6 MB  conda-forge\n",
            "    jpeg-9c                    |    h14c3975_1001         251 KB  conda-forge\n",
            "    libblas-3.8.0              |      14_openblas          10 KB  conda-forge\n",
            "    libcblas-3.8.0             |      14_openblas          10 KB  conda-forge\n",
            "    libgfortran-ng-7.5.0       |       hdf63c60_6         1.7 MB  conda-forge\n",
            "    libiconv-1.15              |    h516909a_1006         2.0 MB  conda-forge\n",
            "    liblapack-3.8.0            |      14_openblas          10 KB  conda-forge\n",
            "    libopenblas-0.3.7          |       h5ec1e0e_6         7.6 MB  conda-forge\n",
            "    libpng-1.6.37              |       hed695b0_1         308 KB  conda-forge\n",
            "    libtiff-4.1.0              |       hc7e4089_6         668 KB  conda-forge\n",
            "    libuuid-2.32.1             |    h14c3975_1000          26 KB  conda-forge\n",
            "    libwebp-base-1.1.0         |       h516909a_3         845 KB  conda-forge\n",
            "    libxcb-1.13                |    h14c3975_1002         396 KB  conda-forge\n",
            "    libxml2-2.9.10             |       hee79883_0         1.3 MB  conda-forge\n",
            "    lz4-c-1.8.3                |    he1b5a44_1001         187 KB  conda-forge\n",
            "    numpy-1.18.4               |   py37h8960a57_0         5.2 MB  conda-forge\n",
            "    olefile-0.46               |             py_0          31 KB  conda-forge\n",
            "    openssl-1.1.1g             |       h516909a_0         2.1 MB  conda-forge\n",
            "    pandas-1.0.4               |   py37h0da4684_0        10.1 MB  conda-forge\n",
            "    pcre-8.44                  |       he1b5a44_0         261 KB  conda-forge\n",
            "    pillow-7.1.2               |   py37hb39fc2d_0         603 KB\n",
            "    pixman-0.38.0              |    h516909a_1003         594 KB  conda-forge\n",
            "    pthread-stubs-0.4          |    h14c3975_1001           5 KB  conda-forge\n",
            "    pycairo-1.19.1             |   py37h01af8b0_3          77 KB  conda-forge\n",
            "    python-dateutil-2.8.1      |             py_0         220 KB  conda-forge\n",
            "    python_abi-3.7             |          1_cp37m           4 KB  conda-forge\n",
            "    pytz-2020.1                |     pyh9f0ad1d_0         227 KB  conda-forge\n",
            "    rdkit-2020.03.2            |   py37hdd87690_0        24.7 MB  conda-forge\n",
            "    xorg-kbproto-1.0.7         |    h14c3975_1002          26 KB  conda-forge\n",
            "    xorg-libice-1.0.10         |       h516909a_0          57 KB  conda-forge\n",
            "    xorg-libsm-1.2.3           |    h84519dc_1000          25 KB  conda-forge\n",
            "    xorg-libx11-1.6.9          |       h516909a_0         918 KB  conda-forge\n",
            "    xorg-libxau-1.0.9          |       h14c3975_0          13 KB  conda-forge\n",
            "    xorg-libxdmcp-1.1.3        |       h516909a_0          18 KB  conda-forge\n",
            "    xorg-libxext-1.3.4         |       h516909a_0          51 KB  conda-forge\n",
            "    xorg-libxrender-0.9.10     |    h516909a_1002          31 KB  conda-forge\n",
            "    xorg-renderproto-0.11.1    |    h14c3975_1002           8 KB  conda-forge\n",
            "    xorg-xextproto-7.3.0       |    h14c3975_1002          27 KB  conda-forge\n",
            "    xorg-xproto-7.0.31         |    h14c3975_1007          72 KB  conda-forge\n",
            "    zstd-1.4.4                 |       h3b9ef0a_2         982 KB  conda-forge\n",
            "    ------------------------------------------------------------\n",
            "                                           Total:       109.8 MB\n",
            "\n",
            "The following NEW packages will be INSTALLED:\n",
            "\n",
            "  boost              conda-forge/linux-64::boost-1.72.0-py37h9de70de_0\n",
            "  boost-cpp          conda-forge/linux-64::boost-cpp-1.72.0-h8e57a91_0\n",
            "  bzip2              conda-forge/linux-64::bzip2-1.0.8-h516909a_2\n",
            "  cairo              conda-forge/linux-64::cairo-1.16.0-hcf35c78_1003\n",
            "  fontconfig         conda-forge/linux-64::fontconfig-2.13.1-h86ecdb6_1001\n",
            "  freetype           conda-forge/linux-64::freetype-2.10.2-he06d7ca_0\n",
            "  gettext            conda-forge/linux-64::gettext-0.19.8.1-hc5be6a0_1002\n",
            "  glib               conda-forge/linux-64::glib-2.64.3-h6f030ca_0\n",
            "  icu                conda-forge/linux-64::icu-64.2-he1b5a44_1\n",
            "  jpeg               conda-forge/linux-64::jpeg-9c-h14c3975_1001\n",
            "  libblas            conda-forge/linux-64::libblas-3.8.0-14_openblas\n",
            "  libcblas           conda-forge/linux-64::libcblas-3.8.0-14_openblas\n",
            "  libgfortran-ng     conda-forge/linux-64::libgfortran-ng-7.5.0-hdf63c60_6\n",
            "  libiconv           conda-forge/linux-64::libiconv-1.15-h516909a_1006\n",
            "  liblapack          conda-forge/linux-64::liblapack-3.8.0-14_openblas\n",
            "  libopenblas        conda-forge/linux-64::libopenblas-0.3.7-h5ec1e0e_6\n",
            "  libpng             conda-forge/linux-64::libpng-1.6.37-hed695b0_1\n",
            "  libtiff            conda-forge/linux-64::libtiff-4.1.0-hc7e4089_6\n",
            "  libuuid            conda-forge/linux-64::libuuid-2.32.1-h14c3975_1000\n",
            "  libwebp-base       conda-forge/linux-64::libwebp-base-1.1.0-h516909a_3\n",
            "  libxcb             conda-forge/linux-64::libxcb-1.13-h14c3975_1002\n",
            "  libxml2            conda-forge/linux-64::libxml2-2.9.10-hee79883_0\n",
            "  lz4-c              conda-forge/linux-64::lz4-c-1.8.3-he1b5a44_1001\n",
            "  numpy              conda-forge/linux-64::numpy-1.18.4-py37h8960a57_0\n",
            "  olefile            conda-forge/noarch::olefile-0.46-py_0\n",
            "  pandas             conda-forge/linux-64::pandas-1.0.4-py37h0da4684_0\n",
            "  pcre               conda-forge/linux-64::pcre-8.44-he1b5a44_0\n",
            "  pillow             pkgs/main/linux-64::pillow-7.1.2-py37hb39fc2d_0\n",
            "  pixman             conda-forge/linux-64::pixman-0.38.0-h516909a_1003\n",
            "  pthread-stubs      conda-forge/linux-64::pthread-stubs-0.4-h14c3975_1001\n",
            "  pycairo            conda-forge/linux-64::pycairo-1.19.1-py37h01af8b0_3\n",
            "  python-dateutil    conda-forge/noarch::python-dateutil-2.8.1-py_0\n",
            "  python_abi         conda-forge/linux-64::python_abi-3.7-1_cp37m\n",
            "  pytz               conda-forge/noarch::pytz-2020.1-pyh9f0ad1d_0\n",
            "  rdkit              conda-forge/linux-64::rdkit-2020.03.2-py37hdd87690_0\n",
            "  xorg-kbproto       conda-forge/linux-64::xorg-kbproto-1.0.7-h14c3975_1002\n",
            "  xorg-libice        conda-forge/linux-64::xorg-libice-1.0.10-h516909a_0\n",
            "  xorg-libsm         conda-forge/linux-64::xorg-libsm-1.2.3-h84519dc_1000\n",
            "  xorg-libx11        conda-forge/linux-64::xorg-libx11-1.6.9-h516909a_0\n",
            "  xorg-libxau        conda-forge/linux-64::xorg-libxau-1.0.9-h14c3975_0\n",
            "  xorg-libxdmcp      conda-forge/linux-64::xorg-libxdmcp-1.1.3-h516909a_0\n",
            "  xorg-libxext       conda-forge/linux-64::xorg-libxext-1.3.4-h516909a_0\n",
            "  xorg-libxrender    conda-forge/linux-64::xorg-libxrender-0.9.10-h516909a_1002\n",
            "  xorg-renderproto   conda-forge/linux-64::xorg-renderproto-0.11.1-h14c3975_1002\n",
            "  xorg-xextproto     conda-forge/linux-64::xorg-xextproto-7.3.0-h14c3975_1002\n",
            "  xorg-xproto        conda-forge/linux-64::xorg-xproto-7.0.31-h14c3975_1007\n",
            "  zstd               conda-forge/linux-64::zstd-1.4.4-h3b9ef0a_2\n",
            "\n",
            "The following packages will be UPDATED:\n",
            "\n",
            "  ca-certificates     pkgs/main::ca-certificates-2020.1.1-0 --> conda-forge::ca-certificates-2020.4.5.1-hecc5488_0\n",
            "  certifi              pkgs/main::certifi-2019.11.28-py37_0 --> conda-forge::certifi-2020.4.5.1-py37hc8dfbb8_0\n",
            "  conda                       pkgs/main::conda-4.8.2-py37_0 --> conda-forge::conda-4.8.3-py37hc8dfbb8_1\n",
            "  openssl              pkgs/main::openssl-1.1.1d-h7b6447c_4 --> conda-forge::openssl-1.1.1g-h516909a_0\n",
            "\n",
            "\n",
            "Preparing transaction: ...working... done\n",
            "Verifying transaction: ...working... done\n",
            "Executing transaction: ...working... done\n",
            "\n",
            "real\t0m46.674s\n",
            "user\t0m39.180s\n",
            "sys\t0m4.991s\n"
          ],
          "name": "stdout"
        }
      ]
    },
    {
      "cell_type": "code",
      "metadata": {
        "id": "pL2bcD47wN8P",
        "colab_type": "code",
        "colab": {}
      },
      "source": [
        "import sys\n",
        "sys.path.append('/usr/local/lib/python3.7/site-packages/')"
      ],
      "execution_count": 0,
      "outputs": []
    },
    {
      "cell_type": "code",
      "metadata": {
        "id": "xqt4hH9UwWe6",
        "colab_type": "code",
        "outputId": "026114ed-a8e1-49de-cd1c-5c8833c6dc1f",
        "colab": {
          "base_uri": "https://localhost:8080/",
          "height": 122
        }
      },
      "source": [
        "from google.colab import drive\n",
        "\n",
        "# This will prompt for authorization.\n",
        "drive.mount('/content/drive/')"
      ],
      "execution_count": 4,
      "outputs": [
        {
          "output_type": "stream",
          "text": [
            "Go to this URL in a browser: https://accounts.google.com/o/oauth2/auth?client_id=947318989803-6bn6qk8qdgf4n4g3pfee6491hc0brc4i.apps.googleusercontent.com&redirect_uri=urn%3aietf%3awg%3aoauth%3a2.0%3aoob&response_type=code&scope=email%20https%3a%2f%2fwww.googleapis.com%2fauth%2fdocs.test%20https%3a%2f%2fwww.googleapis.com%2fauth%2fdrive%20https%3a%2f%2fwww.googleapis.com%2fauth%2fdrive.photos.readonly%20https%3a%2f%2fwww.googleapis.com%2fauth%2fpeopleapi.readonly\n",
            "\n",
            "Enter your authorization code:\n",
            "··········\n",
            "Mounted at /content/drive/\n"
          ],
          "name": "stdout"
        }
      ]
    },
    {
      "cell_type": "code",
      "metadata": {
        "id": "K9Vd1RE1w1L1",
        "colab_type": "code",
        "colab": {}
      },
      "source": [
        "root = \"/content/drive/My Drive/\""
      ],
      "execution_count": 0,
      "outputs": []
    },
    {
      "cell_type": "code",
      "metadata": {
        "id": "71JokDfXw5cY",
        "colab_type": "code",
        "colab": {}
      },
      "source": [
        "import csv\n",
        "def get_data(split):\n",
        "    data_path =root +\"QM9_Smiles_.csv\"\n",
        "    with open(data_path) as f:\n",
        "        data = csv.reader(f)\n",
        "    \n",
        "        # Skip header\n",
        "        next(data)\n",
        "        \n",
        "        # Get smiles and targets\n",
        "        smiles, Y = [], []\n",
        "        count=0\n",
        "        for row in data:\n",
        "            if (count<16000):\n",
        "              smiles.append(row[0])\n",
        "              Y.append(row[1:13])\n",
        "              count=count+1\n",
        "    \n",
        "    return smiles, Y\n",
        "\n",
        "AllSmiles, All = get_data('train')\n"
      ],
      "execution_count": 0,
      "outputs": []
    },
    {
      "cell_type": "code",
      "metadata": {
        "id": "HfepWCAyy1Co",
        "colab_type": "code",
        "colab": {}
      },
      "source": [
        "import pandas as pd\n",
        "import numpy as np"
      ],
      "execution_count": 0,
      "outputs": []
    },
    {
      "cell_type": "code",
      "metadata": {
        "id": "BUr-FZw7zKa-",
        "colab_type": "code",
        "outputId": "44a7d2b4-2a3a-4775-8bc0-d2177946ad1d",
        "colab": {
          "base_uri": "https://localhost:8080/",
          "height": 204
        }
      },
      "source": [
        "dtype = [('Col1','int32'), ('Col2','float32'), ('Col3','float32'),('Col4','int32'), ('Col5','float32'), ('Col6','float32'),('Col7','int32'), ('Col8','float32'), ('Col9','float32'),('Col10','int32'), ('Col11','float32'), ('Col12','float32'),('Col13','float32'), ('Col14','float32'),('Col15','float32'), ('Col16','float32'),('Col17','float32')]\n",
        "values = All\n",
        "index = ['Row'+str(i) for i in range(1, len(values)+1)]\n",
        "\n",
        "df = pd.DataFrame(values, index=index).astype(float)\n",
        "\n",
        "df.head()"
      ],
      "execution_count": 8,
      "outputs": [
        {
          "output_type": "execute_result",
          "data": {
            "text/html": [
              "<div>\n",
              "<style scoped>\n",
              "    .dataframe tbody tr th:only-of-type {\n",
              "        vertical-align: middle;\n",
              "    }\n",
              "\n",
              "    .dataframe tbody tr th {\n",
              "        vertical-align: top;\n",
              "    }\n",
              "\n",
              "    .dataframe thead th {\n",
              "        text-align: right;\n",
              "    }\n",
              "</style>\n",
              "<table border=\"1\" class=\"dataframe\">\n",
              "  <thead>\n",
              "    <tr style=\"text-align: right;\">\n",
              "      <th></th>\n",
              "      <th>0</th>\n",
              "      <th>1</th>\n",
              "      <th>2</th>\n",
              "      <th>3</th>\n",
              "      <th>4</th>\n",
              "      <th>5</th>\n",
              "      <th>6</th>\n",
              "      <th>7</th>\n",
              "      <th>8</th>\n",
              "      <th>9</th>\n",
              "      <th>10</th>\n",
              "      <th>11</th>\n",
              "    </tr>\n",
              "  </thead>\n",
              "  <tbody>\n",
              "    <tr>\n",
              "      <th>Row1</th>\n",
              "      <td>5.0509</td>\n",
              "      <td>78.30</td>\n",
              "      <td>-0.2676</td>\n",
              "      <td>0.0141</td>\n",
              "      <td>0.2818</td>\n",
              "      <td>1120.8417</td>\n",
              "      <td>0.137571</td>\n",
              "      <td>-380.797809</td>\n",
              "      <td>-380.790510</td>\n",
              "      <td>-380.789566</td>\n",
              "      <td>-380.829714</td>\n",
              "      <td>28.666</td>\n",
              "    </tr>\n",
              "    <tr>\n",
              "      <th>Row2</th>\n",
              "      <td>2.5256</td>\n",
              "      <td>55.40</td>\n",
              "      <td>-0.2868</td>\n",
              "      <td>-0.0597</td>\n",
              "      <td>0.2271</td>\n",
              "      <td>1180.5099</td>\n",
              "      <td>0.064339</td>\n",
              "      <td>-525.783370</td>\n",
              "      <td>-525.775913</td>\n",
              "      <td>-525.774969</td>\n",
              "      <td>-525.816245</td>\n",
              "      <td>25.955</td>\n",
              "    </tr>\n",
              "    <tr>\n",
              "      <th>Row3</th>\n",
              "      <td>1.5279</td>\n",
              "      <td>83.85</td>\n",
              "      <td>-0.2229</td>\n",
              "      <td>0.0807</td>\n",
              "      <td>0.3036</td>\n",
              "      <td>1029.1179</td>\n",
              "      <td>0.196525</td>\n",
              "      <td>-367.186557</td>\n",
              "      <td>-367.178749</td>\n",
              "      <td>-367.177805</td>\n",
              "      <td>-367.218256</td>\n",
              "      <td>32.345</td>\n",
              "    </tr>\n",
              "    <tr>\n",
              "      <th>Row4</th>\n",
              "      <td>2.1100</td>\n",
              "      <td>72.11</td>\n",
              "      <td>-0.2575</td>\n",
              "      <td>-0.0123</td>\n",
              "      <td>0.2451</td>\n",
              "      <td>1230.8475</td>\n",
              "      <td>0.136089</td>\n",
              "      <td>-455.191771</td>\n",
              "      <td>-455.182799</td>\n",
              "      <td>-455.181854</td>\n",
              "      <td>-455.226039</td>\n",
              "      <td>32.000</td>\n",
              "    </tr>\n",
              "    <tr>\n",
              "      <th>Row5</th>\n",
              "      <td>2.7860</td>\n",
              "      <td>75.68</td>\n",
              "      <td>-0.2791</td>\n",
              "      <td>0.0257</td>\n",
              "      <td>0.3048</td>\n",
              "      <td>1496.1036</td>\n",
              "      <td>0.168867</td>\n",
              "      <td>-440.291337</td>\n",
              "      <td>-440.280566</td>\n",
              "      <td>-440.279622</td>\n",
              "      <td>-440.327569</td>\n",
              "      <td>37.969</td>\n",
              "    </tr>\n",
              "  </tbody>\n",
              "</table>\n",
              "</div>"
            ],
            "text/plain": [
              "          0      1       2       3   ...          8           9           10      11\n",
              "Row1  5.0509  78.30 -0.2676  0.0141  ... -380.790510 -380.789566 -380.829714  28.666\n",
              "Row2  2.5256  55.40 -0.2868 -0.0597  ... -525.775913 -525.774969 -525.816245  25.955\n",
              "Row3  1.5279  83.85 -0.2229  0.0807  ... -367.178749 -367.177805 -367.218256  32.345\n",
              "Row4  2.1100  72.11 -0.2575 -0.0123  ... -455.182799 -455.181854 -455.226039  32.000\n",
              "Row5  2.7860  75.68 -0.2791  0.0257  ... -440.280566 -440.279622 -440.327569  37.969\n",
              "\n",
              "[5 rows x 12 columns]"
            ]
          },
          "metadata": {
            "tags": []
          },
          "execution_count": 8
        }
      ]
    },
    {
      "cell_type": "code",
      "metadata": {
        "id": "4XhfilN567J5",
        "colab_type": "code",
        "outputId": "3e9e79e9-1027-4f35-8ab4-4878bc5b6f81",
        "colab": {
          "base_uri": "https://localhost:8080/",
          "height": 204
        }
      },
      "source": [
        "#Double check we have the right values \n",
        "s= pd.DataFrame(AllSmiles, index=index)\n",
        "\n",
        "s.head()"
      ],
      "execution_count": 9,
      "outputs": [
        {
          "output_type": "execute_result",
          "data": {
            "text/html": [
              "<div>\n",
              "<style scoped>\n",
              "    .dataframe tbody tr th:only-of-type {\n",
              "        vertical-align: middle;\n",
              "    }\n",
              "\n",
              "    .dataframe tbody tr th {\n",
              "        vertical-align: top;\n",
              "    }\n",
              "\n",
              "    .dataframe thead th {\n",
              "        text-align: right;\n",
              "    }\n",
              "</style>\n",
              "<table border=\"1\" class=\"dataframe\">\n",
              "  <thead>\n",
              "    <tr style=\"text-align: right;\">\n",
              "      <th></th>\n",
              "      <th>0</th>\n",
              "    </tr>\n",
              "  </thead>\n",
              "  <tbody>\n",
              "    <tr>\n",
              "      <th>Row1</th>\n",
              "      <td>N#CC1NC11C2CC1C2</td>\n",
              "    </tr>\n",
              "    <tr>\n",
              "      <th>Row2</th>\n",
              "      <td>OC1=NON=C1OC=O</td>\n",
              "    </tr>\n",
              "    <tr>\n",
              "      <th>Row3</th>\n",
              "      <td>CC12CCC1CN1CC21</td>\n",
              "    </tr>\n",
              "    <tr>\n",
              "      <th>Row4</th>\n",
              "      <td>CN=C1OC(=O)CC1N</td>\n",
              "    </tr>\n",
              "    <tr>\n",
              "      <th>Row5</th>\n",
              "      <td>CC(CO)C(CO)C#N</td>\n",
              "    </tr>\n",
              "  </tbody>\n",
              "</table>\n",
              "</div>"
            ],
            "text/plain": [
              "                     0\n",
              "Row1  N#CC1NC11C2CC1C2\n",
              "Row2    OC1=NON=C1OC=O\n",
              "Row3   CC12CCC1CN1CC21\n",
              "Row4   CN=C1OC(=O)CC1N\n",
              "Row5    CC(CO)C(CO)C#N"
            ]
          },
          "metadata": {
            "tags": []
          },
          "execution_count": 9
        }
      ]
    },
    {
      "cell_type": "code",
      "metadata": {
        "id": "Jc7_doOnzKqh",
        "colab_type": "code",
        "outputId": "f575f3de-136a-43cf-878d-ec3000c49ff5",
        "colab": {
          "base_uri": "https://localhost:8080/",
          "height": 34
        }
      },
      "source": [
        "len(df)"
      ],
      "execution_count": 10,
      "outputs": [
        {
          "output_type": "execute_result",
          "data": {
            "text/plain": [
              "16000"
            ]
          },
          "metadata": {
            "tags": []
          },
          "execution_count": 10
        }
      ]
    },
    {
      "cell_type": "code",
      "metadata": {
        "id": "wsM4g122zRhT",
        "colab_type": "code",
        "colab": {}
      },
      "source": [
        "std=df[7].std()"
      ],
      "execution_count": 0,
      "outputs": []
    },
    {
      "cell_type": "code",
      "metadata": {
        "id": "iBYURIz-Wu_P",
        "colab_type": "code",
        "outputId": "f693c1d3-705b-46b2-f6a0-94092199b9a5",
        "colab": {
          "base_uri": "https://localhost:8080/",
          "height": 34
        }
      },
      "source": [
        "std"
      ],
      "execution_count": 12,
      "outputs": [
        {
          "output_type": "execute_result",
          "data": {
            "text/plain": [
              "40.180913619091854"
            ]
          },
          "metadata": {
            "tags": []
          },
          "execution_count": 12
        }
      ]
    },
    {
      "cell_type": "code",
      "metadata": {
        "id": "G8jogAG9zYPV",
        "colab_type": "code",
        "outputId": "db437f75-4943-4426-e45d-4d9744a3b373",
        "colab": {
          "base_uri": "https://localhost:8080/",
          "height": 204
        }
      },
      "source": [
        "# Normalize target values to have a mean of 0 and std of 1\n",
        "from sklearn.preprocessing import StandardScaler\n",
        "scaler = StandardScaler() \n",
        "data_scaled=scaler.fit_transform(df)\n",
        "df = pd.DataFrame(data_scaled , index=index)\n",
        "df.head()"
      ],
      "execution_count": 13,
      "outputs": [
        {
          "output_type": "execute_result",
          "data": {
            "text/html": [
              "<div>\n",
              "<style scoped>\n",
              "    .dataframe tbody tr th:only-of-type {\n",
              "        vertical-align: middle;\n",
              "    }\n",
              "\n",
              "    .dataframe tbody tr th {\n",
              "        vertical-align: top;\n",
              "    }\n",
              "\n",
              "    .dataframe thead th {\n",
              "        text-align: right;\n",
              "    }\n",
              "</style>\n",
              "<table border=\"1\" class=\"dataframe\">\n",
              "  <thead>\n",
              "    <tr style=\"text-align: right;\">\n",
              "      <th></th>\n",
              "      <th>0</th>\n",
              "      <th>1</th>\n",
              "      <th>2</th>\n",
              "      <th>3</th>\n",
              "      <th>4</th>\n",
              "      <th>5</th>\n",
              "      <th>6</th>\n",
              "      <th>7</th>\n",
              "      <th>8</th>\n",
              "      <th>9</th>\n",
              "      <th>10</th>\n",
              "      <th>11</th>\n",
              "    </tr>\n",
              "  </thead>\n",
              "  <tbody>\n",
              "    <tr>\n",
              "      <th>Row1</th>\n",
              "      <td>1.515532</td>\n",
              "      <td>0.376722</td>\n",
              "      <td>-1.263346</td>\n",
              "      <td>0.065564</td>\n",
              "      <td>0.650691</td>\n",
              "      <td>-0.239353</td>\n",
              "      <td>-0.329338</td>\n",
              "      <td>0.758062</td>\n",
              "      <td>0.758037</td>\n",
              "      <td>0.758037</td>\n",
              "      <td>0.758089</td>\n",
              "      <td>-0.713853</td>\n",
              "    </tr>\n",
              "    <tr>\n",
              "      <th>Row2</th>\n",
              "      <td>-0.113146</td>\n",
              "      <td>-2.404221</td>\n",
              "      <td>-2.141010</td>\n",
              "      <td>-1.515652</td>\n",
              "      <td>-0.505019</td>\n",
              "      <td>-0.023702</td>\n",
              "      <td>-2.539103</td>\n",
              "      <td>-2.850370</td>\n",
              "      <td>-2.850411</td>\n",
              "      <td>-2.850411</td>\n",
              "      <td>-2.850322</td>\n",
              "      <td>-1.381283</td>\n",
              "    </tr>\n",
              "    <tr>\n",
              "      <th>Row3</th>\n",
              "      <td>-0.756606</td>\n",
              "      <td>1.050706</td>\n",
              "      <td>0.779965</td>\n",
              "      <td>1.492516</td>\n",
              "      <td>1.111284</td>\n",
              "      <td>-0.570858</td>\n",
              "      <td>1.449591</td>\n",
              "      <td>1.096821</td>\n",
              "      <td>1.096811</td>\n",
              "      <td>1.096811</td>\n",
              "      <td>1.096849</td>\n",
              "      <td>0.191892</td>\n",
              "    </tr>\n",
              "    <tr>\n",
              "      <th>Row4</th>\n",
              "      <td>-0.381184</td>\n",
              "      <td>-0.374982</td>\n",
              "      <td>-0.801658</td>\n",
              "      <td>-0.500074</td>\n",
              "      <td>-0.124713</td>\n",
              "      <td>0.158226</td>\n",
              "      <td>-0.374057</td>\n",
              "      <td>-1.093471</td>\n",
              "      <td>-1.093465</td>\n",
              "      <td>-1.093465</td>\n",
              "      <td>-1.093480</td>\n",
              "      <td>0.106955</td>\n",
              "    </tr>\n",
              "    <tr>\n",
              "      <th>Row5</th>\n",
              "      <td>0.054798</td>\n",
              "      <td>0.058553</td>\n",
              "      <td>-1.789030</td>\n",
              "      <td>0.314102</td>\n",
              "      <td>1.136638</td>\n",
              "      <td>1.116906</td>\n",
              "      <td>0.615015</td>\n",
              "      <td>-0.722626</td>\n",
              "      <td>-0.722573</td>\n",
              "      <td>-0.722573</td>\n",
              "      <td>-0.722688</td>\n",
              "      <td>1.576482</td>\n",
              "    </tr>\n",
              "  </tbody>\n",
              "</table>\n",
              "</div>"
            ],
            "text/plain": [
              "            0         1         2   ...        9         10        11\n",
              "Row1  1.515532  0.376722 -1.263346  ...  0.758037  0.758089 -0.713853\n",
              "Row2 -0.113146 -2.404221 -2.141010  ... -2.850411 -2.850322 -1.381283\n",
              "Row3 -0.756606  1.050706  0.779965  ...  1.096811  1.096849  0.191892\n",
              "Row4 -0.381184 -0.374982 -0.801658  ... -1.093465 -1.093480  0.106955\n",
              "Row5  0.054798  0.058553 -1.789030  ... -0.722573 -0.722688  1.576482\n",
              "\n",
              "[5 rows x 12 columns]"
            ]
          },
          "metadata": {
            "tags": []
          },
          "execution_count": 13
        }
      ]
    },
    {
      "cell_type": "code",
      "metadata": {
        "id": "OptqPoWBzZDD",
        "colab_type": "code",
        "colab": {}
      },
      "source": [
        "def get_data(smiles_array,target_array,start, end):\n",
        "   # Get smiles and targets\n",
        "    smiles, Y = [], []\n",
        "    for i in range(start,end):\n",
        "      smiles.append(smiles_array[i])\n",
        "      Y.append(target_array[i])\n",
        "    \n",
        "    return smiles, Y\n",
        "\n",
        "trainSmiles, trainY = get_data(AllSmiles, df[7],0,16000)\n",
        "allSmiles = trainSmiles "
      ],
      "execution_count": 0,
      "outputs": []
    },
    {
      "cell_type": "code",
      "metadata": {
        "id": "hLlyXZxpzcSx",
        "colab_type": "code",
        "outputId": "2b32957f-e2e6-4932-a78b-2e3fcdd729a5",
        "colab": {
          "base_uri": "https://localhost:8080/",
          "height": 34
        }
      },
      "source": [
        "allSmiles[0]"
      ],
      "execution_count": 15,
      "outputs": [
        {
          "output_type": "execute_result",
          "data": {
            "text/plain": [
              "'N#CC1NC11C2CC1C2'"
            ]
          },
          "metadata": {
            "tags": []
          },
          "execution_count": 15
        }
      ]
    },
    {
      "cell_type": "code",
      "metadata": {
        "id": "SDB_QD-bzekt",
        "colab_type": "code",
        "colab": {}
      },
      "source": [
        "class QM9Dataset(Dataset):\n",
        "    def __init__(self, X, Y):\n",
        "      self.X, self.Y = X, Y\n",
        "      assert len(X) == len(Y)\n",
        "\n",
        "    def __len__(self):\n",
        "       return len(self.X)\n",
        "\n",
        "    def __getitem__(self, i):\n",
        "      return np.array(self.X[i]), self.Y[i]"
      ],
      "execution_count": 0,
      "outputs": []
    },
    {
      "cell_type": "code",
      "metadata": {
        "id": "eDB0vpZFzhHC",
        "colab_type": "code",
        "colab": {}
      },
      "source": [
        "batch_size = 64\n",
        "lr = 1e-3\n",
        "weight_decay = 1e-4\n",
        "max_len = 25\n",
        "embedding_size = 1\n",
        "hidden_size = 64\n",
        "output_size = 1  \n",
        "dropout = 0.6\n",
        "use_cuda = True"
      ],
      "execution_count": 0,
      "outputs": []
    },
    {
      "cell_type": "code",
      "metadata": {
        "id": "oUauKXcOzjoV",
        "colab_type": "code",
        "colab": {}
      },
      "source": [
        "def param_count(model):\n",
        "    return sum(param.numel() for param in model.parameters() if param.requires_grad)\n",
        "  \n",
        "def mae(targets, preds):\n",
        "    return mean_absolute_error(targets, preds)"
      ],
      "execution_count": 0,
      "outputs": []
    },
    {
      "cell_type": "code",
      "metadata": {
        "id": "iMPnwgCZxBOX",
        "colab_type": "code",
        "outputId": "8ed4105e-0d0f-4427-9385-4e18cc3ed806",
        "colab": {
          "base_uri": "https://localhost:8080/",
          "height": 51
        }
      },
      "source": [
        "# Define vocab\n",
        "vocab = {char for smiles in AllSmiles for char in smiles}\n",
        "\n",
        "print(f'Vocab = {vocab}')\n",
        "\n",
        "# Create word to index mapping\n",
        "padding_idx = 0\n",
        "char_to_index = {char: index + 1 for index, char in enumerate(vocab)}\n",
        "vocab_size = len(char_to_index) + 1\n",
        "\n",
        "print(f'Vocab size = {vocab_size:,}')"
      ],
      "execution_count": 19,
      "outputs": [
        {
          "output_type": "stream",
          "text": [
            "Vocab = {')', '[', 'N', '2', '=', '#', '4', 'O', '3', ']', '5', 'F', '(', '1', 'C', 'H', '-', '+'}\n",
            "Vocab size = 19\n"
          ],
          "name": "stdout"
        }
      ]
    },
    {
      "cell_type": "code",
      "metadata": {
        "id": "i3VwEbzLxBxY",
        "colab_type": "code",
        "outputId": "53a91e02-19c4-42eb-b938-915955de0b1e",
        "colab": {
          "base_uri": "https://localhost:8080/",
          "height": 323
        }
      },
      "source": [
        "char_to_index "
      ],
      "execution_count": 20,
      "outputs": [
        {
          "output_type": "execute_result",
          "data": {
            "text/plain": [
              "{'#': 6,\n",
              " '(': 13,\n",
              " ')': 1,\n",
              " '+': 18,\n",
              " '-': 17,\n",
              " '1': 14,\n",
              " '2': 4,\n",
              " '3': 9,\n",
              " '4': 7,\n",
              " '5': 11,\n",
              " '=': 5,\n",
              " 'C': 15,\n",
              " 'F': 12,\n",
              " 'H': 16,\n",
              " 'N': 3,\n",
              " 'O': 8,\n",
              " '[': 2,\n",
              " ']': 10}"
            ]
          },
          "metadata": {
            "tags": []
          },
          "execution_count": 20
        }
      ]
    },
    {
      "cell_type": "code",
      "metadata": {
        "id": "umRvnucoxJeT",
        "colab_type": "code",
        "outputId": "0456bc7e-b8fc-450e-9677-02774d8545f0",
        "colab": {
          "base_uri": "https://localhost:8080/",
          "height": 51
        }
      },
      "source": [
        "biggest_mol_size = max([len(smiles) for smiles in allSmiles])\n",
        "print(\"Total number of smiles= \", len(AllSmiles))\n",
        "print(\"size of largest molecule = \", biggest_mol_size)"
      ],
      "execution_count": 21,
      "outputs": [
        {
          "output_type": "stream",
          "text": [
            "Total number of smiles=  16000\n",
            "size of largest molecule =  27\n"
          ],
          "name": "stdout"
        }
      ]
    },
    {
      "cell_type": "code",
      "metadata": {
        "id": "ZVfCw7TKxOtf",
        "colab_type": "code",
        "outputId": "84e85126-9c32-42fd-deb8-0455888ac18a",
        "colab": {
          "base_uri": "https://localhost:8080/",
          "height": 119
        }
      },
      "source": [
        "trainX = [[char_to_index[char] for char in smiles] for smiles in trainSmiles]\n",
        "print(f'Smiles string = {trainSmiles[0]}')\n",
        "print(f'Indices of first train SMILES = {trainX[0]}')\n",
        "print(f'Last five indices = {trainX[0][-5:]}')\n",
        "\n",
        "\n",
        "print(f'Smiles string = {trainSmiles[2]}')\n",
        "print(f'Indices of second train SMILES = {trainX[2]}')\n",
        "print(f'Last five indices = {trainX[2][-5:]}')"
      ],
      "execution_count": 22,
      "outputs": [
        {
          "output_type": "stream",
          "text": [
            "Smiles string = N#CC1NC11C2CC1C2\n",
            "Indices of first train SMILES = [3, 6, 15, 15, 14, 3, 15, 14, 14, 15, 4, 15, 15, 14, 15, 4]\n",
            "Last five indices = [15, 15, 14, 15, 4]\n",
            "Smiles string = CC12CCC1CN1CC21\n",
            "Indices of second train SMILES = [15, 15, 14, 4, 15, 15, 15, 14, 15, 3, 14, 15, 15, 4, 14]\n",
            "Last five indices = [14, 15, 15, 4, 14]\n"
          ],
          "name": "stdout"
        }
      ]
    },
    {
      "cell_type": "code",
      "metadata": {
        "id": "HJspcAcEJHI1",
        "colab_type": "code",
        "outputId": "ad9912f6-642d-4943-f069-1287c87bda62",
        "colab": {
          "base_uri": "https://localhost:8080/",
          "height": 119
        }
      },
      "source": [
        "trainX = [seq[:max_len] + [padding_idx] * (max_len - len(seq)) for seq in trainX]\n",
        "\n",
        "print(f'Smiles string = {trainSmiles[0]}')\n",
        "print(f'Indices of first train SMILES = {trainX[0]}')\n",
        "print(f'Last five indices = {trainX[0][-5:]}')\n",
        "\n",
        "print(f'Smiles string = {trainSmiles[2]}')\n",
        "print(f'Indices of second train SMILES = {trainX[2]}')\n",
        "print(f'Last five indices = {trainX[2][-5:]}')\n"
      ],
      "execution_count": 23,
      "outputs": [
        {
          "output_type": "stream",
          "text": [
            "Smiles string = N#CC1NC11C2CC1C2\n",
            "Indices of first train SMILES = [3, 6, 15, 15, 14, 3, 15, 14, 14, 15, 4, 15, 15, 14, 15, 4, 0, 0, 0, 0, 0, 0, 0, 0, 0]\n",
            "Last five indices = [0, 0, 0, 0, 0]\n",
            "Smiles string = CC12CCC1CN1CC21\n",
            "Indices of second train SMILES = [15, 15, 14, 4, 15, 15, 15, 14, 15, 3, 14, 15, 15, 4, 14, 0, 0, 0, 0, 0, 0, 0, 0, 0, 0]\n",
            "Last five indices = [0, 0, 0, 0, 0]\n"
          ],
          "name": "stdout"
        }
      ]
    },
    {
      "cell_type": "code",
      "metadata": {
        "id": "u5XfDHgB4Dr6",
        "colab_type": "code",
        "colab": {}
      },
      "source": [
        "# Build Dataset\n",
        "train = QM9Dataset(trainX, trainY)\n",
        "\n",
        "# Build DataLoader\n",
        "train_loader = DataLoader(train, batch_size=batch_size, shuffle=True)"
      ],
      "execution_count": 0,
      "outputs": []
    },
    {
      "cell_type": "code",
      "metadata": {
        "id": "FN5UM5ie4J7E",
        "colab_type": "code",
        "colab": {}
      },
      "source": [
        "class LSTMModel(nn.Module):\n",
        "    def __init__(self, vocab_size, padding_idx, embedding_size, hidden_size, output_size, dropout):\n",
        "        super(LSTMModel, self).__init__()\n",
        "        \n",
        "        # Embedding layer\n",
        "        self.embed = nn.Embedding(vocab_size, embedding_size, padding_idx=padding_idx)\n",
        "        \n",
        "        # LSTM (RNN)\n",
        "        self.rnn_encoder = nn.LSTM(\n",
        "            input_size=embedding_size,\n",
        "            hidden_size=hidden_size,\n",
        "            batch_first=True\n",
        "        )\n",
        "        \n",
        "       # LSTM (RNN)\n",
        "        self.rnn_decoder = nn.LSTM(\n",
        "            input_size=hidden_size,\n",
        "            hidden_size=embedding_size,\n",
        "            batch_first=True\n",
        "        )\n",
        "\n",
        "        \n",
        "        # Fully connected layer\n",
        "        self.output = nn.Linear(hidden_size, output_size)\n",
        "        \n",
        "        # Dropout (regularization)\n",
        "      #  self.dropout = nn.Dropout(dropout)\n",
        "        \n",
        "    def forward(self, x):  # batch_size x seq_length\n",
        "        # Embed\n",
        "        embedded = self.embed(x)  # batch_size x seq_length x embedding_size\n",
        "         \n",
        "        # Run RNN\n",
        "        o, _ = self.rnn_encoder(embedded)  # batch_size x seq_length x hidden_size\n",
        "        m, _ = self.rnn_decoder(o)  # batch_size x seq_length x hidden_size\n",
        "          \n",
        "        # Dropout\n",
        "       # o = self.dropout(o)  # batch_size x seq_length x hidden_size\n",
        "        \n",
        "        # Max pooling across sequence\n",
        "        n, _ = torch.max(o, dim=1)    # batch_size x hidden_size\n",
        "        \n",
        "        # Output layer\n",
        "        out = self.output(n)  # batch_size x output_size\n",
        "        \n",
        "        return embedded, m,n"
      ],
      "execution_count": 0,
      "outputs": []
    },
    {
      "cell_type": "code",
      "metadata": {
        "id": "TpIoR5HG5U25",
        "colab_type": "code",
        "colab": {}
      },
      "source": [
        "from sklearn.model_selection import GridSearchCV, KFold, StratifiedKFold\n",
        "from sklearn.kernel_ridge import KernelRidge\n",
        "from sklearn import metrics\n",
        "from sklearn.metrics import mean_absolute_error\n",
        "from sklearn.model_selection import train_test_split\n",
        "\n",
        "\"\"\"Evaluates latent space quality via a linear regression downstream task.\"\"\"\n",
        "def linear_reg(X,Y,std):\n",
        "\n",
        "  X_train, X_test_validate, y_train, y_test_validate = train_test_split(X, Y, test_size=0.4, random_state=101)\n",
        "  X_valid, X_test, y_valid, y_test = train_test_split(X_test_validate, y_test_validate, test_size=0.5, random_state=101)\n",
        "  params = { 'kernel':['laplacian'],'alpha':[0.001, 0.01,0.1,1,10,100]}\n",
        "  #clf = GridSearchCV(KernelRidge(), params, cv=5,verbose=5)\n",
        "  clf = KernelRidge(alpha=0.001, kernel='laplacian',)\n",
        "  clf.fit(X_train, y_train)\n",
        "  y_pred=clf.predict(X_test)\n",
        "  y_predv=clf.predict(X_valid)\n",
        "  mae_test = mean_absolute_error(y_test,y_pred)*std \n",
        "  mae_val = mean_absolute_error(y_valid,y_predv)*std \n",
        "  return mae_val,mae_test\n",
        "\n",
        "\n",
        "def evaluate_embedding(embeddings, labels, std):\n",
        "    xa, ya= embeddings.cuda().cpu(),labels.cuda().cpu(),\n",
        "    x,y=np.array(xa.detach().numpy()),np.array(ya.detach().numpy())\n",
        "    #print(x.shape, y.shape)\n",
        "    val_accuracies,test_accuracies=linear_reg(x, y, std)\n",
        "\n",
        "    return np.mean(val_accuracies),np.mean(test_accuracies)"
      ],
      "execution_count": 0,
      "outputs": []
    },
    {
      "cell_type": "code",
      "metadata": {
        "id": "avGyl-kUoJPd",
        "colab_type": "code",
        "colab": {}
      },
      "source": [
        "def train(model, train_loader, optimizer, epoch, std):\n",
        "    model.train()  # Set the nn.Module to train mode. \n",
        "    total_loss = 0\n",
        "    total_mae = 0\n",
        "    num_samples = len(train_loader.dataset)\n",
        "    num_batches = 0\n",
        "    val=[]\n",
        "    test=[]\n",
        "    for batch_idx, (data, target) in enumerate(train_loader):  # 1) get batch\n",
        "        # Adjust dimensions of target and cast to float\n",
        "        target = target.unsqueeze(1).float()\n",
        "      \n",
        "        # Move to cuda\n",
        "        if next(model.parameters()).is_cuda:\n",
        "            data, target = data.cuda(), target.cuda()\n",
        "      \n",
        "        # Reset gradient data to 0\n",
        "        optimizer.zero_grad()\n",
        "        \n",
        "        # Get prediction for batch\n",
        "        embed,output,n = model(data)\n",
        "        \n",
        "        # 2) Compute loss\n",
        "        loss = F.mse_loss(output, embed)\n",
        "        \n",
        "        # 3) Do backprop\n",
        "        loss.backward()\n",
        "        \n",
        "        # 4) Update model\n",
        "        optimizer.step()\n",
        "        \n",
        "        y_v,y_t=evaluate_embedding(n, target, std)\n",
        "        # Do book-keeping to track rmse and avg loss\n",
        "        total_loss += loss.detach()  # Don't keep computation graph \n",
        "        num_batches += 1\n",
        "        val.append(y_v)\n",
        "        test.append(y_t)\n",
        "    y_v=np.mean(val)\n",
        "    y_t=np.mean(test)     \n",
        "    return (y_v,y_t)"
      ],
      "execution_count": 0,
      "outputs": []
    },
    {
      "cell_type": "code",
      "metadata": {
        "id": "lbbVrjVzmRSy",
        "colab_type": "code",
        "outputId": "93b6ab2c-a394-4a3b-ac94-8f3c1afee273",
        "colab": {
          "base_uri": "https://localhost:8080/",
          "height": 646
        }
      },
      "source": [
        "model = LSTMModel(vocab_size, padding_idx, embedding_size, hidden_size, output_size, dropout)\n",
        "print(model)\n",
        "print(f'Number of parameters = {param_count(model):,}')\n",
        "epochs=10\n",
        "# Move to cuda\n",
        "if use_cuda and torch.cuda.is_available():\n",
        "    model = model.cuda()\n",
        "    optimizer = optim.Adam(model.parameters(), lr=lr, weight_decay=weight_decay)\n",
        "\n",
        "optimizer = torch.optim.Adam(model.parameters(), lr=0.001)\n",
        "for epoch in range(1, epochs+1):\n",
        "    mae_v,mae_t = train(model, train_loader, optimizer, epoch,std)\n",
        "    print('Epoch: {}'.format(epoch))\n",
        "    print('Kernel Ridge Regression validation MAE : {}'.format(mae_v))\n",
        "    print('Kernel Ridge Regression testing MAE : {}'.format(mae_t))\n",
        "\n",
        "   "
      ],
      "execution_count": 28,
      "outputs": [
        {
          "output_type": "stream",
          "text": [
            "LSTMModel(\n",
            "  (embed): Embedding(19, 1, padding_idx=0)\n",
            "  (rnn_encoder): LSTM(1, 64, batch_first=True)\n",
            "  (rnn_decoder): LSTM(64, 1, batch_first=True)\n",
            "  (output): Linear(in_features=64, out_features=1, bias=True)\n",
            ")\n",
            "Number of parameters = 17,504\n",
            "Epoch: 1\n",
            "Kernel Ridge Regression validation MAE : 25.831427926943324\n",
            "Kernel Ridge Regression testing MAE : 25.70328891074025\n",
            "Epoch: 2\n",
            "Kernel Ridge Regression validation MAE : 24.605646489638428\n",
            "Kernel Ridge Regression testing MAE : 24.42634088106529\n",
            "Epoch: 3\n",
            "Kernel Ridge Regression validation MAE : 24.911086704112027\n",
            "Kernel Ridge Regression testing MAE : 24.835156506641066\n",
            "Epoch: 4\n",
            "Kernel Ridge Regression validation MAE : 24.73937784027495\n",
            "Kernel Ridge Regression testing MAE : 24.693238637412062\n",
            "Epoch: 5\n",
            "Kernel Ridge Regression validation MAE : 24.873354920065932\n",
            "Kernel Ridge Regression testing MAE : 24.047837603767743\n",
            "Epoch: 6\n",
            "Kernel Ridge Regression validation MAE : 24.543006207396793\n",
            "Kernel Ridge Regression testing MAE : 24.461741204498825\n",
            "Epoch: 7\n",
            "Kernel Ridge Regression validation MAE : 24.925455172818307\n",
            "Kernel Ridge Regression testing MAE : 24.306303256469853\n",
            "Epoch: 8\n",
            "Kernel Ridge Regression validation MAE : 24.726362461038583\n",
            "Kernel Ridge Regression testing MAE : 25.46868374022779\n",
            "Epoch: 9\n",
            "Kernel Ridge Regression validation MAE : 25.424165746989587\n",
            "Kernel Ridge Regression testing MAE : 25.51083310536668\n",
            "Epoch: 10\n",
            "Kernel Ridge Regression validation MAE : 25.542707154865557\n",
            "Kernel Ridge Regression testing MAE : 25.50084897521919\n"
          ],
          "name": "stdout"
        }
      ]
    }
  ]
}